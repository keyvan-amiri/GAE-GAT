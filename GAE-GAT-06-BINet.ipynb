{
 "cells": [
  {
   "cell_type": "code",
   "execution_count": null,
   "id": "51d8a7c6",
   "metadata": {},
   "outputs": [],
   "source": [
    "import arrow\n",
    "import socket\n",
    "from sqlalchemy.orm import Session\n",
    "from tqdm import tqdm\n",
    "\n",
    "from april import Evaluator\n",
    "from april.anomalydetection import *\n",
    "from april.database import EventLog\n",
    "from april.database import Model\n",
    "from april.database import get_engine\n",
    "from april.dataset import Dataset\n",
    "from april.fs import DATE_FORMAT\n",
    "from april.fs import get_event_log_files\n",
    "from pm4py.objects.log.importer.xes import importer as xes_importer\n",
    "import pandas as pd\n",
    "import pickle"
   ]
  },
  {
   "cell_type": "code",
   "execution_count": null,
   "id": "54ee30b3",
   "metadata": {},
   "outputs": [],
   "source": [
    "def common_member(a, b):   \n",
    "    a_set = set(a)\n",
    "    b_set = set(b)     \n",
    "    # check length\n",
    "    if len(a_set.intersection(b_set)) > 0:\n",
    "        return(a_set.intersection(b_set)) \n",
    "    else:\n",
    "        return(\"no common elements\")"
   ]
  },
  {
   "cell_type": "code",
   "execution_count": null,
   "id": "cc68a396",
   "metadata": {},
   "outputs": [],
   "source": [
    "def fit_and_save(dataset_name, ad, ad_kwargs=None, fit_kwargs=None):\n",
    "    if ad_kwargs is None:\n",
    "        ad_kwargs = {}\n",
    "    if fit_kwargs is None:\n",
    "        fit_kwargs = {}\n",
    "\n",
    "    # Save start time\n",
    "    start_time = arrow.now()\n",
    "\n",
    "    # Dataset\n",
    "    dataset = Dataset(dataset_name)\n",
    "\n",
    "    # AD\n",
    "    ad = ad(**ad_kwargs)\n",
    "\n",
    "    # Train and save\n",
    "    ad.fit(dataset, **fit_kwargs)\n",
    "    file_name = f'{dataset_name}_{ad.abbreviation}_{start_time.format(DATE_FORMAT)}'\n",
    "    model_file = ad.save(file_name)\n",
    "\n",
    "    # Save end time\n",
    "    end_time = arrow.now()\n",
    "    return ad"
   ]
  },
  {
   "cell_type": "code",
   "execution_count": null,
   "id": "b94bb57f",
   "metadata": {},
   "outputs": [],
   "source": [
    "def threshold_att (event_data, final_scores, alpha):\n",
    "    number_cases = len(event_data)\n",
    "    num_events = 0\n",
    "    for i in range (number_cases):\n",
    "        num_events += len(event_data[i])\n",
    "    temp = np.sum(final_scores, axis=0)\n",
    "    threshold_arr = np.sum(temp, axis=0)\n",
    "    threshold_arr = alpha*threshold_arr/num_events\n",
    "    return threshold_arr"
   ]
  },
  {
   "cell_type": "code",
   "execution_count": null,
   "id": "b279cde6",
   "metadata": {},
   "outputs": [],
   "source": [
    "datasets = sorted([e.name for e in get_event_log_files() if e.p == 0.3])\n",
    "ads = [dict(ad=BINetv2, fit_kwargs=dict(epochs=50, batch_size=100))]\n",
    "for ad in ads:\n",
    "    model = [fit_and_save(d, **ad) for d in tqdm(datasets, desc=ad['ad'].name)]"
   ]
  },
  {
   "cell_type": "code",
   "execution_count": null,
   "id": "a5a0e654",
   "metadata": {},
   "outputs": [],
   "source": [
    "datasets = sorted([e.name for e in get_event_log_files()])\n",
    "ads = [dict(ad=BINetv2, fit_kwargs=dict(epochs=50, batch_size=100))]\n",
    "for ad in ads:\n",
    "    model = [fit_and_save(d, **ad) for d in tqdm(datasets, desc=ad['ad'].name)]"
   ]
  },
  {
   "cell_type": "code",
   "execution_count": null,
   "id": "17ab837c",
   "metadata": {},
   "outputs": [],
   "source": [
    "print(model)\n",
    "p1 = Evaluator(r'C:\\Users\\ASUS\\.out\\models\\wide-0.1-1_binetv2_20220711-231436.646890.model').result\n",
    "print(dir(Evaluator))\n",
    "print(p1)\n",
    "final_scores = p1.scores\n",
    "print(final_scores.shape)\n",
    "print(type(final_scores))"
   ]
  },
  {
   "cell_type": "code",
   "execution_count": null,
   "id": "ecc80bd6",
   "metadata": {},
   "outputs": [],
   "source": [
    "event_log_path = r'D:\\Final master thesis evaluation\\datasets\\5\\wide-0.1-1.xes'\n",
    "event_data = xes_importer.apply(event_log_path)"
   ]
  },
  {
   "cell_type": "code",
   "execution_count": null,
   "id": "b30d15e5",
   "metadata": {},
   "outputs": [],
   "source": [
    "label_csv = pd.read_csv(r'D:\\Final master thesis evaluation\\wide-five\\wide-0.1-1.csv')\n",
    "loss_df_path  = r'D:\\Final master thesis evaluation\\wide-five\\binet_loss.pt'\n",
    "label_csv.drop(\"Unnamed: 0\", axis=1, inplace=True)\n",
    "label_csv[\"case_id\"] = pd.to_numeric(label_csv[\"case_id\"])\n",
    "label_csv.case_id.astype(str).astype(int)\n",
    "label_csv.label.astype(str)\n",
    "test_csv = label_csv.loc[label_csv['case_id'] > 12000]\n",
    "label_csv1 = test_csv.loc[test_csv['label']!= 'normal']\n",
    "M = list(label_csv1['case_id'])\n",
    "print(len(test_csv))\n",
    "print(len(label_csv1))\n",
    "#print(M)"
   ]
  }
 ],
 "metadata": {
  "kernelspec": {
   "display_name": "Python 3 (ipykernel)",
   "language": "python",
   "name": "python3"
  },
  "language_info": {
   "codemirror_mode": {
    "name": "ipython",
    "version": 3
   },
   "file_extension": ".py",
   "mimetype": "text/x-python",
   "name": "python",
   "nbconvert_exporter": "python",
   "pygments_lexer": "ipython3",
   "version": "3.9.7"
  }
 },
 "nbformat": 4,
 "nbformat_minor": 5
}
