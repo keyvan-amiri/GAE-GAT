{
 "cells": [
  {
   "cell_type": "code",
   "execution_count": 1,
   "id": "e732e07a",
   "metadata": {},
   "outputs": [],
   "source": [
    "import json\n",
    "import glob\n",
    "from os import listdir\n",
    "from os.path import isfile, join\n",
    "import os.path as osp\n",
    "import copy\n",
    "import os\n",
    "import pickle\n",
    "from datetime import datetime\n",
    "import random\n",
    "from pm4py.objects.conversion.log import converter as log_converter\n",
    "from pm4py.objects.log.exporter.xes import exporter as xes_exporter\n",
    "from pm4py.objects.log.importer.xes import importer as xes_importer\n",
    "from pm4py.algo.filtering.log.attributes import attributes_filter\n",
    "import numpy as np\n",
    "from sklearn.preprocessing import OneHotEncoder\n",
    "from sklearn import metrics\n",
    "import pandas as pd\n",
    "import torch\n",
    "import torch.nn as nn\n",
    "import torch.nn.functional as F\n",
    "from torch_geometric.data import Dataset, Data\n",
    "from torch_geometric.loader import DataLoader\n",
    "from torch_geometric.nn import NNConv\n",
    "from torch_geometric.nn import GATv2Conv\n",
    "import matplotlib.pyplot as plt\n",
    "from matplotlib.pyplot import figure"
   ]
  },
  {
   "cell_type": "code",
   "execution_count": 2,
   "id": "acc48670",
   "metadata": {},
   "outputs": [],
   "source": [
    "def nextplot(force=False):\n",
    "    \"\"\"Start a new plot.\n",
    "\n",
    "    In a notebook (or if `force=True`), create a new figure. Otherwise (e.g, in\n",
    "    IPython), clear the current figure.\n",
    "\n",
    "    \"\"\"\n",
    "    inNotebook = \"IPKernelApp\" in get_ipython().config\n",
    "    if force or inNotebook:\n",
    "        plt.figure()  # this creates a new plot\n",
    "    else:\n",
    "        plt.clf()  # and this clears the current one"
   ]
  },
  {
   "cell_type": "code",
   "execution_count": 6,
   "id": "61c5a433",
   "metadata": {},
   "outputs": [
    {
     "data": {
      "text/html": [
       "<div>\n",
       "<style scoped>\n",
       "    .dataframe tbody tr th:only-of-type {\n",
       "        vertical-align: middle;\n",
       "    }\n",
       "\n",
       "    .dataframe tbody tr th {\n",
       "        vertical-align: top;\n",
       "    }\n",
       "\n",
       "    .dataframe thead th {\n",
       "        text-align: right;\n",
       "    }\n",
       "</style>\n",
       "<table border=\"1\" class=\"dataframe\">\n",
       "  <thead>\n",
       "    <tr style=\"text-align: right;\">\n",
       "      <th></th>\n",
       "      <th>case_id</th>\n",
       "      <th>label</th>\n",
       "    </tr>\n",
       "  </thead>\n",
       "  <tbody>\n",
       "    <tr>\n",
       "      <th>9000</th>\n",
       "      <td>9001</td>\n",
       "      <td>normal</td>\n",
       "    </tr>\n",
       "  </tbody>\n",
       "</table>\n",
       "</div>"
      ],
      "text/plain": [
       "      case_id   label\n",
       "9000     9001  normal"
      ]
     },
     "execution_count": 6,
     "metadata": {},
     "output_type": "execute_result"
    }
   ],
   "source": [
    "# import the truth label vactor\n",
    "truth_label_path = r'D:\\Final master thesis evaluation\\exp1\\large-0.1-1.csv'\n",
    "label_csv = pd.read_csv(truth_label_path)\n",
    "label_csv.drop(\"Unnamed: 0\", axis=1, inplace=True)\n",
    "label_csv[\"case_id\"] = pd.to_numeric(label_csv[\"case_id\"])\n",
    "label_csv.case_id.astype(str).astype(int)\n",
    "label_csv.label.astype(str)\n",
    "#label_csv.dtypes\n",
    "validation_csv = label_csv.loc[label_csv['case_id'] > 9000]\n",
    "validation_csv = validation_csv.loc[label_csv['case_id'] < 12001]\n",
    "test_csv =  label_csv.loc[label_csv['case_id'] > 12000]\n",
    "validation_csv.head(1)"
   ]
  },
  {
   "cell_type": "code",
   "execution_count": 7,
   "id": "77c74930",
   "metadata": {},
   "outputs": [],
   "source": [
    "# import final anomaly scores\n",
    "anomaly_scores_path = r'D:\\Final master thesis evaluation\\exp1\\models\\GATl1h1nl_loss.pt'\n",
    "anomaly_scores_path = r'D:\\Final master thesis evaluation\\exp1\\models\\GATL1h1wl_loss.pt'\n",
    "anomaly_scores_path = r'D:\\Final master thesis evaluation\\exp1\\models\\GATL1h4nl_loss.pt'\n",
    "anomaly_scores_path = r'D:\\Final master thesis evaluation\\exp1\\models\\GATL1h4wl_loss.pt'\n",
    "anomaly_scores_path = r'D:\\Final master thesis evaluation\\exp1\\models\\GATL2h1nl_loss.pt'\n",
    "anomaly_scores_path = r'D:\\Final master thesis evaluation\\exp1\\models\\GATL2h1wl_loss.pt'\n",
    "anomaly_scores_path = r'D:\\Final master thesis evaluation\\exp1\\models\\GATL2h4nl_loss.pt'\n",
    "anomaly_scores_path = r'D:\\Final master thesis evaluation\\exp1\\models\\GATL2h4wl_loss.pt'\n",
    "anomaly_scores_path = r'D:\\Final master thesis evaluation\\exp1\\models\\GATL3h1nl_loss.pt'\n",
    "anomaly_scores_path = r'D:\\Final master thesis evaluation\\exp1\\models\\GATL3h1wl_loss.pt'\n",
    "anomaly_scores_path = r'D:\\Final master thesis evaluation\\exp1\\models\\GATL3h4nl_loss.pt'\n",
    "anomaly_scores_path = r'D:\\Final master thesis evaluation\\exp1\\models\\GATL3h4wl_loss.pt'\n",
    "anomaly_scores_path = r'D:\\Final master thesis evaluation\\exp2\\bestgatmodl_test_loss.pt'\n",
    "\n",
    "loss_df = pd.read_pickle(anomaly_scores_path)\n",
    "# normalize anomaly scores\n",
    "normalized_loss_df = loss_df.copy()\n",
    "normalized_loss_df['Loss'] = (normalized_loss_df['Loss'] - normalized_loss_df['Loss'].min()) / (normalized_loss_df['Loss'].max() - normalized_loss_df['Loss'].min())\n",
    "# sort the normalized scores\n",
    "sorted_loss = normalized_loss_df.sort_values(by=['Loss'], ascending = False, ignore_index = True)"
   ]
  },
  {
   "cell_type": "code",
   "execution_count": 77,
   "id": "cd4ae079",
   "metadata": {},
   "outputs": [
    {
     "name": "stdout",
     "output_type": "stream",
     "text": [
      "first false positive: 248\n",
      "[331, 0.9156626506024096, 0.7657430730478589, 0.8340192043895748, 0.9651424287856072, 0.9892431809450634, 0.9770442041358375, 0.9055317042627061]\n"
     ]
    }
   ],
   "source": [
    "loss_df[\"case_id\"] = pd.to_numeric(loss_df[\"case_id\"])\n",
    "result = pd.merge(loss_df, validation_csv, on=[\"case_id\"])\n",
    "sorted_result = result.sort_values(by=['Loss'], ascending = False, ignore_index = True)\n",
    "sorted_list = sorted_result['label'].tolist()\n",
    "predictions = []\n",
    "for j in range (len(sorted_list)):\n",
    "    if sorted_list[j] == 'normal':\n",
    "        predictions.append(0)\n",
    "    else:\n",
    "        predictions.append(1)\n",
    "prediction_array = np.array(predictions)\n",
    "best_score = 0\n",
    "first_fp = True\n",
    "for j in range (len(sorted_list)):\n",
    "    current_alarms = prediction_array[0:j+1]\n",
    "    current_normals = prediction_array[j+1:]\n",
    "    positives = j+1\n",
    "    true_positives = np.sum(current_alarms)\n",
    "    false_positives = positives - true_positives\n",
    "    if first_fp and false_positives > 0:\n",
    "        first_fp = False\n",
    "        print('first false positive:', j)\n",
    "    negatives = 3000 - positives\n",
    "    false_negatives = np.sum(current_normals)\n",
    "    true_negatives = negatives - false_negatives\n",
    "    precision = true_positives/(true_positives+false_positives)\n",
    "    recall = true_positives/(true_positives+false_negatives)\n",
    "    f1_score = 2*precision*recall/(precision+recall)\n",
    "    if f1_score > best_score:\n",
    "        best_score = f1_score\n",
    "        precision_on_normal = true_negatives/(true_negatives+false_negatives)\n",
    "        recall_on_normal = true_negatives/(true_negatives+false_positives)\n",
    "        f1_score_on_normal = 2*precision_on_normal*recall_on_normal/(precision_on_normal+recall_on_normal)\n",
    "        macro_f1_score = (f1_score + f1_score_on_normal)/2\n",
    "        best_cut = [j, precision, recall, f1_score, precision_on_normal, recall_on_normal,\n",
    "                    f1_score_on_normal, macro_f1_score]    \n",
    "print(best_cut)"
   ]
  },
  {
   "cell_type": "code",
   "execution_count": 78,
   "id": "c903d8b8",
   "metadata": {},
   "outputs": [
    {
     "data": {
      "image/png": "[encoded data removed]",
      "text/plain": [
       "<Figure size 432x288 with 1 Axes>"
      ]
     },
     "metadata": {
      "needs_background": "light"
     },
     "output_type": "display_data"
    }
   ],
   "source": [
    "loss_list = sorted_loss['Loss'].tolist()\n",
    "y_axis = np.array(loss_list)\n",
    "x_axis = np.arange(len(validation_csv))\n",
    "nextplot()\n",
    "plt.xlabel(\"Loss-rank\")\n",
    "plt.ylabel(\"Normalized Loss\")\n",
    "plt.plot(x_axis, y_axis)\n",
    "plt.show()"
   ]
  },
  {
   "cell_type": "code",
   "execution_count": 79,
   "id": "8646340e",
   "metadata": {},
   "outputs": [
    {
     "data": {
      "image/png": "[encoded data removed]",
      "text/plain": [
       "<Figure size 432x288 with 1 Axes>"
      ]
     },
     "metadata": {
      "needs_background": "light"
     },
     "output_type": "display_data"
    }
   ],
   "source": [
    "y2_axis = y_axis[300:400]\n",
    "x_axis = np.arange(300,400)\n",
    "plt.xlabel(\"Loss-rank\")\n",
    "plt.ylabel(\"Normalized Loss\")\n",
    "plt.plot(x_axis, y2_axis)\n",
    "plt.show()"
   ]
  },
  {
   "cell_type": "code",
   "execution_count": 80,
   "id": "c6568ff4",
   "metadata": {},
   "outputs": [
    {
     "data": {
      "image/png": "[encoded data removed]",
      "text/plain": [
       "<Figure size 432x288 with 1 Axes>"
      ]
     },
     "metadata": {
      "needs_background": "light"
     },
     "output_type": "display_data"
    }
   ],
   "source": [
    "y2_axis = y_axis[310:380]\n",
    "x_axis = np.arange(310,380)\n",
    "plt.xlabel(\"Loss-rank\")\n",
    "plt.ylabel(\"Normalized Loss\")\n",
    "plt.plot(x_axis, y2_axis)\n",
    "plt.show()"
   ]
  },
  {
   "cell_type": "code",
   "execution_count": 81,
   "id": "2c21cd66",
   "metadata": {},
   "outputs": [
    {
     "name": "stdout",
     "output_type": "stream",
     "text": [
      "[310, 0.9389067524115756, 0.7355163727959698, 0.824858757062147, 0.9609520267757531, 0.9927007299270073, 0.9765684051398338, 0.9007135811009903]\n",
      "false positives 19\n"
     ]
    }
   ],
   "source": [
    "j= 310\n",
    "current_alarms = prediction_array[0:j+1]\n",
    "current_normals = prediction_array[j+1:]\n",
    "positives = j+1\n",
    "true_positives = np.sum(current_alarms)\n",
    "false_positives = positives - true_positives\n",
    "negatives = 3000 - positives\n",
    "false_negatives = np.sum(current_normals)\n",
    "true_negatives = negatives - false_negatives\n",
    "precision = true_positives/(true_positives+false_positives)\n",
    "recall = true_positives/(true_positives+false_negatives)\n",
    "f1_score = 2*precision*recall/(precision+recall)\n",
    "best_score = f1_score\n",
    "precision_on_normal = true_negatives/(true_negatives+false_negatives)\n",
    "recall_on_normal = true_negatives/(true_negatives+false_positives)\n",
    "f1_score_on_normal = 2*precision_on_normal*recall_on_normal/(precision_on_normal+recall_on_normal)\n",
    "macro_f1_score = (f1_score + f1_score_on_normal)/2\n",
    "best_cut = [j, precision, recall, f1_score, precision_on_normal, recall_on_normal,\n",
    "            f1_score_on_normal, macro_f1_score]    \n",
    "print(best_cut)\n",
    "print('false positives', false_positives)"
   ]
  },
  {
   "cell_type": "code",
   "execution_count": 82,
   "id": "9088f589",
   "metadata": {},
   "outputs": [
    {
     "name": "stdout",
     "output_type": "stream",
     "text": [
      "[310, 0.9389067524115756, 0.7355163727959698, 0.824858757062147, 0.9609520267757531, 0.9927007299270073, 0.9765684051398338, 0.9007135811009903]\n"
     ]
    }
   ],
   "source": [
    "j= 310\n",
    "search_more = True\n",
    "while search_more:    \n",
    "    current_alarms = prediction_array[0:j+1]\n",
    "    current_normals = prediction_array[j+1:]\n",
    "    positives = j+1\n",
    "    true_positives = np.sum(current_alarms)\n",
    "    false_positives = positives - true_positives\n",
    "    if (false_positives/positives > 0.03):\n",
    "        search_more = False\n",
    "    negatives = 3000 - positives\n",
    "    false_negatives = np.sum(current_normals)\n",
    "    true_negatives = negatives - false_negatives\n",
    "    precision = true_positives/(true_positives+false_positives)\n",
    "    recall = true_positives/(true_positives+false_negatives)\n",
    "    f1_score = 2*precision*recall/(precision+recall)\n",
    "    best_score = f1_score\n",
    "    precision_on_normal = true_negatives/(true_negatives+false_negatives)\n",
    "    recall_on_normal = true_negatives/(true_negatives+false_positives)\n",
    "    f1_score_on_normal = 2*precision_on_normal*recall_on_normal/(precision_on_normal+recall_on_normal)\n",
    "    macro_f1_score = (f1_score + f1_score_on_normal)/2\n",
    "    best_cut = [j, precision, recall, f1_score, precision_on_normal, recall_on_normal,\n",
    "                f1_score_on_normal, macro_f1_score]\n",
    "    j += 1   \n",
    "print(best_cut)"
   ]
  },
  {
   "cell_type": "code",
   "execution_count": 8,
   "id": "88454c05",
   "metadata": {},
   "outputs": [
    {
     "name": "stdout",
     "output_type": "stream",
     "text": [
      "first false positive: 284\n",
      "[370, 0.9973045822102425, 0.8525345622119815, 0.919254658385093, 0.9756561430201598, 0.9996102883865939, 0.9874879692011549, 0.9533713137931239]\n"
     ]
    }
   ],
   "source": [
    "loss_df[\"case_id\"] = pd.to_numeric(loss_df[\"case_id\"])\n",
    "result = pd.merge(loss_df, test_csv, on=[\"case_id\"])\n",
    "sorted_result = result.sort_values(by=['Loss'], ascending = False, ignore_index = True)\n",
    "sorted_list = sorted_result['label'].tolist()\n",
    "predictions = []\n",
    "for j in range (len(sorted_list)):\n",
    "    if sorted_list[j] == 'normal':\n",
    "        predictions.append(0)\n",
    "    else:\n",
    "        predictions.append(1)\n",
    "prediction_array = np.array(predictions)\n",
    "best_score = 0\n",
    "first_fp = True\n",
    "for j in range (len(sorted_list)):\n",
    "    current_alarms = prediction_array[0:j+1]\n",
    "    current_normals = prediction_array[j+1:]\n",
    "    positives = j+1\n",
    "    true_positives = np.sum(current_alarms)\n",
    "    false_positives = positives - true_positives\n",
    "    if first_fp and false_positives > 0:\n",
    "        first_fp = False\n",
    "        print('first false positive:', j)\n",
    "    negatives = 3000 - positives\n",
    "    false_negatives = np.sum(current_normals)\n",
    "    true_negatives = negatives - false_negatives\n",
    "    precision = true_positives/(true_positives+false_positives)\n",
    "    recall = true_positives/(true_positives+false_negatives)\n",
    "    f1_score = 2*precision*recall/(precision+recall)\n",
    "    if f1_score > best_score:\n",
    "        best_score = f1_score\n",
    "        precision_on_normal = true_negatives/(true_negatives+false_negatives)\n",
    "        recall_on_normal = true_negatives/(true_negatives+false_positives)\n",
    "        f1_score_on_normal = 2*precision_on_normal*recall_on_normal/(precision_on_normal+recall_on_normal)\n",
    "        macro_f1_score = (f1_score + f1_score_on_normal)/2\n",
    "        best_cut = [j, precision, recall, f1_score, precision_on_normal, recall_on_normal,\n",
    "                    f1_score_on_normal, macro_f1_score]    \n",
    "print(best_cut)"
   ]
  },
  {
   "cell_type": "code",
   "execution_count": 9,
   "id": "cfaf3003",
   "metadata": {},
   "outputs": [
    {
     "data": {
      "image/png": "[encoded data removed]",
      "text/plain": [
       "<Figure size 432x288 with 1 Axes>"
      ]
     },
     "metadata": {
      "needs_background": "light"
     },
     "output_type": "display_data"
    }
   ],
   "source": [
    "loss_list = sorted_loss['Loss'].tolist()\n",
    "y_axis = np.array(loss_list)\n",
    "x_axis = np.arange(len(validation_csv))\n",
    "nextplot()\n",
    "plt.xlabel(\"Loss-rank\")\n",
    "plt.ylabel(\"Normalized Loss\")\n",
    "plt.plot(x_axis, y_axis)\n",
    "plt.show()"
   ]
  },
  {
   "cell_type": "code",
   "execution_count": 10,
   "id": "4711097b",
   "metadata": {},
   "outputs": [
    {
     "data": {
      "image/png": "[encoded data removed]",
      "text/plain": [
       "<Figure size 432x288 with 1 Axes>"
      ]
     },
     "metadata": {
      "needs_background": "light"
     },
     "output_type": "display_data"
    }
   ],
   "source": [
    "y2_axis = y_axis[300:400]\n",
    "x_axis = np.arange(300,400)\n",
    "plt.xlabel(\"Loss-rank\")\n",
    "plt.ylabel(\"Normalized Loss\")\n",
    "plt.plot(x_axis, y2_axis)\n",
    "plt.show()"
   ]
  },
  {
   "cell_type": "code",
   "execution_count": 11,
   "id": "787792b9",
   "metadata": {},
   "outputs": [
    {
     "data": {
      "image/png": "[encoded data removed]",
      "text/plain": [
       "<Figure size 432x288 with 1 Axes>"
      ]
     },
     "metadata": {
      "needs_background": "light"
     },
     "output_type": "display_data"
    }
   ],
   "source": [
    "y2_axis = y_axis[365:380]\n",
    "x_axis = np.arange(365,380)\n",
    "plt.xlabel(\"Loss-rank\")\n",
    "plt.ylabel(\"Normalized Loss\")\n",
    "plt.plot(x_axis, y2_axis)\n",
    "plt.show()"
   ]
  },
  {
   "cell_type": "code",
   "execution_count": 12,
   "id": "9a956ee5",
   "metadata": {},
   "outputs": [
    {
     "name": "stdout",
     "output_type": "stream",
     "text": [
      "[374, 0.9893333333333333, 0.8548387096774194, 0.9171817058096415, 0.976, 0.9984411535463756, 0.9870930456559429, 0.9521373757327922]\n",
      "false positives 4\n"
     ]
    }
   ],
   "source": [
    "j= 374\n",
    "current_alarms = prediction_array[0:j+1]\n",
    "current_normals = prediction_array[j+1:]\n",
    "positives = j+1\n",
    "true_positives = np.sum(current_alarms)\n",
    "false_positives = positives - true_positives\n",
    "negatives = 3000 - positives\n",
    "false_negatives = np.sum(current_normals)\n",
    "true_negatives = negatives - false_negatives\n",
    "precision = true_positives/(true_positives+false_positives)\n",
    "recall = true_positives/(true_positives+false_negatives)\n",
    "f1_score = 2*precision*recall/(precision+recall)\n",
    "best_score = f1_score\n",
    "precision_on_normal = true_negatives/(true_negatives+false_negatives)\n",
    "recall_on_normal = true_negatives/(true_negatives+false_positives)\n",
    "f1_score_on_normal = 2*precision_on_normal*recall_on_normal/(precision_on_normal+recall_on_normal)\n",
    "macro_f1_score = (f1_score + f1_score_on_normal)/2\n",
    "best_cut = [j, precision, recall, f1_score, precision_on_normal, recall_on_normal,\n",
    "            f1_score_on_normal, macro_f1_score]    \n",
    "print(best_cut)\n",
    "print('false positives', false_positives)"
   ]
  },
  {
   "cell_type": "markdown",
   "id": "d489c20d",
   "metadata": {},
   "source": [
    "GAt Large 15% as the previous cell. Now large 30%"
   ]
  },
  {
   "cell_type": "code",
   "execution_count": 14,
   "id": "858e2a70",
   "metadata": {},
   "outputs": [
    {
     "data": {
      "text/html": [
       "<div>\n",
       "<style scoped>\n",
       "    .dataframe tbody tr th:only-of-type {\n",
       "        vertical-align: middle;\n",
       "    }\n",
       "\n",
       "    .dataframe tbody tr th {\n",
       "        vertical-align: top;\n",
       "    }\n",
       "\n",
       "    .dataframe thead th {\n",
       "        text-align: right;\n",
       "    }\n",
       "</style>\n",
       "<table border=\"1\" class=\"dataframe\">\n",
       "  <thead>\n",
       "    <tr style=\"text-align: right;\">\n",
       "      <th></th>\n",
       "      <th>case_id</th>\n",
       "      <th>label</th>\n",
       "    </tr>\n",
       "  </thead>\n",
       "  <tbody>\n",
       "    <tr>\n",
       "      <th>9000</th>\n",
       "      <td>9001</td>\n",
       "      <td>normal</td>\n",
       "    </tr>\n",
       "  </tbody>\n",
       "</table>\n",
       "</div>"
      ],
      "text/plain": [
       "      case_id   label\n",
       "9000     9001  normal"
      ]
     },
     "execution_count": 14,
     "metadata": {},
     "output_type": "execute_result"
    }
   ],
   "source": [
    "# import the truth label vactor\n",
    "truth_label_path = r'D:\\Final master thesis evaluation\\large-thirty\\large-0.3-1.csv'\n",
    "anomaly_scores_path = r'D:\\Final master thesis evaluation\\large-thirty\\large30besthp_test_loss.pt'\n",
    "label_csv = pd.read_csv(truth_label_path)\n",
    "label_csv.drop(\"Unnamed: 0\", axis=1, inplace=True)\n",
    "label_csv[\"case_id\"] = pd.to_numeric(label_csv[\"case_id\"])\n",
    "label_csv.case_id.astype(str).astype(int)\n",
    "label_csv.label.astype(str)\n",
    "#label_csv.dtypes\n",
    "validation_csv = label_csv.loc[label_csv['case_id'] > 9000]\n",
    "validation_csv = validation_csv.loc[label_csv['case_id'] < 12001]\n",
    "test_csv =  label_csv.loc[label_csv['case_id'] > 12000]\n",
    "validation_csv.head(1)"
   ]
  },
  {
   "cell_type": "code",
   "execution_count": 15,
   "id": "fbe5b09f",
   "metadata": {},
   "outputs": [],
   "source": [
    "loss_df = pd.read_pickle(anomaly_scores_path)\n",
    "# normalize anomaly scores\n",
    "normalized_loss_df = loss_df.copy()\n",
    "normalized_loss_df['Loss'] = (normalized_loss_df['Loss'] - normalized_loss_df['Loss'].min()) / (normalized_loss_df['Loss'].max() - normalized_loss_df['Loss'].min())\n",
    "# sort the normalized scores\n",
    "sorted_loss = normalized_loss_df.sort_values(by=['Loss'], ascending = False, ignore_index = True)"
   ]
  },
  {
   "cell_type": "code",
   "execution_count": 16,
   "id": "0f3d6ff4",
   "metadata": {},
   "outputs": [
    {
     "name": "stdout",
     "output_type": "stream",
     "text": [
      "first false positive: 739\n",
      "[785, 0.989821882951654, 0.8790960451977401, 0.9311789347695991, 0.9516711833785004, 0.9962174940898345, 0.9734349734349733, 0.9523069541022862]\n"
     ]
    }
   ],
   "source": [
    "loss_df[\"case_id\"] = pd.to_numeric(loss_df[\"case_id\"])\n",
    "result = pd.merge(loss_df, test_csv, on=[\"case_id\"])\n",
    "sorted_result = result.sort_values(by=['Loss'], ascending = False, ignore_index = True)\n",
    "sorted_list = sorted_result['label'].tolist()\n",
    "predictions = []\n",
    "for j in range (len(sorted_list)):\n",
    "    if sorted_list[j] == 'normal':\n",
    "        predictions.append(0)\n",
    "    else:\n",
    "        predictions.append(1)\n",
    "prediction_array = np.array(predictions)\n",
    "best_score = 0\n",
    "first_fp = True\n",
    "for j in range (len(sorted_list)):\n",
    "    current_alarms = prediction_array[0:j+1]\n",
    "    current_normals = prediction_array[j+1:]\n",
    "    positives = j+1\n",
    "    true_positives = np.sum(current_alarms)\n",
    "    false_positives = positives - true_positives\n",
    "    if first_fp and false_positives > 0:\n",
    "        first_fp = False\n",
    "        print('first false positive:', j)\n",
    "    negatives = 3000 - positives\n",
    "    false_negatives = np.sum(current_normals)\n",
    "    true_negatives = negatives - false_negatives\n",
    "    precision = true_positives/(true_positives+false_positives)\n",
    "    recall = true_positives/(true_positives+false_negatives)\n",
    "    f1_score = 2*precision*recall/(precision+recall)\n",
    "    if f1_score > best_score:\n",
    "        best_score = f1_score\n",
    "        precision_on_normal = true_negatives/(true_negatives+false_negatives)\n",
    "        recall_on_normal = true_negatives/(true_negatives+false_positives)\n",
    "        f1_score_on_normal = 2*precision_on_normal*recall_on_normal/(precision_on_normal+recall_on_normal)\n",
    "        macro_f1_score = (f1_score + f1_score_on_normal)/2\n",
    "        best_cut = [j, precision, recall, f1_score, precision_on_normal, recall_on_normal,\n",
    "                    f1_score_on_normal, macro_f1_score]    \n",
    "print(best_cut)"
   ]
  },
  {
   "cell_type": "code",
   "execution_count": 17,
   "id": "3f48bb8b",
   "metadata": {},
   "outputs": [
    {
     "data": {
      "image/png": "[encoded data removed]",
      "text/plain": [
       "<Figure size 432x288 with 1 Axes>"
      ]
     },
     "metadata": {
      "needs_background": "light"
     },
     "output_type": "display_data"
    }
   ],
   "source": [
    "loss_list = sorted_loss['Loss'].tolist()\n",
    "y_axis = np.array(loss_list)\n",
    "x_axis = np.arange(len(validation_csv))\n",
    "nextplot()\n",
    "plt.xlabel(\"Loss-rank\")\n",
    "plt.ylabel(\"Normalized Loss\")\n",
    "plt.plot(x_axis, y_axis)\n",
    "plt.show()"
   ]
  },
  {
   "cell_type": "code",
   "execution_count": 18,
   "id": "1e962104",
   "metadata": {},
   "outputs": [
    {
     "data": {
      "image/png": "[encoded data removed]",
      "text/plain": [
       "<Figure size 432x288 with 1 Axes>"
      ]
     },
     "metadata": {
      "needs_background": "light"
     },
     "output_type": "display_data"
    }
   ],
   "source": [
    "y2_axis = y_axis[700:800]\n",
    "x_axis = np.arange(700,800)\n",
    "plt.xlabel(\"Loss-rank\")\n",
    "plt.ylabel(\"Normalized Loss\")\n",
    "plt.plot(x_axis, y2_axis)\n",
    "plt.show()"
   ]
  },
  {
   "cell_type": "code",
   "execution_count": 20,
   "id": "6039c931",
   "metadata": {},
   "outputs": [
    {
     "data": {
      "image/png": "[encoded data removed]",
      "text/plain": [
       "<Figure size 432x288 with 1 Axes>"
      ]
     },
     "metadata": {
      "needs_background": "light"
     },
     "output_type": "display_data"
    }
   ],
   "source": [
    "y2_axis = y_axis[750:760]\n",
    "x_axis = np.arange(750,760)\n",
    "plt.xlabel(\"Loss-rank\")\n",
    "plt.ylabel(\"Normalized Loss\")\n",
    "plt.plot(x_axis, y2_axis)\n",
    "plt.show()"
   ]
  },
  {
   "cell_type": "code",
   "execution_count": 21,
   "id": "f96a69bb",
   "metadata": {},
   "outputs": [
    {
     "name": "stdout",
     "output_type": "stream",
     "text": [
      "[752, 0.99867197875166, 0.8497175141242937, 0.918192918192918, 0.940809968847352, 0.9995271867612293, 0.9692801467216874, 0.9437365324573027]\n",
      "false positives 1\n"
     ]
    }
   ],
   "source": [
    "j= 752\n",
    "current_alarms = prediction_array[0:j+1]\n",
    "current_normals = prediction_array[j+1:]\n",
    "positives = j+1\n",
    "true_positives = np.sum(current_alarms)\n",
    "false_positives = positives - true_positives\n",
    "negatives = 3000 - positives\n",
    "false_negatives = np.sum(current_normals)\n",
    "true_negatives = negatives - false_negatives\n",
    "precision = true_positives/(true_positives+false_positives)\n",
    "recall = true_positives/(true_positives+false_negatives)\n",
    "f1_score = 2*precision*recall/(precision+recall)\n",
    "best_score = f1_score\n",
    "precision_on_normal = true_negatives/(true_negatives+false_negatives)\n",
    "recall_on_normal = true_negatives/(true_negatives+false_positives)\n",
    "f1_score_on_normal = 2*precision_on_normal*recall_on_normal/(precision_on_normal+recall_on_normal)\n",
    "macro_f1_score = (f1_score + f1_score_on_normal)/2\n",
    "best_cut = [j, precision, recall, f1_score, precision_on_normal, recall_on_normal,\n",
    "            f1_score_on_normal, macro_f1_score]    \n",
    "print(best_cut)\n",
    "print('false positives', false_positives)"
   ]
  },
  {
   "cell_type": "markdown",
   "id": "b5589cd4",
   "metadata": {},
   "source": [
    "Gat Wide 30%"
   ]
  },
  {
   "cell_type": "code",
   "execution_count": 22,
   "id": "ea5562e2",
   "metadata": {},
   "outputs": [
    {
     "data": {
      "text/html": [
       "<div>\n",
       "<style scoped>\n",
       "    .dataframe tbody tr th:only-of-type {\n",
       "        vertical-align: middle;\n",
       "    }\n",
       "\n",
       "    .dataframe tbody tr th {\n",
       "        vertical-align: top;\n",
       "    }\n",
       "\n",
       "    .dataframe thead th {\n",
       "        text-align: right;\n",
       "    }\n",
       "</style>\n",
       "<table border=\"1\" class=\"dataframe\">\n",
       "  <thead>\n",
       "    <tr style=\"text-align: right;\">\n",
       "      <th></th>\n",
       "      <th>case_id</th>\n",
       "      <th>label</th>\n",
       "    </tr>\n",
       "  </thead>\n",
       "  <tbody>\n",
       "    <tr>\n",
       "      <th>9000</th>\n",
       "      <td>9001</td>\n",
       "      <td>{'anomaly': 'Late', 'attr': {'shift_from': 0, ...</td>\n",
       "    </tr>\n",
       "  </tbody>\n",
       "</table>\n",
       "</div>"
      ],
      "text/plain": [
       "      case_id                                              label\n",
       "9000     9001  {'anomaly': 'Late', 'attr': {'shift_from': 0, ..."
      ]
     },
     "execution_count": 22,
     "metadata": {},
     "output_type": "execute_result"
    }
   ],
   "source": [
    "# import the truth label vactor\n",
    "truth_label_path = r'D:\\Final master thesis evaluation\\wide-thirty\\wide-0.3-1.csv'\n",
    "anomaly_scores_path = r'D:\\Final master thesis evaluation\\wide-thirty\\wide30besthp_test_loss.pt'\n",
    "label_csv = pd.read_csv(truth_label_path)\n",
    "label_csv.drop(\"Unnamed: 0\", axis=1, inplace=True)\n",
    "label_csv[\"case_id\"] = pd.to_numeric(label_csv[\"case_id\"])\n",
    "label_csv.case_id.astype(str).astype(int)\n",
    "label_csv.label.astype(str)\n",
    "#label_csv.dtypes\n",
    "validation_csv = label_csv.loc[label_csv['case_id'] > 9000]\n",
    "validation_csv = validation_csv.loc[label_csv['case_id'] < 12001]\n",
    "test_csv =  label_csv.loc[label_csv['case_id'] > 12000]\n",
    "validation_csv.head(1)"
   ]
  },
  {
   "cell_type": "code",
   "execution_count": 23,
   "id": "e63ac2ef",
   "metadata": {},
   "outputs": [],
   "source": [
    "loss_df = pd.read_pickle(anomaly_scores_path)\n",
    "# normalize anomaly scores\n",
    "normalized_loss_df = loss_df.copy()\n",
    "normalized_loss_df['Loss'] = (normalized_loss_df['Loss'] - normalized_loss_df['Loss'].min()) / (normalized_loss_df['Loss'].max() - normalized_loss_df['Loss'].min())\n",
    "# sort the normalized scores\n",
    "sorted_loss = normalized_loss_df.sort_values(by=['Loss'], ascending = False, ignore_index = True)"
   ]
  },
  {
   "cell_type": "code",
   "execution_count": 24,
   "id": "a288466d",
   "metadata": {},
   "outputs": [
    {
     "name": "stdout",
     "output_type": "stream",
     "text": [
      "first false positive: 752\n",
      "[751, 1.0, 0.8025613660618997, 0.8904677323860272, 0.9177046263345195, 1.0, 0.957086522848527, 0.923777127617277]\n"
     ]
    }
   ],
   "source": [
    "loss_df[\"case_id\"] = pd.to_numeric(loss_df[\"case_id\"])\n",
    "result = pd.merge(loss_df, test_csv, on=[\"case_id\"])\n",
    "sorted_result = result.sort_values(by=['Loss'], ascending = False, ignore_index = True)\n",
    "sorted_list = sorted_result['label'].tolist()\n",
    "predictions = []\n",
    "for j in range (len(sorted_list)):\n",
    "    if sorted_list[j] == 'normal':\n",
    "        predictions.append(0)\n",
    "    else:\n",
    "        predictions.append(1)\n",
    "prediction_array = np.array(predictions)\n",
    "best_score = 0\n",
    "first_fp = True\n",
    "for j in range (len(sorted_list)):\n",
    "    current_alarms = prediction_array[0:j+1]\n",
    "    current_normals = prediction_array[j+1:]\n",
    "    positives = j+1\n",
    "    true_positives = np.sum(current_alarms)\n",
    "    false_positives = positives - true_positives\n",
    "    if first_fp and false_positives > 0:\n",
    "        first_fp = False\n",
    "        print('first false positive:', j)\n",
    "    negatives = 3000 - positives\n",
    "    false_negatives = np.sum(current_normals)\n",
    "    true_negatives = negatives - false_negatives\n",
    "    precision = true_positives/(true_positives+false_positives)\n",
    "    recall = true_positives/(true_positives+false_negatives)\n",
    "    f1_score = 2*precision*recall/(precision+recall)\n",
    "    if f1_score > best_score:\n",
    "        best_score = f1_score\n",
    "        precision_on_normal = true_negatives/(true_negatives+false_negatives)\n",
    "        recall_on_normal = true_negatives/(true_negatives+false_positives)\n",
    "        f1_score_on_normal = 2*precision_on_normal*recall_on_normal/(precision_on_normal+recall_on_normal)\n",
    "        macro_f1_score = (f1_score + f1_score_on_normal)/2\n",
    "        best_cut = [j, precision, recall, f1_score, precision_on_normal, recall_on_normal,\n",
    "                    f1_score_on_normal, macro_f1_score]    \n",
    "print(best_cut)"
   ]
  },
  {
   "cell_type": "code",
   "execution_count": 25,
   "id": "0bc157ce",
   "metadata": {},
   "outputs": [
    {
     "data": {
      "image/png": "[encoded data removed]",
      "text/plain": [
       "<Figure size 432x288 with 1 Axes>"
      ]
     },
     "metadata": {
      "needs_background": "light"
     },
     "output_type": "display_data"
    }
   ],
   "source": [
    "loss_list = sorted_loss['Loss'].tolist()\n",
    "y_axis = np.array(loss_list)\n",
    "x_axis = np.arange(len(validation_csv))\n",
    "nextplot()\n",
    "plt.xlabel(\"Loss-rank\")\n",
    "plt.ylabel(\"Normalized Loss\")\n",
    "plt.plot(x_axis, y_axis)\n",
    "plt.show()"
   ]
  },
  {
   "cell_type": "code",
   "execution_count": 26,
   "id": "098c809e",
   "metadata": {},
   "outputs": [
    {
     "data": {
      "image/png": "[encoded data removed]",
      "text/plain": [
       "<Figure size 432x288 with 1 Axes>"
      ]
     },
     "metadata": {
      "needs_background": "light"
     },
     "output_type": "display_data"
    }
   ],
   "source": [
    "y2_axis = y_axis[400:800]\n",
    "x_axis = np.arange(400,800)\n",
    "plt.xlabel(\"Loss-rank\")\n",
    "plt.ylabel(\"Normalized Loss\")\n",
    "plt.plot(x_axis, y2_axis)\n",
    "plt.show()"
   ]
  },
  {
   "cell_type": "code",
   "execution_count": 27,
   "id": "cfee6861",
   "metadata": {},
   "outputs": [
    {
     "data": {
      "image/png": "[encoded data removed]",
      "text/plain": [
       "<Figure size 432x288 with 1 Axes>"
      ]
     },
     "metadata": {
      "needs_background": "light"
     },
     "output_type": "display_data"
    }
   ],
   "source": [
    "y2_axis = y_axis[730:770]\n",
    "x_axis = np.arange(730,770)\n",
    "plt.xlabel(\"Loss-rank\")\n",
    "plt.ylabel(\"Normalized Loss\")\n",
    "plt.plot(x_axis, y2_axis)\n",
    "plt.show()"
   ]
  },
  {
   "cell_type": "code",
   "execution_count": 28,
   "id": "3b2f752f",
   "metadata": {},
   "outputs": [
    {
     "name": "stdout",
     "output_type": "stream",
     "text": [
      "[745, 1.0, 0.7961579509071505, 0.8865121806298277, 0.9152617568766637, 1.0, 0.95575631225388, 0.9211342464418539]\n",
      "false positives 0\n"
     ]
    }
   ],
   "source": [
    "j= 745\n",
    "current_alarms = prediction_array[0:j+1]\n",
    "current_normals = prediction_array[j+1:]\n",
    "positives = j+1\n",
    "true_positives = np.sum(current_alarms)\n",
    "false_positives = positives - true_positives\n",
    "negatives = 3000 - positives\n",
    "false_negatives = np.sum(current_normals)\n",
    "true_negatives = negatives - false_negatives\n",
    "precision = true_positives/(true_positives+false_positives)\n",
    "recall = true_positives/(true_positives+false_negatives)\n",
    "f1_score = 2*precision*recall/(precision+recall)\n",
    "best_score = f1_score\n",
    "precision_on_normal = true_negatives/(true_negatives+false_negatives)\n",
    "recall_on_normal = true_negatives/(true_negatives+false_positives)\n",
    "f1_score_on_normal = 2*precision_on_normal*recall_on_normal/(precision_on_normal+recall_on_normal)\n",
    "macro_f1_score = (f1_score + f1_score_on_normal)/2\n",
    "best_cut = [j, precision, recall, f1_score, precision_on_normal, recall_on_normal,\n",
    "            f1_score_on_normal, macro_f1_score]    \n",
    "print(best_cut)\n",
    "print('false positives', false_positives)"
   ]
  },
  {
   "cell_type": "markdown",
   "id": "64b7ccf7",
   "metadata": {},
   "source": [
    "GAT small 30%"
   ]
  },
  {
   "cell_type": "code",
   "execution_count": 31,
   "id": "588c655d",
   "metadata": {},
   "outputs": [
    {
     "data": {
      "text/html": [
       "<div>\n",
       "<style scoped>\n",
       "    .dataframe tbody tr th:only-of-type {\n",
       "        vertical-align: middle;\n",
       "    }\n",
       "\n",
       "    .dataframe tbody tr th {\n",
       "        vertical-align: top;\n",
       "    }\n",
       "\n",
       "    .dataframe thead th {\n",
       "        text-align: right;\n",
       "    }\n",
       "</style>\n",
       "<table border=\"1\" class=\"dataframe\">\n",
       "  <thead>\n",
       "    <tr style=\"text-align: right;\">\n",
       "      <th></th>\n",
       "      <th>case_id</th>\n",
       "      <th>label</th>\n",
       "    </tr>\n",
       "  </thead>\n",
       "  <tbody>\n",
       "    <tr>\n",
       "      <th>9000</th>\n",
       "      <td>9001</td>\n",
       "      <td>normal</td>\n",
       "    </tr>\n",
       "  </tbody>\n",
       "</table>\n",
       "</div>"
      ],
      "text/plain": [
       "      case_id   label\n",
       "9000     9001  normal"
      ]
     },
     "execution_count": 31,
     "metadata": {},
     "output_type": "execute_result"
    }
   ],
   "source": [
    "# import the truth label vactor\n",
    "truth_label_path = r'D:\\Final master thesis evaluation\\small-thirty\\small-0.3-1.csv'\n",
    "anomaly_scores_path = r'D:\\Final master thesis evaluation\\small-thirty\\small30besthp_test_loss.pt'\n",
    "label_csv = pd.read_csv(truth_label_path)\n",
    "label_csv.drop(\"Unnamed: 0\", axis=1, inplace=True)\n",
    "label_csv[\"case_id\"] = pd.to_numeric(label_csv[\"case_id\"])\n",
    "label_csv.case_id.astype(str).astype(int)\n",
    "label_csv.label.astype(str)\n",
    "#label_csv.dtypes\n",
    "validation_csv = label_csv.loc[label_csv['case_id'] > 9000]\n",
    "validation_csv = validation_csv.loc[label_csv['case_id'] < 12001]\n",
    "test_csv =  label_csv.loc[label_csv['case_id'] > 12000]\n",
    "validation_csv.head(1)"
   ]
  },
  {
   "cell_type": "code",
   "execution_count": 32,
   "id": "1dbe5ca1",
   "metadata": {},
   "outputs": [],
   "source": [
    "loss_df = pd.read_pickle(anomaly_scores_path)\n",
    "# normalize anomaly scores\n",
    "normalized_loss_df = loss_df.copy()\n",
    "normalized_loss_df['Loss'] = (normalized_loss_df['Loss'] - normalized_loss_df['Loss'].min()) / (normalized_loss_df['Loss'].max() - normalized_loss_df['Loss'].min())\n",
    "# sort the normalized scores\n",
    "sorted_loss = normalized_loss_df.sort_values(by=['Loss'], ascending = False, ignore_index = True)"
   ]
  },
  {
   "cell_type": "code",
   "execution_count": 33,
   "id": "eb91ae94",
   "metadata": {},
   "outputs": [
    {
     "name": "stdout",
     "output_type": "stream",
     "text": [
      "first false positive: 734\n",
      "[733, 1.0, 0.8407789232531501, 0.9135034225264468, 0.9386584289496911, 1.0, 0.9683587525608923, 0.9409310875436696]\n"
     ]
    }
   ],
   "source": [
    "loss_df[\"case_id\"] = pd.to_numeric(loss_df[\"case_id\"])\n",
    "result = pd.merge(loss_df, test_csv, on=[\"case_id\"])\n",
    "sorted_result = result.sort_values(by=['Loss'], ascending = False, ignore_index = True)\n",
    "sorted_list = sorted_result['label'].tolist()\n",
    "predictions = []\n",
    "for j in range (len(sorted_list)):\n",
    "    if sorted_list[j] == 'normal':\n",
    "        predictions.append(0)\n",
    "    else:\n",
    "        predictions.append(1)\n",
    "prediction_array = np.array(predictions)\n",
    "best_score = 0\n",
    "first_fp = True\n",
    "for j in range (len(sorted_list)):\n",
    "    current_alarms = prediction_array[0:j+1]\n",
    "    current_normals = prediction_array[j+1:]\n",
    "    positives = j+1\n",
    "    true_positives = np.sum(current_alarms)\n",
    "    false_positives = positives - true_positives\n",
    "    if first_fp and false_positives > 0:\n",
    "        first_fp = False\n",
    "        print('first false positive:', j)\n",
    "    negatives = 3000 - positives\n",
    "    false_negatives = np.sum(current_normals)\n",
    "    true_negatives = negatives - false_negatives\n",
    "    precision = true_positives/(true_positives+false_positives)\n",
    "    recall = true_positives/(true_positives+false_negatives)\n",
    "    f1_score = 2*precision*recall/(precision+recall)\n",
    "    if f1_score > best_score:\n",
    "        best_score = f1_score\n",
    "        precision_on_normal = true_negatives/(true_negatives+false_negatives)\n",
    "        recall_on_normal = true_negatives/(true_negatives+false_positives)\n",
    "        f1_score_on_normal = 2*precision_on_normal*recall_on_normal/(precision_on_normal+recall_on_normal)\n",
    "        macro_f1_score = (f1_score + f1_score_on_normal)/2\n",
    "        best_cut = [j, precision, recall, f1_score, precision_on_normal, recall_on_normal,\n",
    "                    f1_score_on_normal, macro_f1_score]    \n",
    "print(best_cut)"
   ]
  },
  {
   "cell_type": "code",
   "execution_count": 34,
   "id": "fc4b3f1c",
   "metadata": {},
   "outputs": [
    {
     "data": {
      "image/png": "[encoded data removed]",
      "text/plain": [
       "<Figure size 432x288 with 1 Axes>"
      ]
     },
     "metadata": {
      "needs_background": "light"
     },
     "output_type": "display_data"
    }
   ],
   "source": [
    "loss_list = sorted_loss['Loss'].tolist()\n",
    "y_axis = np.array(loss_list)\n",
    "x_axis = np.arange(len(validation_csv))\n",
    "nextplot()\n",
    "plt.xlabel(\"Loss-rank\")\n",
    "plt.ylabel(\"Normalized Loss\")\n",
    "plt.plot(x_axis, y_axis)\n",
    "plt.show()"
   ]
  },
  {
   "cell_type": "code",
   "execution_count": 35,
   "id": "97db4046",
   "metadata": {},
   "outputs": [
    {
     "data": {
      "image/png": "[encoded data removed]",
      "text/plain": [
       "<Figure size 432x288 with 1 Axes>"
      ]
     },
     "metadata": {
      "needs_background": "light"
     },
     "output_type": "display_data"
    }
   ],
   "source": [
    "y2_axis = y_axis[600:800]\n",
    "x_axis = np.arange(600,800)\n",
    "plt.xlabel(\"Loss-rank\")\n",
    "plt.ylabel(\"Normalized Loss\")\n",
    "plt.plot(x_axis, y2_axis)\n",
    "plt.show()"
   ]
  },
  {
   "cell_type": "code",
   "execution_count": 36,
   "id": "8a1bda5e",
   "metadata": {},
   "outputs": [
    {
     "data": {
      "image/png": "[encoded data removed]",
      "text/plain": [
       "<Figure size 432x288 with 1 Axes>"
      ]
     },
     "metadata": {
      "needs_background": "light"
     },
     "output_type": "display_data"
    }
   ],
   "source": [
    "y2_axis = y_axis[690:710]\n",
    "x_axis = np.arange(690,710)\n",
    "plt.xlabel(\"Loss-rank\")\n",
    "plt.ylabel(\"Normalized Loss\")\n",
    "plt.plot(x_axis, y2_axis)\n",
    "plt.show()"
   ]
  },
  {
   "cell_type": "code",
   "execution_count": 37,
   "id": "852b0930",
   "metadata": {},
   "outputs": [
    {
     "name": "stdout",
     "output_type": "stream",
     "text": [
      "[701, 1.0, 0.8041237113402062, 0.8914285714285715, 0.9255874673629243, 1.0, 0.9613559322033899, 0.9263922518159806]\n",
      "false positives 0\n"
     ]
    }
   ],
   "source": [
    "j= 701\n",
    "current_alarms = prediction_array[0:j+1]\n",
    "current_normals = prediction_array[j+1:]\n",
    "positives = j+1\n",
    "true_positives = np.sum(current_alarms)\n",
    "false_positives = positives - true_positives\n",
    "negatives = 3000 - positives\n",
    "false_negatives = np.sum(current_normals)\n",
    "true_negatives = negatives - false_negatives\n",
    "precision = true_positives/(true_positives+false_positives)\n",
    "recall = true_positives/(true_positives+false_negatives)\n",
    "f1_score = 2*precision*recall/(precision+recall)\n",
    "best_score = f1_score\n",
    "precision_on_normal = true_negatives/(true_negatives+false_negatives)\n",
    "recall_on_normal = true_negatives/(true_negatives+false_positives)\n",
    "f1_score_on_normal = 2*precision_on_normal*recall_on_normal/(precision_on_normal+recall_on_normal)\n",
    "macro_f1_score = (f1_score + f1_score_on_normal)/2\n",
    "best_cut = [j, precision, recall, f1_score, precision_on_normal, recall_on_normal,\n",
    "            f1_score_on_normal, macro_f1_score]    \n",
    "print(best_cut)\n",
    "print('false positives', false_positives)"
   ]
  },
  {
   "cell_type": "code",
   "execution_count": 38,
   "id": "082c3c14",
   "metadata": {},
   "outputs": [
    {
     "name": "stdout",
     "output_type": "stream",
     "text": [
      "[759, 0.9697368421052631, 0.8442153493699885, 0.9026331904470299, 0.9392857142857143, 0.9891866478608369, 0.9635905656056789, 0.9331118780263544]\n"
     ]
    }
   ],
   "source": [
    "j= 310\n",
    "search_more = True\n",
    "while search_more:    \n",
    "    current_alarms = prediction_array[0:j+1]\n",
    "    current_normals = prediction_array[j+1:]\n",
    "    positives = j+1\n",
    "    true_positives = np.sum(current_alarms)\n",
    "    false_positives = positives - true_positives\n",
    "    if (false_positives/positives > 0.03):\n",
    "        search_more = False\n",
    "    negatives = 3000 - positives\n",
    "    false_negatives = np.sum(current_normals)\n",
    "    true_negatives = negatives - false_negatives\n",
    "    precision = true_positives/(true_positives+false_positives)\n",
    "    recall = true_positives/(true_positives+false_negatives)\n",
    "    f1_score = 2*precision*recall/(precision+recall)\n",
    "    best_score = f1_score\n",
    "    precision_on_normal = true_negatives/(true_negatives+false_negatives)\n",
    "    recall_on_normal = true_negatives/(true_negatives+false_positives)\n",
    "    f1_score_on_normal = 2*precision_on_normal*recall_on_normal/(precision_on_normal+recall_on_normal)\n",
    "    macro_f1_score = (f1_score + f1_score_on_normal)/2\n",
    "    best_cut = [j, precision, recall, f1_score, precision_on_normal, recall_on_normal,\n",
    "                f1_score_on_normal, macro_f1_score]\n",
    "    j += 1   \n",
    "print(best_cut)"
   ]
  },
  {
   "cell_type": "markdown",
   "id": "09df2e62",
   "metadata": {},
   "source": [
    "GAT wide 15%"
   ]
  },
  {
   "cell_type": "code",
   "execution_count": 40,
   "id": "0e726082",
   "metadata": {},
   "outputs": [
    {
     "data": {
      "text/html": [
       "<div>\n",
       "<style scoped>\n",
       "    .dataframe tbody tr th:only-of-type {\n",
       "        vertical-align: middle;\n",
       "    }\n",
       "\n",
       "    .dataframe tbody tr th {\n",
       "        vertical-align: top;\n",
       "    }\n",
       "\n",
       "    .dataframe thead th {\n",
       "        text-align: right;\n",
       "    }\n",
       "</style>\n",
       "<table border=\"1\" class=\"dataframe\">\n",
       "  <thead>\n",
       "    <tr style=\"text-align: right;\">\n",
       "      <th></th>\n",
       "      <th>case_id</th>\n",
       "      <th>label</th>\n",
       "    </tr>\n",
       "  </thead>\n",
       "  <tbody>\n",
       "    <tr>\n",
       "      <th>9000</th>\n",
       "      <td>9001</td>\n",
       "      <td>normal</td>\n",
       "    </tr>\n",
       "  </tbody>\n",
       "</table>\n",
       "</div>"
      ],
      "text/plain": [
       "      case_id   label\n",
       "9000     9001  normal"
      ]
     },
     "execution_count": 40,
     "metadata": {},
     "output_type": "execute_result"
    }
   ],
   "source": [
    "# import the truth label vactor\n",
    "truth_label_path = r'D:\\Final master thesis evaluation\\wide-fifteen\\wide-0.1-1.csv'\n",
    "anomaly_scores_path = r'D:\\Final master thesis evaluation\\wide-fifteen\\wide15besthp_test_loss.pt'\n",
    "label_csv = pd.read_csv(truth_label_path)\n",
    "label_csv.drop(\"Unnamed: 0\", axis=1, inplace=True)\n",
    "label_csv[\"case_id\"] = pd.to_numeric(label_csv[\"case_id\"])\n",
    "label_csv.case_id.astype(str).astype(int)\n",
    "label_csv.label.astype(str)\n",
    "#label_csv.dtypes\n",
    "validation_csv = label_csv.loc[label_csv['case_id'] > 9000]\n",
    "validation_csv = validation_csv.loc[label_csv['case_id'] < 12001]\n",
    "test_csv =  label_csv.loc[label_csv['case_id'] > 12000]\n",
    "validation_csv.head(1)"
   ]
  },
  {
   "cell_type": "code",
   "execution_count": 41,
   "id": "e645a908",
   "metadata": {},
   "outputs": [],
   "source": [
    "loss_df = pd.read_pickle(anomaly_scores_path)\n",
    "# normalize anomaly scores\n",
    "normalized_loss_df = loss_df.copy()\n",
    "normalized_loss_df['Loss'] = (normalized_loss_df['Loss'] - normalized_loss_df['Loss'].min()) / (normalized_loss_df['Loss'].max() - normalized_loss_df['Loss'].min())\n",
    "# sort the normalized scores\n",
    "sorted_loss = normalized_loss_df.sort_values(by=['Loss'], ascending = False, ignore_index = True)"
   ]
  },
  {
   "cell_type": "code",
   "execution_count": 42,
   "id": "04b80987",
   "metadata": {},
   "outputs": [
    {
     "name": "stdout",
     "output_type": "stream",
     "text": [
      "first false positive: 363\n",
      "[391, 0.9821428571428571, 0.8536585365853658, 0.9134045077105575, 0.9746932515337423, 0.9972538250294233, 0.9858444832266822, 0.9496244954686198]\n"
     ]
    }
   ],
   "source": [
    "loss_df[\"case_id\"] = pd.to_numeric(loss_df[\"case_id\"])\n",
    "result = pd.merge(loss_df, test_csv, on=[\"case_id\"])\n",
    "sorted_result = result.sort_values(by=['Loss'], ascending = False, ignore_index = True)\n",
    "sorted_list = sorted_result['label'].tolist()\n",
    "predictions = []\n",
    "for j in range (len(sorted_list)):\n",
    "    if sorted_list[j] == 'normal':\n",
    "        predictions.append(0)\n",
    "    else:\n",
    "        predictions.append(1)\n",
    "prediction_array = np.array(predictions)\n",
    "best_score = 0\n",
    "first_fp = True\n",
    "for j in range (len(sorted_list)):\n",
    "    current_alarms = prediction_array[0:j+1]\n",
    "    current_normals = prediction_array[j+1:]\n",
    "    positives = j+1\n",
    "    true_positives = np.sum(current_alarms)\n",
    "    false_positives = positives - true_positives\n",
    "    if first_fp and false_positives > 0:\n",
    "        first_fp = False\n",
    "        print('first false positive:', j)\n",
    "    negatives = 3000 - positives\n",
    "    false_negatives = np.sum(current_normals)\n",
    "    true_negatives = negatives - false_negatives\n",
    "    precision = true_positives/(true_positives+false_positives)\n",
    "    recall = true_positives/(true_positives+false_negatives)\n",
    "    f1_score = 2*precision*recall/(precision+recall)\n",
    "    if f1_score > best_score:\n",
    "        best_score = f1_score\n",
    "        precision_on_normal = true_negatives/(true_negatives+false_negatives)\n",
    "        recall_on_normal = true_negatives/(true_negatives+false_positives)\n",
    "        f1_score_on_normal = 2*precision_on_normal*recall_on_normal/(precision_on_normal+recall_on_normal)\n",
    "        macro_f1_score = (f1_score + f1_score_on_normal)/2\n",
    "        best_cut = [j, precision, recall, f1_score, precision_on_normal, recall_on_normal,\n",
    "                    f1_score_on_normal, macro_f1_score]    \n",
    "print(best_cut)"
   ]
  },
  {
   "cell_type": "code",
   "execution_count": 43,
   "id": "292717b3",
   "metadata": {},
   "outputs": [
    {
     "data": {
      "image/png": "[encoded data removed]",
      "text/plain": [
       "<Figure size 432x288 with 1 Axes>"
      ]
     },
     "metadata": {
      "needs_background": "light"
     },
     "output_type": "display_data"
    }
   ],
   "source": [
    "loss_list = sorted_loss['Loss'].tolist()\n",
    "y_axis = np.array(loss_list)\n",
    "x_axis = np.arange(len(validation_csv))\n",
    "nextplot()\n",
    "plt.xlabel(\"Loss-rank\")\n",
    "plt.ylabel(\"Normalized Loss\")\n",
    "plt.plot(x_axis, y_axis)\n",
    "plt.show()"
   ]
  },
  {
   "cell_type": "code",
   "execution_count": 44,
   "id": "c2125d12",
   "metadata": {},
   "outputs": [
    {
     "data": {
      "image/png": "[encoded data removed]",
      "text/plain": [
       "<Figure size 432x288 with 1 Axes>"
      ]
     },
     "metadata": {
      "needs_background": "light"
     },
     "output_type": "display_data"
    }
   ],
   "source": [
    "y2_axis = y_axis[200:400]\n",
    "x_axis = np.arange(200,400)\n",
    "plt.xlabel(\"Loss-rank\")\n",
    "plt.ylabel(\"Normalized Loss\")\n",
    "plt.plot(x_axis, y2_axis)\n",
    "plt.show()"
   ]
  },
  {
   "cell_type": "code",
   "execution_count": 47,
   "id": "f38477ed",
   "metadata": {},
   "outputs": [
    {
     "data": {
      "image/png": "[encoded data removed]",
      "text/plain": [
       "<Figure size 432x288 with 1 Axes>"
      ]
     },
     "metadata": {
      "needs_background": "light"
     },
     "output_type": "display_data"
    }
   ],
   "source": [
    "y2_axis = y_axis[375:410]\n",
    "x_axis = np.arange(375,410)\n",
    "plt.xlabel(\"Loss-rank\")\n",
    "plt.ylabel(\"Normalized Loss\")\n",
    "plt.plot(x_axis, y2_axis)\n",
    "plt.show()"
   ]
  },
  {
   "cell_type": "code",
   "execution_count": 48,
   "id": "6dc089a7",
   "metadata": {},
   "outputs": [
    {
     "name": "stdout",
     "output_type": "stream",
     "text": [
      "[395, 0.9722222222222222, 0.8536585365853658, 0.9090909090909091, 0.9746543778801844, 0.9956845821890937, 0.9850572482049291, 0.947074078647919]\n",
      "false positives 11\n"
     ]
    }
   ],
   "source": [
    "j= 395\n",
    "current_alarms = prediction_array[0:j+1]\n",
    "current_normals = prediction_array[j+1:]\n",
    "positives = j+1\n",
    "true_positives = np.sum(current_alarms)\n",
    "false_positives = positives - true_positives\n",
    "negatives = 3000 - positives\n",
    "false_negatives = np.sum(current_normals)\n",
    "true_negatives = negatives - false_negatives\n",
    "precision = true_positives/(true_positives+false_positives)\n",
    "recall = true_positives/(true_positives+false_negatives)\n",
    "f1_score = 2*precision*recall/(precision+recall)\n",
    "best_score = f1_score\n",
    "precision_on_normal = true_negatives/(true_negatives+false_negatives)\n",
    "recall_on_normal = true_negatives/(true_negatives+false_positives)\n",
    "f1_score_on_normal = 2*precision_on_normal*recall_on_normal/(precision_on_normal+recall_on_normal)\n",
    "macro_f1_score = (f1_score + f1_score_on_normal)/2\n",
    "best_cut = [j, precision, recall, f1_score, precision_on_normal, recall_on_normal,\n",
    "            f1_score_on_normal, macro_f1_score]    \n",
    "print(best_cut)\n",
    "print('false positives', false_positives)"
   ]
  },
  {
   "cell_type": "markdown",
   "id": "f5f84615",
   "metadata": {},
   "source": [
    "GAT huge 15%"
   ]
  },
  {
   "cell_type": "code",
   "execution_count": 49,
   "id": "e46113ab",
   "metadata": {},
   "outputs": [
    {
     "data": {
      "text/html": [
       "<div>\n",
       "<style scoped>\n",
       "    .dataframe tbody tr th:only-of-type {\n",
       "        vertical-align: middle;\n",
       "    }\n",
       "\n",
       "    .dataframe tbody tr th {\n",
       "        vertical-align: top;\n",
       "    }\n",
       "\n",
       "    .dataframe thead th {\n",
       "        text-align: right;\n",
       "    }\n",
       "</style>\n",
       "<table border=\"1\" class=\"dataframe\">\n",
       "  <thead>\n",
       "    <tr style=\"text-align: right;\">\n",
       "      <th></th>\n",
       "      <th>case_id</th>\n",
       "      <th>label</th>\n",
       "    </tr>\n",
       "  </thead>\n",
       "  <tbody>\n",
       "    <tr>\n",
       "      <th>9000</th>\n",
       "      <td>9001</td>\n",
       "      <td>normal</td>\n",
       "    </tr>\n",
       "  </tbody>\n",
       "</table>\n",
       "</div>"
      ],
      "text/plain": [
       "      case_id   label\n",
       "9000     9001  normal"
      ]
     },
     "execution_count": 49,
     "metadata": {},
     "output_type": "execute_result"
    }
   ],
   "source": [
    "# import the truth label vactor\n",
    "truth_label_path = r'D:\\Final master thesis evaluation\\huge-fifteen\\huge-0.1-1.csv'\n",
    "anomaly_scores_path = r'D:\\Final master thesis evaluation\\huge-fifteen\\huge15besthp_test_loss.pt'\n",
    "label_csv = pd.read_csv(truth_label_path)\n",
    "label_csv.drop(\"Unnamed: 0\", axis=1, inplace=True)\n",
    "label_csv[\"case_id\"] = pd.to_numeric(label_csv[\"case_id\"])\n",
    "label_csv.case_id.astype(str).astype(int)\n",
    "label_csv.label.astype(str)\n",
    "#label_csv.dtypes\n",
    "validation_csv = label_csv.loc[label_csv['case_id'] > 9000]\n",
    "validation_csv = validation_csv.loc[label_csv['case_id'] < 12001]\n",
    "test_csv =  label_csv.loc[label_csv['case_id'] > 12000]\n",
    "validation_csv.head(1)"
   ]
  },
  {
   "cell_type": "code",
   "execution_count": 50,
   "id": "fb449b7c",
   "metadata": {},
   "outputs": [],
   "source": [
    "loss_df = pd.read_pickle(anomaly_scores_path)\n",
    "# normalize anomaly scores\n",
    "normalized_loss_df = loss_df.copy()\n",
    "normalized_loss_df['Loss'] = (normalized_loss_df['Loss'] - normalized_loss_df['Loss'].min()) / (normalized_loss_df['Loss'].max() - normalized_loss_df['Loss'].min())\n",
    "# sort the normalized scores\n",
    "sorted_loss = normalized_loss_df.sort_values(by=['Loss'], ascending = False, ignore_index = True)"
   ]
  },
  {
   "cell_type": "code",
   "execution_count": 51,
   "id": "b0da0467",
   "metadata": {},
   "outputs": [
    {
     "name": "stdout",
     "output_type": "stream",
     "text": [
      "first false positive: 132\n",
      "[363, 0.967032967032967, 0.7822222222222223, 0.8648648648648648, 0.9628224582701063, 0.9952941176470588, 0.978789047435403, 0.9218269561501339]\n"
     ]
    }
   ],
   "source": [
    "loss_df[\"case_id\"] = pd.to_numeric(loss_df[\"case_id\"])\n",
    "result = pd.merge(loss_df, test_csv, on=[\"case_id\"])\n",
    "sorted_result = result.sort_values(by=['Loss'], ascending = False, ignore_index = True)\n",
    "sorted_list = sorted_result['label'].tolist()\n",
    "predictions = []\n",
    "for j in range (len(sorted_list)):\n",
    "    if sorted_list[j] == 'normal':\n",
    "        predictions.append(0)\n",
    "    else:\n",
    "        predictions.append(1)\n",
    "prediction_array = np.array(predictions)\n",
    "best_score = 0\n",
    "first_fp = True\n",
    "for j in range (len(sorted_list)):\n",
    "    current_alarms = prediction_array[0:j+1]\n",
    "    current_normals = prediction_array[j+1:]\n",
    "    positives = j+1\n",
    "    true_positives = np.sum(current_alarms)\n",
    "    false_positives = positives - true_positives\n",
    "    if first_fp and false_positives > 0:\n",
    "        first_fp = False\n",
    "        print('first false positive:', j)\n",
    "    negatives = 3000 - positives\n",
    "    false_negatives = np.sum(current_normals)\n",
    "    true_negatives = negatives - false_negatives\n",
    "    precision = true_positives/(true_positives+false_positives)\n",
    "    recall = true_positives/(true_positives+false_negatives)\n",
    "    f1_score = 2*precision*recall/(precision+recall)\n",
    "    if f1_score > best_score:\n",
    "        best_score = f1_score\n",
    "        precision_on_normal = true_negatives/(true_negatives+false_negatives)\n",
    "        recall_on_normal = true_negatives/(true_negatives+false_positives)\n",
    "        f1_score_on_normal = 2*precision_on_normal*recall_on_normal/(precision_on_normal+recall_on_normal)\n",
    "        macro_f1_score = (f1_score + f1_score_on_normal)/2\n",
    "        best_cut = [j, precision, recall, f1_score, precision_on_normal, recall_on_normal,\n",
    "                    f1_score_on_normal, macro_f1_score]    \n",
    "print(best_cut)"
   ]
  },
  {
   "cell_type": "code",
   "execution_count": 52,
   "id": "5f1e05ae",
   "metadata": {},
   "outputs": [
    {
     "data": {
      "image/png": "[encoded data removed]",
      "text/plain": [
       "<Figure size 432x288 with 1 Axes>"
      ]
     },
     "metadata": {
      "needs_background": "light"
     },
     "output_type": "display_data"
    }
   ],
   "source": [
    "loss_list = sorted_loss['Loss'].tolist()\n",
    "y_axis = np.array(loss_list)\n",
    "x_axis = np.arange(len(validation_csv))\n",
    "nextplot()\n",
    "plt.xlabel(\"Loss-rank\")\n",
    "plt.ylabel(\"Normalized Loss\")\n",
    "plt.plot(x_axis, y_axis)\n",
    "plt.show()"
   ]
  },
  {
   "cell_type": "code",
   "execution_count": 53,
   "id": "bca9006d",
   "metadata": {},
   "outputs": [
    {
     "data": {
      "image/png": "[encoded data removed]",
      "text/plain": [
       "<Figure size 432x288 with 1 Axes>"
      ]
     },
     "metadata": {
      "needs_background": "light"
     },
     "output_type": "display_data"
    }
   ],
   "source": [
    "y2_axis = y_axis[300:400]\n",
    "x_axis = np.arange(300,400)\n",
    "plt.xlabel(\"Loss-rank\")\n",
    "plt.ylabel(\"Normalized Loss\")\n",
    "plt.plot(x_axis, y2_axis)\n",
    "plt.show()"
   ]
  },
  {
   "cell_type": "code",
   "execution_count": 58,
   "id": "4d377c5c",
   "metadata": {},
   "outputs": [
    {
     "data": {
      "image/png": "[encoded data removed]",
      "text/plain": [
       "<Figure size 432x288 with 1 Axes>"
      ]
     },
     "metadata": {
      "needs_background": "light"
     },
     "output_type": "display_data"
    }
   ],
   "source": [
    "y2_axis = y_axis[350:370]\n",
    "x_axis = np.arange(350,370)\n",
    "plt.xlabel(\"Loss-rank\")\n",
    "plt.ylabel(\"Normalized Loss\")\n",
    "plt.plot(x_axis, y2_axis)\n",
    "plt.show()"
   ]
  },
  {
   "cell_type": "code",
   "execution_count": 59,
   "id": "7a790c64",
   "metadata": {},
   "outputs": [
    {
     "name": "stdout",
     "output_type": "stream",
     "text": [
      "[365, 0.9617486338797814, 0.7822222222222223, 0.8627450980392157, 0.9627942293090357, 0.9945098039215686, 0.9783950617283952, 0.9205700798838055]\n",
      "false positives 14\n"
     ]
    }
   ],
   "source": [
    "j= 365\n",
    "current_alarms = prediction_array[0:j+1]\n",
    "current_normals = prediction_array[j+1:]\n",
    "positives = j+1\n",
    "true_positives = np.sum(current_alarms)\n",
    "false_positives = positives - true_positives\n",
    "negatives = 3000 - positives\n",
    "false_negatives = np.sum(current_normals)\n",
    "true_negatives = negatives - false_negatives\n",
    "precision = true_positives/(true_positives+false_positives)\n",
    "recall = true_positives/(true_positives+false_negatives)\n",
    "f1_score = 2*precision*recall/(precision+recall)\n",
    "best_score = f1_score\n",
    "precision_on_normal = true_negatives/(true_negatives+false_negatives)\n",
    "recall_on_normal = true_negatives/(true_negatives+false_positives)\n",
    "f1_score_on_normal = 2*precision_on_normal*recall_on_normal/(precision_on_normal+recall_on_normal)\n",
    "macro_f1_score = (f1_score + f1_score_on_normal)/2\n",
    "best_cut = [j, precision, recall, f1_score, precision_on_normal, recall_on_normal,\n",
    "            f1_score_on_normal, macro_f1_score]    \n",
    "print(best_cut)\n",
    "print('false positives', false_positives)"
   ]
  },
  {
   "cell_type": "code",
   "execution_count": 56,
   "id": "7fd10280",
   "metadata": {},
   "outputs": [
    {
     "name": "stdout",
     "output_type": "stream",
     "text": [
      "[357, 0.9692737430167597, 0.7711111111111111, 0.8589108910891089, 0.9610143830431491, 0.995686274509804, 0.9780431432973806, 0.9184770171932448]\n"
     ]
    }
   ],
   "source": [
    "j= 357\n",
    "search_more = True\n",
    "while search_more:    \n",
    "    current_alarms = prediction_array[0:j+1]\n",
    "    current_normals = prediction_array[j+1:]\n",
    "    positives = j+1\n",
    "    true_positives = np.sum(current_alarms)\n",
    "    false_positives = positives - true_positives\n",
    "    if (false_positives/positives > 0.03):\n",
    "        search_more = False\n",
    "    negatives = 3000 - positives\n",
    "    false_negatives = np.sum(current_normals)\n",
    "    true_negatives = negatives - false_negatives\n",
    "    precision = true_positives/(true_positives+false_positives)\n",
    "    recall = true_positives/(true_positives+false_negatives)\n",
    "    f1_score = 2*precision*recall/(precision+recall)\n",
    "    best_score = f1_score\n",
    "    precision_on_normal = true_negatives/(true_negatives+false_negatives)\n",
    "    recall_on_normal = true_negatives/(true_negatives+false_positives)\n",
    "    f1_score_on_normal = 2*precision_on_normal*recall_on_normal/(precision_on_normal+recall_on_normal)\n",
    "    macro_f1_score = (f1_score + f1_score_on_normal)/2\n",
    "    best_cut = [j, precision, recall, f1_score, precision_on_normal, recall_on_normal,\n",
    "                f1_score_on_normal, macro_f1_score]\n",
    "    j += 1   \n",
    "print(best_cut)"
   ]
  },
  {
   "cell_type": "markdown",
   "id": "0cfcd2a4",
   "metadata": {},
   "source": [
    "GAT small 15%"
   ]
  },
  {
   "cell_type": "code",
   "execution_count": 60,
   "id": "a5f8b13b",
   "metadata": {},
   "outputs": [
    {
     "data": {
      "text/html": [
       "<div>\n",
       "<style scoped>\n",
       "    .dataframe tbody tr th:only-of-type {\n",
       "        vertical-align: middle;\n",
       "    }\n",
       "\n",
       "    .dataframe tbody tr th {\n",
       "        vertical-align: top;\n",
       "    }\n",
       "\n",
       "    .dataframe thead th {\n",
       "        text-align: right;\n",
       "    }\n",
       "</style>\n",
       "<table border=\"1\" class=\"dataframe\">\n",
       "  <thead>\n",
       "    <tr style=\"text-align: right;\">\n",
       "      <th></th>\n",
       "      <th>case_id</th>\n",
       "      <th>label</th>\n",
       "    </tr>\n",
       "  </thead>\n",
       "  <tbody>\n",
       "    <tr>\n",
       "      <th>9000</th>\n",
       "      <td>9001</td>\n",
       "      <td>normal</td>\n",
       "    </tr>\n",
       "  </tbody>\n",
       "</table>\n",
       "</div>"
      ],
      "text/plain": [
       "      case_id   label\n",
       "9000     9001  normal"
      ]
     },
     "execution_count": 60,
     "metadata": {},
     "output_type": "execute_result"
    }
   ],
   "source": [
    "# import the truth label vactor\n",
    "truth_label_path = r'D:\\Final master thesis evaluation\\small-fifteen\\small-0.1-1.csv'\n",
    "anomaly_scores_path = r'D:\\Final master thesis evaluation\\small-fifteen\\small15besthp_test_loss.pt'\n",
    "label_csv = pd.read_csv(truth_label_path)\n",
    "label_csv.drop(\"Unnamed: 0\", axis=1, inplace=True)\n",
    "label_csv[\"case_id\"] = pd.to_numeric(label_csv[\"case_id\"])\n",
    "label_csv.case_id.astype(str).astype(int)\n",
    "label_csv.label.astype(str)\n",
    "#label_csv.dtypes\n",
    "validation_csv = label_csv.loc[label_csv['case_id'] > 9000]\n",
    "validation_csv = validation_csv.loc[label_csv['case_id'] < 12001]\n",
    "test_csv =  label_csv.loc[label_csv['case_id'] > 12000]\n",
    "validation_csv.head(1)"
   ]
  },
  {
   "cell_type": "code",
   "execution_count": 61,
   "id": "301d2282",
   "metadata": {},
   "outputs": [],
   "source": [
    "loss_df = pd.read_pickle(anomaly_scores_path)\n",
    "# normalize anomaly scores\n",
    "normalized_loss_df = loss_df.copy()\n",
    "normalized_loss_df['Loss'] = (normalized_loss_df['Loss'] - normalized_loss_df['Loss'].min()) / (normalized_loss_df['Loss'].max() - normalized_loss_df['Loss'].min())\n",
    "# sort the normalized scores\n",
    "sorted_loss = normalized_loss_df.sort_values(by=['Loss'], ascending = False, ignore_index = True)"
   ]
  },
  {
   "cell_type": "code",
   "execution_count": 62,
   "id": "79f639ad",
   "metadata": {},
   "outputs": [
    {
     "name": "stdout",
     "output_type": "stream",
     "text": [
      "first false positive: 385\n",
      "[386, 0.9974160206718347, 0.8301075268817204, 0.9061032863849765, 0.969766551856104, 0.9996055226824457, 0.9844599844599843, 0.9452816354224804]\n"
     ]
    }
   ],
   "source": [
    "loss_df[\"case_id\"] = pd.to_numeric(loss_df[\"case_id\"])\n",
    "result = pd.merge(loss_df, test_csv, on=[\"case_id\"])\n",
    "sorted_result = result.sort_values(by=['Loss'], ascending = False, ignore_index = True)\n",
    "sorted_list = sorted_result['label'].tolist()\n",
    "predictions = []\n",
    "for j in range (len(sorted_list)):\n",
    "    if sorted_list[j] == 'normal':\n",
    "        predictions.append(0)\n",
    "    else:\n",
    "        predictions.append(1)\n",
    "prediction_array = np.array(predictions)\n",
    "best_score = 0\n",
    "first_fp = True\n",
    "for j in range (len(sorted_list)):\n",
    "    current_alarms = prediction_array[0:j+1]\n",
    "    current_normals = prediction_array[j+1:]\n",
    "    positives = j+1\n",
    "    true_positives = np.sum(current_alarms)\n",
    "    false_positives = positives - true_positives\n",
    "    if first_fp and false_positives > 0:\n",
    "        first_fp = False\n",
    "        print('first false positive:', j)\n",
    "    negatives = 3000 - positives\n",
    "    false_negatives = np.sum(current_normals)\n",
    "    true_negatives = negatives - false_negatives\n",
    "    precision = true_positives/(true_positives+false_positives)\n",
    "    recall = true_positives/(true_positives+false_negatives)\n",
    "    f1_score = 2*precision*recall/(precision+recall)\n",
    "    if f1_score > best_score:\n",
    "        best_score = f1_score\n",
    "        precision_on_normal = true_negatives/(true_negatives+false_negatives)\n",
    "        recall_on_normal = true_negatives/(true_negatives+false_positives)\n",
    "        f1_score_on_normal = 2*precision_on_normal*recall_on_normal/(precision_on_normal+recall_on_normal)\n",
    "        macro_f1_score = (f1_score + f1_score_on_normal)/2\n",
    "        best_cut = [j, precision, recall, f1_score, precision_on_normal, recall_on_normal,\n",
    "                    f1_score_on_normal, macro_f1_score]    \n",
    "print(best_cut)"
   ]
  },
  {
   "cell_type": "code",
   "execution_count": 63,
   "id": "b4a300fc",
   "metadata": {},
   "outputs": [
    {
     "data": {
      "image/png": "[encoded data removed]",
      "text/plain": [
       "<Figure size 432x288 with 1 Axes>"
      ]
     },
     "metadata": {
      "needs_background": "light"
     },
     "output_type": "display_data"
    }
   ],
   "source": [
    "loss_list = sorted_loss['Loss'].tolist()\n",
    "y_axis = np.array(loss_list)\n",
    "x_axis = np.arange(len(validation_csv))\n",
    "nextplot()\n",
    "plt.xlabel(\"Loss-rank\")\n",
    "plt.ylabel(\"Normalized Loss\")\n",
    "plt.plot(x_axis, y_axis)\n",
    "plt.show()"
   ]
  },
  {
   "cell_type": "code",
   "execution_count": 64,
   "id": "a5a29240",
   "metadata": {},
   "outputs": [
    {
     "data": {
      "image/png": "[encoded data removed]",
      "text/plain": [
       "<Figure size 432x288 with 1 Axes>"
      ]
     },
     "metadata": {
      "needs_background": "light"
     },
     "output_type": "display_data"
    }
   ],
   "source": [
    "y2_axis = y_axis[300:400]\n",
    "x_axis = np.arange(300,400)\n",
    "plt.xlabel(\"Loss-rank\")\n",
    "plt.ylabel(\"Normalized Loss\")\n",
    "plt.plot(x_axis, y2_axis)\n",
    "plt.show()"
   ]
  },
  {
   "cell_type": "code",
   "execution_count": 65,
   "id": "5238a37f",
   "metadata": {},
   "outputs": [
    {
     "data": {
      "image/png": "[encoded data removed]",
      "text/plain": [
       "<Figure size 432x288 with 1 Axes>"
      ]
     },
     "metadata": {
      "needs_background": "light"
     },
     "output_type": "display_data"
    }
   ],
   "source": [
    "y2_axis = y_axis[360:390]\n",
    "x_axis = np.arange(360,390)\n",
    "plt.xlabel(\"Loss-rank\")\n",
    "plt.ylabel(\"Normalized Loss\")\n",
    "plt.plot(x_axis, y2_axis)\n",
    "plt.show()"
   ]
  },
  {
   "cell_type": "code",
   "execution_count": 67,
   "id": "35e24eaa",
   "metadata": {},
   "outputs": [
    {
     "name": "stdout",
     "output_type": "stream",
     "text": [
      "[378, 1.0, 0.8150537634408602, 0.8981042654028437, 0.9671880961465089, 1.0, 0.9833204034134988, 0.9407123344081713]\n",
      "false positives 0\n"
     ]
    }
   ],
   "source": [
    "j= 378\n",
    "current_alarms = prediction_array[0:j+1]\n",
    "current_normals = prediction_array[j+1:]\n",
    "positives = j+1\n",
    "true_positives = np.sum(current_alarms)\n",
    "false_positives = positives - true_positives\n",
    "negatives = 3000 - positives\n",
    "false_negatives = np.sum(current_normals)\n",
    "true_negatives = negatives - false_negatives\n",
    "precision = true_positives/(true_positives+false_positives)\n",
    "recall = true_positives/(true_positives+false_negatives)\n",
    "f1_score = 2*precision*recall/(precision+recall)\n",
    "best_score = f1_score\n",
    "precision_on_normal = true_negatives/(true_negatives+false_negatives)\n",
    "recall_on_normal = true_negatives/(true_negatives+false_positives)\n",
    "f1_score_on_normal = 2*precision_on_normal*recall_on_normal/(precision_on_normal+recall_on_normal)\n",
    "macro_f1_score = (f1_score + f1_score_on_normal)/2\n",
    "best_cut = [j, precision, recall, f1_score, precision_on_normal, recall_on_normal,\n",
    "            f1_score_on_normal, macro_f1_score]    \n",
    "print(best_cut)\n",
    "print('false positives', false_positives)"
   ]
  },
  {
   "cell_type": "markdown",
   "id": "fc1ae201",
   "metadata": {},
   "source": [
    "### GAT Large, wide, huge, small 5, 1%"
   ]
  },
  {
   "cell_type": "code",
   "execution_count": 417,
   "id": "78c27902",
   "metadata": {},
   "outputs": [
    {
     "data": {
      "text/html": [
       "<div>\n",
       "<style scoped>\n",
       "    .dataframe tbody tr th:only-of-type {\n",
       "        vertical-align: middle;\n",
       "    }\n",
       "\n",
       "    .dataframe tbody tr th {\n",
       "        vertical-align: top;\n",
       "    }\n",
       "\n",
       "    .dataframe thead th {\n",
       "        text-align: right;\n",
       "    }\n",
       "</style>\n",
       "<table border=\"1\" class=\"dataframe\">\n",
       "  <thead>\n",
       "    <tr style=\"text-align: right;\">\n",
       "      <th></th>\n",
       "      <th>case_id</th>\n",
       "      <th>label</th>\n",
       "    </tr>\n",
       "  </thead>\n",
       "  <tbody>\n",
       "    <tr>\n",
       "      <th>9000</th>\n",
       "      <td>9001</td>\n",
       "      <td>normal</td>\n",
       "    </tr>\n",
       "  </tbody>\n",
       "</table>\n",
       "</div>"
      ],
      "text/plain": [
       "      case_id   label\n",
       "9000     9001  normal"
      ]
     },
     "execution_count": 417,
     "metadata": {},
     "output_type": "execute_result"
    }
   ],
   "source": [
    "# import the truth label vactor\n",
    "truth_label_path = r'D:\\Final master thesis evaluation\\small-one\\small-0.0-1.csv'\n",
    "anomaly_scores_path = r'D:\\Final master thesis evaluation\\small-one\\small1besthp_test_loss.pt'\n",
    "label_csv = pd.read_csv(truth_label_path)\n",
    "label_csv.drop(\"Unnamed: 0\", axis=1, inplace=True)\n",
    "label_csv[\"case_id\"] = pd.to_numeric(label_csv[\"case_id\"])\n",
    "label_csv.case_id.astype(str).astype(int)\n",
    "label_csv.label.astype(str)\n",
    "#label_csv.dtypes\n",
    "validation_csv = label_csv.loc[label_csv['case_id'] > 9000]\n",
    "validation_csv = validation_csv.loc[label_csv['case_id'] < 12001]\n",
    "test_csv =  label_csv.loc[label_csv['case_id'] > 12000]\n",
    "validation_csv.head(1)"
   ]
  },
  {
   "cell_type": "code",
   "execution_count": 418,
   "id": "fba7ac78",
   "metadata": {},
   "outputs": [],
   "source": [
    "loss_df = pd.read_pickle(anomaly_scores_path)\n",
    "# normalize anomaly scores\n",
    "normalized_loss_df = loss_df.copy()\n",
    "normalized_loss_df['Loss'] = (normalized_loss_df['Loss'] - normalized_loss_df['Loss'].min()) / (normalized_loss_df['Loss'].max() - normalized_loss_df['Loss'].min())\n",
    "# sort the normalized scores\n",
    "sorted_loss = normalized_loss_df.sort_values(by=['Loss'], ascending = False, ignore_index = True)"
   ]
  },
  {
   "cell_type": "code",
   "execution_count": 419,
   "id": "96219d22",
   "metadata": {},
   "outputs": [
    {
     "name": "stdout",
     "output_type": "stream",
     "text": [
      "first false positive: 23\n",
      "[22, 1.0, 0.8846153846153846, 0.9387755102040816, 0.9989922741014444, 1.0, 0.9994958830448664, 0.969135696624474]\n"
     ]
    }
   ],
   "source": [
    "loss_df[\"case_id\"] = pd.to_numeric(loss_df[\"case_id\"])\n",
    "result = pd.merge(loss_df, test_csv, on=[\"case_id\"])\n",
    "sorted_result = result.sort_values(by=['Loss'], ascending = False, ignore_index = True)\n",
    "sorted_list = sorted_result['label'].tolist()\n",
    "predictions = []\n",
    "for j in range (len(sorted_list)):\n",
    "    if sorted_list[j] == 'normal':\n",
    "        predictions.append(0)\n",
    "    else:\n",
    "        predictions.append(1)\n",
    "prediction_array = np.array(predictions)\n",
    "best_score = 0\n",
    "first_fp = True\n",
    "for j in range (len(sorted_list)):\n",
    "    current_alarms = prediction_array[0:j+1]\n",
    "    current_normals = prediction_array[j+1:]\n",
    "    positives = j+1\n",
    "    true_positives = np.sum(current_alarms)\n",
    "    false_positives = positives - true_positives\n",
    "    if first_fp and false_positives > 0:\n",
    "        first_fp = False\n",
    "        print('first false positive:', j)\n",
    "    negatives = 3000 - positives\n",
    "    false_negatives = np.sum(current_normals)\n",
    "    true_negatives = negatives - false_negatives\n",
    "    precision = true_positives/(true_positives+false_positives)\n",
    "    recall = true_positives/(true_positives+false_negatives)\n",
    "    f1_score = 2*precision*recall/(precision+recall)\n",
    "    if f1_score > best_score:\n",
    "        best_score = f1_score\n",
    "        precision_on_normal = true_negatives/(true_negatives+false_negatives)\n",
    "        recall_on_normal = true_negatives/(true_negatives+false_positives)\n",
    "        f1_score_on_normal = 2*precision_on_normal*recall_on_normal/(precision_on_normal+recall_on_normal)\n",
    "        macro_f1_score = (f1_score + f1_score_on_normal)/2\n",
    "        best_cut = [j, precision, recall, f1_score, precision_on_normal, recall_on_normal,\n",
    "                    f1_score_on_normal, macro_f1_score]    \n",
    "print(best_cut)"
   ]
  },
  {
   "cell_type": "code",
   "execution_count": 420,
   "id": "396afcdd",
   "metadata": {},
   "outputs": [
    {
     "data": {
      "image/png": "[encoded data removed]",
      "text/plain": [
       "<Figure size 432x288 with 1 Axes>"
      ]
     },
     "metadata": {
      "needs_background": "light"
     },
     "output_type": "display_data"
    }
   ],
   "source": [
    "loss_list = sorted_loss['Loss'].tolist()\n",
    "y_axis = np.array(loss_list)\n",
    "x_axis = np.arange(len(validation_csv))\n",
    "nextplot()\n",
    "plt.xlabel(\"Loss-rank\")\n",
    "plt.ylabel(\"Normalized Loss\")\n",
    "plt.plot(x_axis, y_axis)\n",
    "plt.show()"
   ]
  },
  {
   "cell_type": "code",
   "execution_count": 421,
   "id": "5b3b783f",
   "metadata": {},
   "outputs": [
    {
     "data": {
      "image/png": "[encoded data removed]",
      "text/plain": [
       "<Figure size 432x288 with 1 Axes>"
      ]
     },
     "metadata": {
      "needs_background": "light"
     },
     "output_type": "display_data"
    }
   ],
   "source": [
    "y2_axis = y_axis[0:40]\n",
    "x_axis = np.arange(0,40)\n",
    "plt.xlabel(\"Loss-rank\")\n",
    "plt.ylabel(\"Normalized Loss\")\n",
    "plt.plot(x_axis, y2_axis)\n",
    "plt.show()"
   ]
  },
  {
   "cell_type": "code",
   "execution_count": 422,
   "id": "2da2e775",
   "metadata": {},
   "outputs": [
    {
     "data": {
      "image/png": "[encoded data removed]",
      "text/plain": [
       "<Figure size 432x288 with 1 Axes>"
      ]
     },
     "metadata": {
      "needs_background": "light"
     },
     "output_type": "display_data"
    }
   ],
   "source": [
    "y2_axis = y_axis[15:25]\n",
    "x_axis = np.arange(15,25)\n",
    "plt.xlabel(\"Loss-rank\")\n",
    "plt.ylabel(\"Normalized Loss\")\n",
    "plt.plot(x_axis, y2_axis)\n",
    "plt.show()"
   ]
  },
  {
   "cell_type": "code",
   "execution_count": 423,
   "id": "02c7bd50",
   "metadata": {},
   "outputs": [
    {
     "name": "stdout",
     "output_type": "stream",
     "text": [
      "[22, 1.0, 0.8846153846153846, 0.9387755102040816, 0.9745762711864407, 0.969135696624474]\n",
      "false positives 0\n"
     ]
    }
   ],
   "source": [
    "j= 22\n",
    "current_alarms = prediction_array[0:j+1]\n",
    "current_normals = prediction_array[j+1:]\n",
    "positives = j+1\n",
    "true_positives = np.sum(current_alarms)\n",
    "false_positives = positives - true_positives\n",
    "negatives = 3000 - positives\n",
    "false_negatives = np.sum(current_normals)\n",
    "true_negatives = negatives - false_negatives\n",
    "precision = true_positives/(true_positives+false_positives)\n",
    "recall = true_positives/(true_positives+false_negatives)\n",
    "f1_score = 2*precision*recall/(precision+recall)\n",
    "fhalf_score = 5/4*precision*recall/(1/4*precision+recall)\n",
    "best_score = f1_score\n",
    "precision_on_normal = true_negatives/(true_negatives+false_negatives)\n",
    "recall_on_normal = true_negatives/(true_negatives+false_positives)\n",
    "f1_score_on_normal = 2*precision_on_normal*recall_on_normal/(precision_on_normal+recall_on_normal)\n",
    "macro_f1_score = (f1_score + f1_score_on_normal)/2\n",
    "best_cut = [j, precision, recall, f1_score, fhalf_score, macro_f1_score]    \n",
    "print(best_cut)\n",
    "print('false positives', false_positives)"
   ]
  }
 ],
 "metadata": {
  "kernelspec": {
   "display_name": "Python 3 (ipykernel)",
   "language": "python",
   "name": "python3"
  },
  "language_info": {
   "codemirror_mode": {
    "name": "ipython",
    "version": 3
   },
   "file_extension": ".py",
   "mimetype": "text/x-python",
   "name": "python",
   "nbconvert_exporter": "python",
   "pygments_lexer": "ipython3",
   "version": "3.9.7"
  }
 },
 "nbformat": 4,
 "nbformat_minor": 5
}
