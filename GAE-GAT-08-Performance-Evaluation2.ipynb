{
 "cells": [
  {
   "cell_type": "code",
   "execution_count": 1,
   "id": "e732e07a",
   "metadata": {},
   "outputs": [],
   "source": [
    "import json\n",
    "import glob\n",
    "from os import listdir\n",
    "from os.path import isfile, join\n",
    "import os.path as osp\n",
    "import copy\n",
    "import os\n",
    "import pickle\n",
    "from datetime import datetime\n",
    "import random\n",
    "from pm4py.objects.conversion.log import converter as log_converter\n",
    "from pm4py.objects.log.exporter.xes import exporter as xes_exporter\n",
    "from pm4py.objects.log.importer.xes import importer as xes_importer\n",
    "from pm4py.algo.filtering.log.attributes import attributes_filter\n",
    "import numpy as np\n",
    "from sklearn.preprocessing import OneHotEncoder\n",
    "from sklearn import metrics\n",
    "import pandas as pd\n",
    "import torch\n",
    "import torch.nn as nn\n",
    "import torch.nn.functional as F\n",
    "from torch_geometric.data import Dataset, Data\n",
    "from torch_geometric.loader import DataLoader\n",
    "from torch_geometric.nn import NNConv\n",
    "from torch_geometric.nn import GATv2Conv\n",
    "import matplotlib.pyplot as plt\n",
    "from matplotlib.pyplot import figure"
   ]
  },
  {
   "cell_type": "code",
   "execution_count": 2,
   "id": "acc48670",
   "metadata": {},
   "outputs": [],
   "source": [
    "def nextplot(force=False):\n",
    "    \"\"\"Start a new plot.\n",
    "\n",
    "    In a notebook (or if `force=True`), create a new figure. Otherwise (e.g, in\n",
    "    IPython), clear the current figure.\n",
    "\n",
    "    \"\"\"\n",
    "    inNotebook = \"IPKernelApp\" in get_ipython().config\n",
    "    if force or inNotebook:\n",
    "        plt.figure()  # this creates a new plot\n",
    "    else:\n",
    "        plt.clf()  # and this clears the current one"
   ]
  },
  {
   "cell_type": "markdown",
   "id": "a9faf566",
   "metadata": {},
   "source": [
    "### final evaluation for BINet"
   ]
  },
  {
   "cell_type": "code",
   "execution_count": 37,
   "id": "3597f57e",
   "metadata": {},
   "outputs": [],
   "source": [
    "# define anomaly ratio function\n",
    "def cut_ratio_func (scores, max_ratio):\n",
    "    all_cases = len(scores)\n",
    "    temp_df = scores.loc[scores['max_ratio'] > max_ratio]\n",
    "    suspicious_cases = len(temp_df)\n",
    "    ratio = suspicious_cases/all_cases\n",
    "    return ratio"
   ]
  },
  {
   "cell_type": "code",
   "execution_count": 38,
   "id": "d9980acb",
   "metadata": {},
   "outputs": [],
   "source": [
    "# define anomaly ratio function\n",
    "def second_derivative (scores, max_ratio, omega):\n",
    "    first_anomaly_ratio = cut_ratio_func(scores, max_ratio-omega)\n",
    "    second_anomaly_ratio = cut_ratio_func(scores, max_ratio)\n",
    "    third_anomaly_ratio = cut_ratio_func(scores, max_ratio+omega)\n",
    "    second_der = (first_anomaly_ratio-2*second_anomaly_ratio+third_anomaly_ratio)/np.power(omega,2)\n",
    "    return second_der"
   ]
  },
  {
   "cell_type": "code",
   "execution_count": 343,
   "id": "e067af0a",
   "metadata": {},
   "outputs": [
    {
     "data": {
      "text/html": [
       "<div>\n",
       "<style scoped>\n",
       "    .dataframe tbody tr th:only-of-type {\n",
       "        vertical-align: middle;\n",
       "    }\n",
       "\n",
       "    .dataframe tbody tr th {\n",
       "        vertical-align: top;\n",
       "    }\n",
       "\n",
       "    .dataframe thead th {\n",
       "        text-align: right;\n",
       "    }\n",
       "</style>\n",
       "<table border=\"1\" class=\"dataframe\">\n",
       "  <thead>\n",
       "    <tr style=\"text-align: right;\">\n",
       "      <th></th>\n",
       "      <th>case_id</th>\n",
       "      <th>label</th>\n",
       "    </tr>\n",
       "  </thead>\n",
       "  <tbody>\n",
       "    <tr>\n",
       "      <th>12000</th>\n",
       "      <td>12001</td>\n",
       "      <td>normal</td>\n",
       "    </tr>\n",
       "  </tbody>\n",
       "</table>\n",
       "</div>"
      ],
      "text/plain": [
       "       case_id   label\n",
       "12000    12001  normal"
      ]
     },
     "execution_count": 343,
     "metadata": {},
     "output_type": "execute_result"
    }
   ],
   "source": [
    "# import the truth label vactor\n",
    "truth_label_path = r'D:\\Final master thesis evaluation\\large-thirty\\large-0.3-1.csv'\n",
    "anomaly_scores_path = r'D:\\Final master thesis evaluation\\large-thirty\\binet_loss.pt'\n",
    "label_csv = pd.read_csv(truth_label_path)\n",
    "label_csv.drop(\"Unnamed: 0\", axis=1, inplace=True)\n",
    "label_csv[\"case_id\"] = pd.to_numeric(label_csv[\"case_id\"])\n",
    "label_csv.case_id.astype(str).astype(int)\n",
    "label_csv.label.astype(str)\n",
    "#label_csv.dtypes\n",
    "validation_csv = label_csv.loc[label_csv['case_id'] > 9000]\n",
    "validation_csv = validation_csv.loc[label_csv['case_id'] < 12001]\n",
    "test_csv =  label_csv.loc[label_csv['case_id'] > 12000]\n",
    "test_csv.head(1)"
   ]
  },
  {
   "cell_type": "code",
   "execution_count": 344,
   "id": "a4dc2e7d",
   "metadata": {},
   "outputs": [
    {
     "data": {
      "text/html": [
       "<div>\n",
       "<style scoped>\n",
       "    .dataframe tbody tr th:only-of-type {\n",
       "        vertical-align: middle;\n",
       "    }\n",
       "\n",
       "    .dataframe tbody tr th {\n",
       "        vertical-align: top;\n",
       "    }\n",
       "\n",
       "    .dataframe thead th {\n",
       "        text-align: right;\n",
       "    }\n",
       "</style>\n",
       "<table border=\"1\" class=\"dataframe\">\n",
       "  <thead>\n",
       "    <tr style=\"text-align: right;\">\n",
       "      <th></th>\n",
       "      <th>case_id</th>\n",
       "      <th>max_ratio</th>\n",
       "      <th>label</th>\n",
       "    </tr>\n",
       "  </thead>\n",
       "  <tbody>\n",
       "    <tr>\n",
       "      <th>0</th>\n",
       "      <td>12001</td>\n",
       "      <td>3.625124</td>\n",
       "      <td>normal</td>\n",
       "    </tr>\n",
       "    <tr>\n",
       "      <th>1</th>\n",
       "      <td>12002</td>\n",
       "      <td>4.015330</td>\n",
       "      <td>normal</td>\n",
       "    </tr>\n",
       "    <tr>\n",
       "      <th>2</th>\n",
       "      <td>12003</td>\n",
       "      <td>3.464501</td>\n",
       "      <td>normal</td>\n",
       "    </tr>\n",
       "    <tr>\n",
       "      <th>3</th>\n",
       "      <td>12004</td>\n",
       "      <td>3.794530</td>\n",
       "      <td>normal</td>\n",
       "    </tr>\n",
       "    <tr>\n",
       "      <th>4</th>\n",
       "      <td>12005</td>\n",
       "      <td>31.610479</td>\n",
       "      <td>{'anomaly': 'Insert', 'attr': {'indices': [4, ...</td>\n",
       "    </tr>\n",
       "  </tbody>\n",
       "</table>\n",
       "</div>"
      ],
      "text/plain": [
       "   case_id  max_ratio                                              label\n",
       "0    12001   3.625124                                             normal\n",
       "1    12002   4.015330                                             normal\n",
       "2    12003   3.464501                                             normal\n",
       "3    12004   3.794530                                             normal\n",
       "4    12005  31.610479  {'anomaly': 'Insert', 'attr': {'indices': [4, ..."
      ]
     },
     "execution_count": 344,
     "metadata": {},
     "output_type": "execute_result"
    }
   ],
   "source": [
    "loss_df = pd.read_pickle(anomaly_scores_path)\n",
    "loss_df.head()"
   ]
  },
  {
   "cell_type": "code",
   "execution_count": 358,
   "id": "80d72d42",
   "metadata": {},
   "outputs": [
    {
     "name": "stdout",
     "output_type": "stream",
     "text": [
      "0\n"
     ]
    }
   ],
   "source": [
    "suspicious_csv = loss_df.loc[loss_df['max_ratio'] > 32]\n",
    "print(len(suspicious_csv))"
   ]
  },
  {
   "cell_type": "code",
   "execution_count": 359,
   "id": "fbb3a142",
   "metadata": {},
   "outputs": [
    {
     "name": "stdout",
     "output_type": "stream",
     "text": [
      "[3.5, 5.0, 6.5, 8.0, 9.5, 11.0, 12.5, 14.0, 15.5, 17.0, 18.5, 20.0, 21.5, 23.0, 24.5, 26.0, 27.5, 29.0, 30.5, 32.0]\n",
      "[-0.001223333333333333, 0.0018458333333333332, 0.001845, 0.0018416666666666664, 0.0018375, 0.0017333333333333335, 0.0012183333333333332, 0.0012183333333333332, 0.00122, 0.0012216666666666667, 0.0012266666666666667, 0.0012283333333333332, 0.00123, 0.0011983333333333334, -0.0006208333333333333, -0.0006175, -0.0006158333333333333, -0.0006041666666666666, -0.0005633333333333333, 0.0006416666666666667]\n"
     ]
    }
   ],
   "source": [
    "omega = 20\n",
    "alpha_low = 2\n",
    "alpha_high = 32\n",
    "domain_list = []\n",
    "for i in range (1,omega+1):\n",
    "    domain_list.append(alpha_low+i/omega*(alpha_high-alpha_low))\n",
    "print(domain_list)\n",
    "second_derivative_list = []\n",
    "for alpha in domain_list:\n",
    "    sec_der = second_derivative (loss_df, alpha, omega)\n",
    "    second_derivative_list.append(sec_der)\n",
    "print(second_derivative_list)"
   ]
  },
  {
   "cell_type": "code",
   "execution_count": 360,
   "id": "c8ce4c14",
   "metadata": {},
   "outputs": [
    {
     "name": "stdout",
     "output_type": "stream",
     "text": [
      "[1.0, 0.8711864406779661, 0.9311594202898551, 0.9712773998488283, 0.9524581631836015]\n"
     ]
    }
   ],
   "source": [
    "suspicious_csv = loss_df.loc[loss_df['max_ratio'] > 5.0]\n",
    "result = pd.merge(suspicious_csv, test_csv, on=[\"case_id\"])\n",
    "false_positve_df = result.loc[result['label_x'] == 'normal']\n",
    "anomalies = test_csv.loc[test_csv['label'] != 'normal']\n",
    "positives = len(suspicious_csv)\n",
    "negatives = len(test_csv)-positives\n",
    "false_positives =len(false_positve_df)\n",
    "true_positives = positives - false_positives\n",
    "false_negatives = len(anomalies) - true_positives\n",
    "true_negatives = negatives - false_negatives\n",
    "precision = true_positives/(true_positives+false_positives)\n",
    "recall = true_positives/(true_positives+false_negatives)\n",
    "f1_score = 2*precision*recall/(precision+recall)\n",
    "fhalf_score = 5/4*precision*recall/(1/4*precision+recall)\n",
    "precision_on_normal = true_negatives/(true_negatives+false_negatives)\n",
    "recall_on_normal = true_negatives/(true_negatives+false_positives)\n",
    "f1_score_on_normal = 2*precision_on_normal*recall_on_normal/(precision_on_normal+recall_on_normal)\n",
    "macro_f1_score = (f1_score + f1_score_on_normal)/2\n",
    "best_cut = [precision, recall, f1_score, fhalf_score, macro_f1_score]  \n",
    "print(best_cut)"
   ]
  },
  {
   "cell_type": "markdown",
   "id": "af54c302",
   "metadata": {},
   "source": [
    "### AUPRC, and Nayman"
   ]
  },
  {
   "cell_type": "code",
   "execution_count": 498,
   "id": "c2f1d1c0",
   "metadata": {},
   "outputs": [
    {
     "data": {
      "text/html": [
       "<div>\n",
       "<style scoped>\n",
       "    .dataframe tbody tr th:only-of-type {\n",
       "        vertical-align: middle;\n",
       "    }\n",
       "\n",
       "    .dataframe tbody tr th {\n",
       "        vertical-align: top;\n",
       "    }\n",
       "\n",
       "    .dataframe thead th {\n",
       "        text-align: right;\n",
       "    }\n",
       "</style>\n",
       "<table border=\"1\" class=\"dataframe\">\n",
       "  <thead>\n",
       "    <tr style=\"text-align: right;\">\n",
       "      <th></th>\n",
       "      <th>case_id</th>\n",
       "      <th>label</th>\n",
       "    </tr>\n",
       "  </thead>\n",
       "  <tbody>\n",
       "    <tr>\n",
       "      <th>12000</th>\n",
       "      <td>12001</td>\n",
       "      <td>normal</td>\n",
       "    </tr>\n",
       "  </tbody>\n",
       "</table>\n",
       "</div>"
      ],
      "text/plain": [
       "       case_id   label\n",
       "12000    12001  normal"
      ]
     },
     "execution_count": 498,
     "metadata": {},
     "output_type": "execute_result"
    }
   ],
   "source": [
    "# import the truth label vactor\n",
    "truth_label_path = r'D:\\Final master thesis evaluation\\exp1\\large-0.1-1.csv'\n",
    "gat_path = r'D:\\Final master thesis evaluation\\exp2\\bestgatmodl_test_loss.pt'\n",
    "binet_path = r'D:\\Final master thesis evaluation\\exp2\\binet_loss.pt'\n",
    "label_csv = pd.read_csv(truth_label_path)\n",
    "label_csv.drop(\"Unnamed: 0\", axis=1, inplace=True)\n",
    "label_csv[\"case_id\"] = pd.to_numeric(label_csv[\"case_id\"])\n",
    "label_csv.case_id.astype(str).astype(int)\n",
    "label_csv.label.astype(str)\n",
    "test_csv =  label_csv.loc[label_csv['case_id'] > 12000]\n",
    "test_csv.head(1)"
   ]
  },
  {
   "cell_type": "code",
   "execution_count": 499,
   "id": "d4b5b320",
   "metadata": {},
   "outputs": [
    {
     "data": {
      "text/html": [
       "<div>\n",
       "<style scoped>\n",
       "    .dataframe tbody tr th:only-of-type {\n",
       "        vertical-align: middle;\n",
       "    }\n",
       "\n",
       "    .dataframe tbody tr th {\n",
       "        vertical-align: top;\n",
       "    }\n",
       "\n",
       "    .dataframe thead th {\n",
       "        text-align: right;\n",
       "    }\n",
       "</style>\n",
       "<table border=\"1\" class=\"dataframe\">\n",
       "  <thead>\n",
       "    <tr style=\"text-align: right;\">\n",
       "      <th></th>\n",
       "      <th>case_id</th>\n",
       "      <th>Loss</th>\n",
       "      <th>label</th>\n",
       "    </tr>\n",
       "  </thead>\n",
       "  <tbody>\n",
       "    <tr>\n",
       "      <th>0</th>\n",
       "      <td>14889</td>\n",
       "      <td>1.000000</td>\n",
       "      <td>{'anomaly': 'Rework', 'attr': {'inserted': [{'...</td>\n",
       "    </tr>\n",
       "    <tr>\n",
       "      <th>1</th>\n",
       "      <td>14051</td>\n",
       "      <td>0.959643</td>\n",
       "      <td>{'anomaly': 'Early', 'attr': {'shift_from': 2,...</td>\n",
       "    </tr>\n",
       "    <tr>\n",
       "      <th>2</th>\n",
       "      <td>14247</td>\n",
       "      <td>0.951132</td>\n",
       "      <td>{'anomaly': 'Early', 'attr': {'shift_from': 2,...</td>\n",
       "    </tr>\n",
       "    <tr>\n",
       "      <th>3</th>\n",
       "      <td>12198</td>\n",
       "      <td>0.921277</td>\n",
       "      <td>{'anomaly': 'Rework', 'attr': {'inserted': [{'...</td>\n",
       "    </tr>\n",
       "    <tr>\n",
       "      <th>4</th>\n",
       "      <td>13270</td>\n",
       "      <td>0.916007</td>\n",
       "      <td>{'anomaly': 'Rework', 'attr': {'inserted': [{'...</td>\n",
       "    </tr>\n",
       "  </tbody>\n",
       "</table>\n",
       "</div>"
      ],
      "text/plain": [
       "   case_id      Loss                                              label\n",
       "0    14889  1.000000  {'anomaly': 'Rework', 'attr': {'inserted': [{'...\n",
       "1    14051  0.959643  {'anomaly': 'Early', 'attr': {'shift_from': 2,...\n",
       "2    14247  0.951132  {'anomaly': 'Early', 'attr': {'shift_from': 2,...\n",
       "3    12198  0.921277  {'anomaly': 'Rework', 'attr': {'inserted': [{'...\n",
       "4    13270  0.916007  {'anomaly': 'Rework', 'attr': {'inserted': [{'..."
      ]
     },
     "execution_count": 499,
     "metadata": {},
     "output_type": "execute_result"
    }
   ],
   "source": [
    "temp_gat = pd.read_pickle(gat_path)\n",
    "loss_gat = temp_gat.copy()\n",
    "loss_gat['Loss'] = (loss_gat['Loss'] - loss_gat['Loss'].min()) / (loss_gat['Loss'].max() - loss_gat['Loss'].min())\n",
    "loss_gat[\"case_id\"] = pd.to_numeric(loss_gat[\"case_id\"])\n",
    "result_gat = pd.merge(loss_gat, test_csv, on=[\"case_id\"])\n",
    "sorted_gat = result_gat.sort_values(by=['Loss'], ascending = False, ignore_index = True)\n",
    "sorted_gat.head()"
   ]
  },
  {
   "cell_type": "code",
   "execution_count": 500,
   "id": "38bead64",
   "metadata": {},
   "outputs": [
    {
     "data": {
      "text/html": [
       "<div>\n",
       "<style scoped>\n",
       "    .dataframe tbody tr th:only-of-type {\n",
       "        vertical-align: middle;\n",
       "    }\n",
       "\n",
       "    .dataframe tbody tr th {\n",
       "        vertical-align: top;\n",
       "    }\n",
       "\n",
       "    .dataframe thead th {\n",
       "        text-align: right;\n",
       "    }\n",
       "</style>\n",
       "<table border=\"1\" class=\"dataframe\">\n",
       "  <thead>\n",
       "    <tr style=\"text-align: right;\">\n",
       "      <th></th>\n",
       "      <th>case_id</th>\n",
       "      <th>max_ratio</th>\n",
       "      <th>label</th>\n",
       "    </tr>\n",
       "  </thead>\n",
       "  <tbody>\n",
       "    <tr>\n",
       "      <th>0</th>\n",
       "      <td>14313</td>\n",
       "      <td>62.726774</td>\n",
       "      <td>{'anomaly': 'Rework', 'attr': {'inserted': [{'...</td>\n",
       "    </tr>\n",
       "    <tr>\n",
       "      <th>1</th>\n",
       "      <td>12868</td>\n",
       "      <td>62.726767</td>\n",
       "      <td>{'anomaly': 'Rework', 'attr': {'inserted': [{'...</td>\n",
       "    </tr>\n",
       "    <tr>\n",
       "      <th>2</th>\n",
       "      <td>14981</td>\n",
       "      <td>62.726763</td>\n",
       "      <td>{'anomaly': 'Insert', 'attr': {'indices': [6, ...</td>\n",
       "    </tr>\n",
       "    <tr>\n",
       "      <th>3</th>\n",
       "      <td>13914</td>\n",
       "      <td>62.726763</td>\n",
       "      <td>{'anomaly': 'Insert', 'attr': {'indices': [4, ...</td>\n",
       "    </tr>\n",
       "    <tr>\n",
       "      <th>4</th>\n",
       "      <td>14016</td>\n",
       "      <td>62.726759</td>\n",
       "      <td>{'anomaly': 'Rework', 'attr': {'inserted': [{'...</td>\n",
       "    </tr>\n",
       "  </tbody>\n",
       "</table>\n",
       "</div>"
      ],
      "text/plain": [
       "   case_id  max_ratio                                              label\n",
       "0    14313  62.726774  {'anomaly': 'Rework', 'attr': {'inserted': [{'...\n",
       "1    12868  62.726767  {'anomaly': 'Rework', 'attr': {'inserted': [{'...\n",
       "2    14981  62.726763  {'anomaly': 'Insert', 'attr': {'indices': [6, ...\n",
       "3    13914  62.726763  {'anomaly': 'Insert', 'attr': {'indices': [4, ...\n",
       "4    14016  62.726759  {'anomaly': 'Rework', 'attr': {'inserted': [{'..."
      ]
     },
     "execution_count": 500,
     "metadata": {},
     "output_type": "execute_result"
    }
   ],
   "source": [
    "loss_binet = pd.read_pickle(binet_path)\n",
    "sorted_binet = loss_binet.sort_values(by=['max_ratio'], ascending = False, ignore_index = True)\n",
    "sorted_binet.head()"
   ]
  },
  {
   "cell_type": "code",
   "execution_count": 485,
   "id": "f14681ec",
   "metadata": {},
   "outputs": [
    {
     "name": "stdout",
     "output_type": "stream",
     "text": [
      "0.29333333333333333\n",
      "0.8488888888888889\n"
     ]
    }
   ],
   "source": [
    "gat_list = sorted_gat['label'].tolist()\n",
    "binet_list = sorted_binet['label'].tolist()\n",
    "\n",
    "gat_predictions = []\n",
    "binet_predictions = []\n",
    "\n",
    "for j in range (len(gat_list)):\n",
    "    if gat_list[j] == 'normal':\n",
    "        gat_predictions.append(0)\n",
    "    else:\n",
    "        gat_predictions.append(1)\n",
    "for j in range (len(binet_list)):\n",
    "    if binet_list[j] == 'normal':\n",
    "        binet_predictions.append(0)\n",
    "    else:\n",
    "        binet_predictions.append(1)\n",
    "\n",
    "gat_array = np.array(gat_predictions)\n",
    "binet_array = np.array(binet_predictions)\n",
    "        \n",
    "gat_auprc  = 0\n",
    "gat_precision = []\n",
    "gat_recall = []\n",
    "prev_precision = 1\n",
    "prev_recall = 0\n",
    "for j in range (len(gat_list)):\n",
    "    current_alarms = gat_array[0:j+1]\n",
    "    current_normals = gat_array[j+1:]\n",
    "    positives = j+1\n",
    "    true_positives = np.sum(current_alarms)\n",
    "    false_positives = positives - true_positives\n",
    "    negatives = 3000 - positives\n",
    "    false_negatives = np.sum(current_normals)\n",
    "    true_negatives = negatives - false_negatives\n",
    "    precision = true_positives/(true_positives+false_positives)\n",
    "    recall = true_positives/(true_positives+false_negatives)\n",
    "    gat_precision.append(precision)\n",
    "    gat_recall.append(recall)\n",
    "    if precision == prev_precision:\n",
    "        gat_auprc += precision*(recall-prev_recall)\n",
    "    prev_precision = precision\n",
    "    prev_recall = recall\n",
    "\n",
    "binet_auprc  = 0\n",
    "binet_precision = []\n",
    "binet_recall = []\n",
    "prev_precision = 1\n",
    "prev_recall = 0\n",
    "for j in range (len(binet_list)):\n",
    "    current_alarms = binet_array[0:j+1]\n",
    "    current_normals = binet_array[j+1:]\n",
    "    positives = j+1\n",
    "    true_positives = np.sum(current_alarms)\n",
    "    false_positives = positives - true_positives\n",
    "    negatives = 3000 - positives\n",
    "    false_negatives = np.sum(current_normals)\n",
    "    true_negatives = negatives - false_negatives\n",
    "    precision = true_positives/(true_positives+false_positives)\n",
    "    recall = true_positives/(true_positives+false_negatives)\n",
    "    binet_precision.append(precision)\n",
    "    binet_recall.append(recall)\n",
    "    if precision == prev_precision:\n",
    "        binet_auprc += precision*(recall-prev_recall)\n",
    "    prev_precision = precision\n",
    "    prev_recall = recall\n",
    "    \n",
    "print(gat_auprc)\n",
    "print(binet_auprc)"
   ]
  },
  {
   "cell_type": "code",
   "execution_count": 483,
   "id": "f128574d",
   "metadata": {},
   "outputs": [
    {
     "data": {
      "image/png": "[encoded data removed]",
      "text/plain": [
       "<Figure size 432x288 with 1 Axes>"
      ]
     },
     "metadata": {
      "needs_background": "light"
     },
     "output_type": "display_data"
    }
   ],
   "source": [
    "y_axis = np.array(gat_precision)\n",
    "x_axis = np.array(gat_recall)\n",
    "nextplot()\n",
    "plt.xlabel(\"Recall\")\n",
    "plt.ylabel(\"Precision\")\n",
    "plt.title(\"Precsion-Recall curve: Large dataset, 5% Anomaly, GAE-GAT model\")\n",
    "plt.plot(x_axis, y_axis)\n",
    "plt.savefig(\"AUPRC-GAT\", dpi=1200)\n",
    "plt.show()"
   ]
  },
  {
   "cell_type": "code",
   "execution_count": 449,
   "id": "c0068445",
   "metadata": {},
   "outputs": [
    {
     "data": {
      "image/png": "[encoded data removed]",
      "text/plain": [
       "<Figure size 432x288 with 1 Axes>"
      ]
     },
     "metadata": {
      "needs_background": "light"
     },
     "output_type": "display_data"
    }
   ],
   "source": [
    "y_axis = np.array(binet_precision)\n",
    "x_axis = np.array(binet_recall)\n",
    "nextplot()\n",
    "plt.xlabel(\"Recall\")\n",
    "plt.ylabel(\"Precision\")\n",
    "plt.title(\"Precsion-Recall curve: Large dataset, 5% Anomaly, BINet model\")\n",
    "plt.plot(x_axis, y_axis)\n",
    "plt.savefig(\"AUPRC-BINet\", dpi=1200)\n",
    "plt.show()"
   ]
  },
  {
   "cell_type": "code",
   "execution_count": 504,
   "id": "d3f71d78",
   "metadata": {},
   "outputs": [
    {
     "name": "stdout",
     "output_type": "stream",
     "text": [
      "59\n",
      "21\n"
     ]
    }
   ],
   "source": [
    "gat_list = sorted_gat['label'].tolist()\n",
    "binet_list = sorted_binet['label'].tolist()\n",
    "\n",
    "gat_predictions = []\n",
    "binet_predictions = []\n",
    "\n",
    "for j in range (len(gat_list)):\n",
    "    if gat_list[j] == 'normal':\n",
    "        gat_predictions.append(0)\n",
    "    else:\n",
    "        gat_predictions.append(1)\n",
    "for j in range (len(binet_list)):\n",
    "    if binet_list[j] == 'normal':\n",
    "        binet_predictions.append(0)\n",
    "    else:\n",
    "        binet_predictions.append(1)\n",
    "\n",
    "gat_array = np.array(gat_predictions)\n",
    "binet_array = np.array(binet_predictions)\n",
    "alpha_max = 0.2   \n",
    "\n",
    "for j in range (len(gat_list)):\n",
    "    current_alarms = gat_array[0:j+1]\n",
    "    current_normals = gat_array[j+1:]\n",
    "    positives = j+1\n",
    "    true_positives = np.sum(current_alarms)\n",
    "    false_positives = positives - true_positives\n",
    "    negatives = 3000 - positives\n",
    "    false_negatives = np.sum(current_normals)\n",
    "    true_negatives = negatives - false_negatives\n",
    "    if false_positives > alpha_max*positives:\n",
    "        break\n",
    "print(false_negatives)\n",
    "\n",
    "for j in range (len(binet_list)):\n",
    "    current_alarms = binet_array[0:j+1]\n",
    "    current_normals = binet_array[j+1:]\n",
    "    positives = j+1\n",
    "    true_positives = np.sum(current_alarms)\n",
    "    false_positives = positives - true_positives\n",
    "    negatives = 3000 - positives\n",
    "    false_negatives = np.sum(current_normals)\n",
    "    true_negatives = negatives - false_negatives\n",
    "    if false_positives > alpha_max*positives:\n",
    "        break    \n",
    "\n",
    "print(false_negatives)"
   ]
  },
  {
   "cell_type": "markdown",
   "id": "d92f96af",
   "metadata": {},
   "source": [
    "### limitations"
   ]
  },
  {
   "cell_type": "code",
   "execution_count": 39,
   "id": "49b77428",
   "metadata": {},
   "outputs": [
    {
     "data": {
      "text/html": [
       "<div>\n",
       "<style scoped>\n",
       "    .dataframe tbody tr th:only-of-type {\n",
       "        vertical-align: middle;\n",
       "    }\n",
       "\n",
       "    .dataframe tbody tr th {\n",
       "        vertical-align: top;\n",
       "    }\n",
       "\n",
       "    .dataframe thead th {\n",
       "        text-align: right;\n",
       "    }\n",
       "</style>\n",
       "<table border=\"1\" class=\"dataframe\">\n",
       "  <thead>\n",
       "    <tr style=\"text-align: right;\">\n",
       "      <th></th>\n",
       "      <th>case_id</th>\n",
       "      <th>label</th>\n",
       "    </tr>\n",
       "  </thead>\n",
       "  <tbody>\n",
       "    <tr>\n",
       "      <th>12000</th>\n",
       "      <td>12001</td>\n",
       "      <td>normal</td>\n",
       "    </tr>\n",
       "  </tbody>\n",
       "</table>\n",
       "</div>"
      ],
      "text/plain": [
       "       case_id   label\n",
       "12000    12001  normal"
      ]
     },
     "execution_count": 39,
     "metadata": {},
     "output_type": "execute_result"
    }
   ],
   "source": [
    "# import the truth label vactor\n",
    "truth_label_path = r'D:\\Final master thesis evaluation\\exp1\\large-0.1-1.csv'\n",
    "anomaly_scores_path = r'D:\\Final master thesis evaluation\\exp2\\bestgatmodl_test_loss.pt'\n",
    "anomaly_scores_path2 = r'D:\\Final master thesis evaluation\\exp2\\binet_loss.pt'\n",
    "label_csv = pd.read_csv(truth_label_path)\n",
    "label_csv.drop(\"Unnamed: 0\", axis=1, inplace=True)\n",
    "label_csv[\"case_id\"] = pd.to_numeric(label_csv[\"case_id\"])\n",
    "label_csv.case_id.astype(str).astype(int)\n",
    "label_csv.label.astype(str)\n",
    "#label_csv.dtypes\n",
    "test_csv =  label_csv.loc[label_csv['case_id'] > 12000]\n",
    "loss_df = pd.read_pickle(anomaly_scores_path)\n",
    "# normalize anomaly scores\n",
    "normalized_loss_df = loss_df.copy()\n",
    "normalized_loss_df['Loss'] = (normalized_loss_df['Loss'] - normalized_loss_df['Loss'].min()) / (normalized_loss_df['Loss'].max() - normalized_loss_df['Loss'].min())\n",
    "# sort the normalized scores\n",
    "sorted_loss = normalized_loss_df.sort_values(by=['Loss'], ascending = False, ignore_index = True)\n",
    "test_csv.head(1)"
   ]
  },
  {
   "cell_type": "code",
   "execution_count": 27,
   "id": "48359171",
   "metadata": {},
   "outputs": [
    {
     "data": {
      "text/html": [
       "<div>\n",
       "<style scoped>\n",
       "    .dataframe tbody tr th:only-of-type {\n",
       "        vertical-align: middle;\n",
       "    }\n",
       "\n",
       "    .dataframe tbody tr th {\n",
       "        vertical-align: top;\n",
       "    }\n",
       "\n",
       "    .dataframe thead th {\n",
       "        text-align: right;\n",
       "    }\n",
       "</style>\n",
       "<table border=\"1\" class=\"dataframe\">\n",
       "  <thead>\n",
       "    <tr style=\"text-align: right;\">\n",
       "      <th></th>\n",
       "      <th>case_id</th>\n",
       "      <th>Loss</th>\n",
       "    </tr>\n",
       "  </thead>\n",
       "  <tbody>\n",
       "    <tr>\n",
       "      <th>0</th>\n",
       "      <td>14889</td>\n",
       "      <td>1.0</td>\n",
       "    </tr>\n",
       "  </tbody>\n",
       "</table>\n",
       "</div>"
      ],
      "text/plain": [
       "  case_id  Loss\n",
       "0   14889   1.0"
      ]
     },
     "execution_count": 27,
     "metadata": {},
     "output_type": "execute_result"
    }
   ],
   "source": [
    "sorted_loss.head(1)"
   ]
  },
  {
   "cell_type": "code",
   "execution_count": 18,
   "id": "f98f4b19",
   "metadata": {},
   "outputs": [
    {
     "name": "stdout",
     "output_type": "stream",
     "text": [
      "2566\n",
      "77\n",
      "60\n",
      "78\n",
      "82\n",
      "73\n",
      "64\n"
     ]
    }
   ],
   "source": [
    "normal_csv =  test_csv.loc[test_csv['label'] == 'normal']\n",
    "anomalous_csv = test_csv.loc[test_csv['label'] != 'normal']\n",
    "insert_csv = anomalous_csv.loc[anomalous_csv['label'].str.contains(\"Insert\")]\n",
    "attribute_csv = anomalous_csv.loc[anomalous_csv['label'].str.contains(\"Attribute\")]\n",
    "rework_csv = anomalous_csv.loc[anomalous_csv['label'].str.contains(\"Rework\")]\n",
    "skip_csv = anomalous_csv.loc[anomalous_csv['label'].str.contains(\"SkipSequence\")]\n",
    "late_csv = anomalous_csv.loc[anomalous_csv['label'].str.contains(\"Late\")]\n",
    "early_csv = anomalous_csv.loc[anomalous_csv['label'].str.contains(\"Early\")]\n",
    "print(len(normal_csv))\n",
    "print(len(insert_csv))\n",
    "print(len(attribute_csv))\n",
    "print(len(rework_csv))\n",
    "print(len(skip_csv))\n",
    "print(len(late_csv))\n",
    "print(len(early_csv))"
   ]
  },
  {
   "cell_type": "code",
   "execution_count": 21,
   "id": "8d4fcda6",
   "metadata": {},
   "outputs": [
    {
     "name": "stdout",
     "output_type": "stream",
     "text": [
      "first false positive: 284\n",
      "[370, 0.9973045822102425, 0.8525345622119815, 0.919254658385093, 0.9756561430201598, 0.9996102883865939, 0.9874879692011549, 0.9533713137931239]\n"
     ]
    }
   ],
   "source": [
    "loss_df[\"case_id\"] = pd.to_numeric(loss_df[\"case_id\"])\n",
    "result = pd.merge(loss_df, test_csv, on=[\"case_id\"])\n",
    "sorted_result = result.sort_values(by=['Loss'], ascending = False, ignore_index = True)\n",
    "sorted_list = sorted_result['label'].tolist()\n",
    "predictions = []\n",
    "for j in range (len(sorted_list)):\n",
    "    if sorted_list[j] == 'normal':\n",
    "        predictions.append(0)\n",
    "    else:\n",
    "        predictions.append(1)\n",
    "prediction_array = np.array(predictions)\n",
    "best_score = 0\n",
    "first_fp = True\n",
    "for j in range (len(sorted_list)):\n",
    "    current_alarms = prediction_array[0:j+1]\n",
    "    current_normals = prediction_array[j+1:]\n",
    "    positives = j+1\n",
    "    true_positives = np.sum(current_alarms)\n",
    "    false_positives = positives - true_positives\n",
    "    if first_fp and false_positives > 0:\n",
    "        first_fp = False\n",
    "        print('first false positive:', j)\n",
    "    negatives = 3000 - positives\n",
    "    false_negatives = np.sum(current_normals)\n",
    "    true_negatives = negatives - false_negatives\n",
    "    precision = true_positives/(true_positives+false_positives)\n",
    "    recall = true_positives/(true_positives+false_negatives)\n",
    "    f1_score = 2*precision*recall/(precision+recall)\n",
    "    if f1_score > best_score:\n",
    "        best_score = f1_score\n",
    "        precision_on_normal = true_negatives/(true_negatives+false_negatives)\n",
    "        recall_on_normal = true_negatives/(true_negatives+false_positives)\n",
    "        f1_score_on_normal = 2*precision_on_normal*recall_on_normal/(precision_on_normal+recall_on_normal)\n",
    "        macro_f1_score = (f1_score + f1_score_on_normal)/2\n",
    "        best_cut = [j, precision, recall, f1_score, precision_on_normal, recall_on_normal,\n",
    "                    f1_score_on_normal, macro_f1_score]    \n",
    "print(best_cut)"
   ]
  },
  {
   "cell_type": "code",
   "execution_count": 23,
   "id": "c2435a6e",
   "metadata": {},
   "outputs": [
    {
     "data": {
      "image/png": "[encoded data removed]",
      "text/plain": [
       "<Figure size 432x288 with 1 Axes>"
      ]
     },
     "metadata": {
      "needs_background": "light"
     },
     "output_type": "display_data"
    }
   ],
   "source": [
    "loss_list = sorted_loss['Loss'].tolist()\n",
    "y_axis = np.array(loss_list)\n",
    "x_axis = np.arange(len(test_csv))\n",
    "nextplot()\n",
    "plt.xlabel(\"Loss-rank\")\n",
    "plt.ylabel(\"Normalized Loss\")\n",
    "plt.plot(x_axis, y_axis)\n",
    "plt.show()"
   ]
  },
  {
   "cell_type": "code",
   "execution_count": 24,
   "id": "7c1a6b58",
   "metadata": {},
   "outputs": [
    {
     "data": {
      "image/png": "[encoded data removed]",
      "text/plain": [
       "<Figure size 432x288 with 1 Axes>"
      ]
     },
     "metadata": {
      "needs_background": "light"
     },
     "output_type": "display_data"
    }
   ],
   "source": [
    "y2_axis = y_axis[300:400]\n",
    "x_axis = np.arange(300,400)\n",
    "plt.xlabel(\"Loss-rank\")\n",
    "plt.ylabel(\"Normalized Loss\")\n",
    "plt.plot(x_axis, y2_axis)\n",
    "plt.show()"
   ]
  },
  {
   "cell_type": "code",
   "execution_count": 25,
   "id": "84a5daee",
   "metadata": {},
   "outputs": [
    {
     "data": {
      "image/png": "[encoded data removed]",
      "text/plain": [
       "<Figure size 432x288 with 1 Axes>"
      ]
     },
     "metadata": {
      "needs_background": "light"
     },
     "output_type": "display_data"
    }
   ],
   "source": [
    "y2_axis = y_axis[360:380]\n",
    "x_axis = np.arange(360,380)\n",
    "plt.xlabel(\"Loss-rank\")\n",
    "plt.ylabel(\"Normalized Loss\")\n",
    "plt.plot(x_axis, y2_axis)\n",
    "plt.show()"
   ]
  },
  {
   "cell_type": "code",
   "execution_count": 26,
   "id": "4285295b",
   "metadata": {},
   "outputs": [
    {
     "name": "stdout",
     "output_type": "stream",
     "text": [
      "[370, 0.9973045822102425, 0.8525345622119815, 0.919254658385093, 0.9756561430201598, 0.9996102883865939, 0.9874879692011549, 0.9533713137931239]\n",
      "false positives 1\n"
     ]
    }
   ],
   "source": [
    "j= 370\n",
    "current_alarms = prediction_array[0:j+1]\n",
    "current_normals = prediction_array[j+1:]\n",
    "positives = j+1\n",
    "true_positives = np.sum(current_alarms)\n",
    "false_positives = positives - true_positives\n",
    "negatives = 3000 - positives\n",
    "false_negatives = np.sum(current_normals)\n",
    "true_negatives = negatives - false_negatives\n",
    "precision = true_positives/(true_positives+false_positives)\n",
    "recall = true_positives/(true_positives+false_negatives)\n",
    "f1_score = 2*precision*recall/(precision+recall)\n",
    "best_score = f1_score\n",
    "precision_on_normal = true_negatives/(true_negatives+false_negatives)\n",
    "recall_on_normal = true_negatives/(true_negatives+false_positives)\n",
    "f1_score_on_normal = 2*precision_on_normal*recall_on_normal/(precision_on_normal+recall_on_normal)\n",
    "macro_f1_score = (f1_score + f1_score_on_normal)/2\n",
    "best_cut = [j, precision, recall, f1_score, precision_on_normal, recall_on_normal,\n",
    "            f1_score_on_normal, macro_f1_score]    \n",
    "print(best_cut)\n",
    "print('false positives', false_positives)"
   ]
  },
  {
   "cell_type": "code",
   "execution_count": 36,
   "id": "af65cf30",
   "metadata": {},
   "outputs": [
    {
     "name": "stdout",
     "output_type": "stream",
     "text": [
      "77\n",
      "4\n",
      "78\n",
      "77\n",
      "72\n",
      "61\n"
     ]
    }
   ],
   "source": [
    "gat_alarm_temp = sorted_loss['case_id'].tolist()\n",
    "gat_alarm_temp2 = list(map(int, gat_alarm_temp))\n",
    "gat_alarm_list = gat_alarm_temp2[:370]\n",
    "insert_list = insert_csv['case_id'].tolist()\n",
    "attribute_list = attribute_csv['case_id'].tolist()\n",
    "rework_list = rework_csv['case_id'].tolist()\n",
    "skip_list = skip_csv['case_id'].tolist()\n",
    "late_list = late_csv['case_id'].tolist()\n",
    "early_list = early_csv['case_id'].tolist()\n",
    "found_insert = list(set(gat_alarm_list).intersection(insert_list))\n",
    "found_attribute = list(set(gat_alarm_list).intersection(attribute_list))\n",
    "found_rework = list(set(gat_alarm_list).intersection(rework_list))\n",
    "found_skip = list(set(gat_alarm_list).intersection(skip_list))\n",
    "found_late = list(set(gat_alarm_list).intersection(late_list))\n",
    "found_early = list(set(gat_alarm_list).intersection(early_list))\n",
    "print(len(found_insert))\n",
    "print(len(found_attribute))\n",
    "print(len(found_rework))\n",
    "print(len(found_skip))\n",
    "print(len(found_late))\n",
    "print(len(found_early))"
   ]
  },
  {
   "cell_type": "code",
   "execution_count": 40,
   "id": "cf2c6683",
   "metadata": {},
   "outputs": [
    {
     "name": "stdout",
     "output_type": "stream",
     "text": [
      "[3.5, 5.0, 6.5, 8.0, 9.5, 11.0, 12.5, 14.0, 15.5, 17.0, 18.5, 20.0, 21.5, 23.0, 24.5, 26.0, 27.5, 29.0, 30.5, 32.0]\n",
      "[-0.0012900000000000001, 0.00217, 0.00217, 0.0021666666666666666, 0.0021658333333333334, 0.002163333333333333, 0.0021616666666666668, 0.002160833333333333, 0.002160833333333333, 0.002160833333333333, 0.002160833333333333, 0.002160833333333333, 0.00216, 0.002116666666666667, -7.500000000000007e-06, -7.500000000000007e-06, -5.833333333333385e-06, 6.938893903907229e-20, 2.499999999999933e-06, 5.833333333333315e-06]\n"
     ]
    }
   ],
   "source": [
    "loss_binet_df = pd.read_pickle(anomaly_scores_path2)\n",
    "omega = 20\n",
    "alpha_low = 2\n",
    "alpha_high = 32\n",
    "domain_list = []\n",
    "for i in range (1,omega+1):\n",
    "    domain_list.append(alpha_low+i/omega*(alpha_high-alpha_low))\n",
    "print(domain_list)\n",
    "second_derivative_list = []\n",
    "for alpha in domain_list:\n",
    "    sec_der = second_derivative (loss_binet_df, alpha, omega)\n",
    "    second_derivative_list.append(sec_der)\n",
    "print(second_derivative_list)"
   ]
  },
  {
   "cell_type": "code",
   "execution_count": 43,
   "id": "fb50693a",
   "metadata": {},
   "outputs": [
    {
     "name": "stdout",
     "output_type": "stream",
     "text": [
      "77\n",
      "9\n",
      "78\n",
      "81\n",
      "73\n",
      "64\n"
     ]
    }
   ],
   "source": [
    "suspicious_csv = loss_binet_df.loc[loss_binet_df['max_ratio'] > 5.0]\n",
    "binet_alarm_list = suspicious_csv['case_id'].tolist()\n",
    "found_insert2 = list(set(binet_alarm_list).intersection(insert_list))\n",
    "found_attribute2 = list(set(binet_alarm_list).intersection(attribute_list))\n",
    "found_rework2 = list(set(binet_alarm_list).intersection(rework_list))\n",
    "found_skip2 = list(set(binet_alarm_list).intersection(skip_list))\n",
    "found_late2 = list(set(binet_alarm_list).intersection(late_list))\n",
    "found_early2 = list(set(binet_alarm_list).intersection(early_list))\n",
    "print(len(found_insert2))\n",
    "print(len(found_attribute2))\n",
    "print(len(found_rework2))\n",
    "print(len(found_skip2))\n",
    "print(len(found_late2))\n",
    "print(len(found_early2))"
   ]
  }
 ],
 "metadata": {
  "kernelspec": {
   "display_name": "Python 3 (ipykernel)",
   "language": "python",
   "name": "python3"
  },
  "language_info": {
   "codemirror_mode": {
    "name": "ipython",
    "version": 3
   },
   "file_extension": ".py",
   "mimetype": "text/x-python",
   "name": "python",
   "nbconvert_exporter": "python",
   "pygments_lexer": "ipython3",
   "version": "3.9.7"
  }
 },
 "nbformat": 4,
 "nbformat_minor": 5
}
