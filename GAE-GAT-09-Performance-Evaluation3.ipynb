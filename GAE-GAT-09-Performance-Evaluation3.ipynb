{
 "cells": [
  {
   "cell_type": "code",
   "execution_count": 1,
   "id": "bcb13bdd",
   "metadata": {},
   "outputs": [],
   "source": [
    "import glob\n",
    "from os import listdir\n",
    "from os.path import isfile, join\n",
    "import os.path as osp\n",
    "import copy\n",
    "import os\n",
    "import pickle\n",
    "from datetime import datetime\n",
    "import random\n",
    "from pm4py.objects.conversion.log import converter as log_converter\n",
    "from pm4py.objects.log.exporter.xes import exporter as xes_exporter\n",
    "from pm4py.objects.log.importer.xes import importer as xes_importer\n",
    "from pm4py.algo.filtering.log.attributes import attributes_filter\n",
    "import numpy as np\n",
    "from sklearn.preprocessing import OneHotEncoder\n",
    "from sklearn import metrics\n",
    "import pandas as pd\n",
    "import torch\n",
    "import torch.nn as nn\n",
    "import torch.nn.functional as F\n",
    "from torch_geometric.data import Dataset, Data\n",
    "from torch_geometric.loader import DataLoader\n",
    "from torch_geometric.nn import NNConv\n",
    "from torch_geometric.nn import GATv2Conv\n",
    "import matplotlib.pyplot as plt\n",
    "from matplotlib.pyplot import figure"
   ]
  },
  {
   "cell_type": "code",
   "execution_count": 2,
   "id": "ec3d4f93",
   "metadata": {},
   "outputs": [],
   "source": [
    "def nextplot(force=False):\n",
    "    \"\"\"Start a new plot.\n",
    "\n",
    "    In a notebook (or if `force=True`), create a new figure. Otherwise (e.g, in\n",
    "    IPython), clear the current figure.\n",
    "\n",
    "    \"\"\"\n",
    "    inNotebook = \"IPKernelApp\" in get_ipython().config\n",
    "    if force or inNotebook:\n",
    "        plt.figure()  # this creates a new plot\n",
    "    else:\n",
    "        plt.clf()  # and this clears the current one"
   ]
  },
  {
   "cell_type": "code",
   "execution_count": 3,
   "id": "409257dd",
   "metadata": {},
   "outputs": [],
   "source": [
    "class SkinbaronDataset(Dataset):\n",
    "    def __init__(self, root, transform=None, pre_transform=None, pre_filter=None):\n",
    "        super(SkinbaronDataset, self).__init__(root, transform, pre_transform, pre_filter)\n",
    "    @property\n",
    "    def processed_file_names(self):\n",
    "        return processed_graphs\n",
    "    def len(self):\n",
    "        return len(self.processed_file_names)\n",
    "    def get(self, idx):\n",
    "        data = torch.load(osp.join(self.processed_dir, f'data_{idx}.pt'))\n",
    "        return data"
   ]
  },
  {
   "cell_type": "code",
   "execution_count": 4,
   "id": "a3d6a128",
   "metadata": {},
   "outputs": [],
   "source": [
    "class GATL1withSelf(nn.Module):\n",
    "    \"\"\"Define GATL1withSelf class for the Graph Attention neural network.(GAT)\n",
    "    with one layer, and self loops\"\"\"\n",
    "\n",
    "    def __init__(self, size_in, size_out, edge_size, num_head, tmax, dropout_prob):\n",
    "        super(GATL1withSelf, self).__init__()\n",
    "        self.conv1 = GATv2Conv(in_channels=size_in, out_channels=size_out, heads=num_head, edge_dim=edge_size,\n",
    "                               dropout=dropout_prob, fill_value='mean')\n",
    "        self.readout = nn.Linear(2 * num_head * size_out, tmax - 1)\n",
    "\n",
    "    def forward(self, graph):\n",
    "        graph.x = F.elu(self.conv1(graph.x, graph.edge_index, graph.edge_attr))\n",
    "        s_t_nodes = torch.cat((graph.x[int(graph.edge_index[0, 0])], graph.x[int(graph.edge_index[1, 0])]))\n",
    "        m_array_pred = torch.sigmoid(self.readout(s_t_nodes))\n",
    "        for i in range(1, graph.edge_index.shape[1]):  # iterate over the number of edges in the batch (called graph)\n",
    "            s_t_nodes = torch.cat((graph.x[int(graph.edge_index[0, i])], graph.x[int(graph.edge_index[1, i])]))\n",
    "            edge_label_pred = torch.sigmoid(self.readout(s_t_nodes))\n",
    "            m_array_pred = torch.cat((m_array_pred, edge_label_pred), 0)\n",
    "        m_array_pred = m_array_pred.view(-1, tmax - 1)\n",
    "        return m_array_pred"
   ]
  },
  {
   "cell_type": "code",
   "execution_count": 5,
   "id": "0ea1240d",
   "metadata": {},
   "outputs": [],
   "source": [
    "def getListofallkeys(dict):      \n",
    "    return list(dict.keys())"
   ]
  },
  {
   "cell_type": "code",
   "execution_count": 6,
   "id": "eb9cf096",
   "metadata": {},
   "outputs": [],
   "source": [
    "# Get meta date from the event log\n",
    "def logStatistics (event_log, main_label):\n",
    "    # set required variables\n",
    "    categorical_value_list = []\n",
    "    cardinality_list = []\n",
    "    cat_encoder_list = []\n",
    "    max_len = 0\n",
    "    # get length of the longest case in the log\n",
    "    num_cases = len(event_log)\n",
    "    for i in range (num_cases):\n",
    "        current_length = len(event_log[i])\n",
    "        max_len = max(max_len, current_length)\n",
    "    # get list of all categorical attributes in the log    \n",
    "    categorical_attributes = list(event_log[0][0].keys())    \n",
    "    categorical_attributes.remove('case_id')\n",
    "    # move the main label to the beginning of the list, if it is not already there.\n",
    "    if categorical_attributes[0] != main_label:\n",
    "        categorical_attributes.insert(0, categorical_attributes.pop(categorical_attributes.index(main_label)))      \n",
    "    # get list of all possible values for main label in the log\n",
    "    main_dict = attributes_filter.get_attribute_values(event_log, categorical_attributes[0])\n",
    "    main_values = list(main_dict.keys())\n",
    "    # one-hot encoding for main category labels\n",
    "    main_array = np.array(main_values)\n",
    "    main_enc = OneHotEncoder(handle_unknown='ignore')\n",
    "    main_enc.fit(main_array.reshape(-1, 1))\n",
    "    # remove the first element (aka main label) from the list\n",
    "    categorical_attributes.pop(0)\n",
    "    # get list of values, and cardinality of each of categorical attributes.\n",
    "    for category in categorical_attributes:\n",
    "        current_cat_dict = attributes_filter.get_attribute_values(event_log, category)\n",
    "        current_cat_list = list(current_cat_dict.keys())\n",
    "        categorical_value_list.append(current_cat_list)\n",
    "        cardinality_list.append(len(current_cat_list))\n",
    "        # one-hot encoding for each of categorical attribute\n",
    "        current_array = np.array(current_cat_list)\n",
    "        current_enc = OneHotEncoder(handle_unknown='ignore')\n",
    "        current_enc.fit(current_array.reshape(-1, 1))\n",
    "        cat_encoder_list.append(current_enc)\n",
    "    return num_cases, max_len, main_array, main_enc, categorical_attributes, cardinality_list, cat_encoder_list"
   ]
  },
  {
   "cell_type": "code",
   "execution_count": 7,
   "id": "28a290bb",
   "metadata": {},
   "outputs": [],
   "source": [
    "# method for creating node feature matrix for one trace, additionally we create a m_array dict, and pair_dict!\n",
    "def build_node_feature_matrix(current_trace, main_label_array, main_encoder, max_trace_length, main_label):\n",
    "    # Compute length of trace\n",
    "    trace_length = len(current_trace)\n",
    "    # dimensions of one-hot encoder for the main label:a dim*dim array:\n",
    "    dim = len(main_label_array)\n",
    "    \"\"\" initialize a dictionary to collect:\n",
    "        Keys: tuple of main category labels (directly-followed pairs) \n",
    "        values: position of pair's occurrence in the trace\n",
    "    \"\"\"\n",
    "    pair_dict = {}\n",
    "    # initialize an auxiliary list to collect to collect unique activity labels in the current case\n",
    "    main_list = []\n",
    "    \"\"\" initialize a dictionary to collect:\n",
    "        Keys: tuple of source node index, and target node index\n",
    "        values: relevant m-array\n",
    "    \"\"\"\n",
    "    m_array_dict = {}\n",
    "    # creating pair_dict dictionary\n",
    "    for i in range(trace_length - 1):\n",
    "        current_main_label = current_trace[i].get(main_label)\n",
    "        main_list.append(current_main_label)\n",
    "        next_main_label = current_trace[i + 1].get(main_label)\n",
    "        main_list.append(next_main_label)\n",
    "        main_tuple = (current_main_label, next_main_label)\n",
    "        if main_tuple in pair_dict:\n",
    "            pair_dict[main_tuple].append(i)\n",
    "        else:\n",
    "            pair_dict[main_tuple] = [i]\n",
    "    # identify unique activity labels, and initialize node feature matrix based on its size.\n",
    "    main_set = list(set(main_list))\n",
    "    node_feature = np.zeros((len(main_set), dim), dtype=np.float32)\n",
    "    # create node feature matrix based on one-hot encoding\n",
    "    counter_main = 0\n",
    "    for main in main_set:\n",
    "        main_arr = np.array(main)\n",
    "        node_feature[counter_main] = main_encoder.transform(main_arr.reshape(-1, 1)).toarray()\n",
    "        counter_main += 1\n",
    "    # iterate over all directly-followed pairs, identify their source and target index in the node set.\n",
    "    # create m-array based on the position(s) of their occurrence, and return indexes, and array in a dictionary\n",
    "    for key in pair_dict:\n",
    "        source_index = main_set.index(key[0])\n",
    "        target_index = main_set.index(key[1])\n",
    "        m_array = np.zeros(max_trace_length - 1, dtype=np.intc)\n",
    "        for i in range(len(pair_dict[key])):\n",
    "            m_array[pair_dict[key][i]] = 1\n",
    "        m_array_dict[(source_index, target_index)] = m_array\n",
    "    return pair_dict, node_feature, m_array_dict, main_set"
   ]
  },
  {
   "cell_type": "code",
   "execution_count": 8,
   "id": "6637827a",
   "metadata": {},
   "outputs": [],
   "source": [
    "# method for creating p_array dict, its structure is similar to the structure of m_array dict!\n",
    "def build_p_array_dict(current_trace, m_array, pairs, main_set, max_trace_length, categorical, cardinality, cat_encoder_list):\n",
    "    p_array_dict = {}\n",
    "    m_size = sum(cardinality) # no need for extra dimension for timestamp as well as binary, numerical, ordinal atts\n",
    "    for key in m_array:\n",
    "        p_array = np.zeros((max_trace_length - 1) * m_size, dtype=np.float32) # seven for case attributes\n",
    "        source_index = key[0]\n",
    "        target_index = key[1]\n",
    "        source_main = main_set[source_index]\n",
    "        target_main = main_set[target_index]\n",
    "        main_tuple = (source_main, target_main)\n",
    "        current_occurrence = pairs[main_tuple]  # is a list\n",
    "        for i in current_occurrence:\n",
    "            # get the changes for categorical attributes\n",
    "            pointer = 0\n",
    "            iterator = 0\n",
    "            for j in categorical:\n",
    "                curr_card = cardinality[iterator]\n",
    "                source_att = current_trace[i].get(j)\n",
    "                target_att = current_trace[i + 1].get(j)\n",
    "                if str(target_att) != 'nan':\n",
    "                    curr_arr = np.array(target_att)\n",
    "                    target_onehot = cat_encoder_list[iterator].transform(curr_arr.reshape(-1, 1)).toarray()\n",
    "                    if str(source_att) == 'nan':\n",
    "                        p_array[i * m_size + pointer: i * m_size + pointer + curr_card] = target_onehot\n",
    "                    else:\n",
    "                        if target_att != source_att:\n",
    "                            curr_arr2 = np.array(source_att)\n",
    "                            source_onehot = cat_encoder_list[iterator].transform(curr_arr2.reshape(-1, 1)).toarray()\n",
    "                            p_array[i * m_size + pointer: i * m_size + pointer + curr_card] = target_onehot - source_onehot\n",
    "                iterator = iterator + 1\n",
    "                pointer = pointer + curr_card\n",
    "                # now that we have the value (p_array), we link it to the current key in our dictionary\n",
    "        p_array_dict[key] = p_array\n",
    "    return p_array_dict"
   ]
  },
  {
   "cell_type": "code",
   "execution_count": 12,
   "id": "47cb8a4e",
   "metadata": {},
   "outputs": [],
   "source": [
    "# Get all categorical attributes in an log + activity label (concept:name) \n",
    "def getcategorical(event_log):\n",
    "    # get list of all categorical attributes in the log    \n",
    "    categorical_attributes = list(event_log[0][0].keys())    \n",
    "    categorical_attributes.remove('case_id')    \n",
    "    return categorical_attributes"
   ]
  },
  {
   "cell_type": "code",
   "execution_count": 20,
   "id": "422a0f71",
   "metadata": {},
   "outputs": [],
   "source": [
    "interest_path = r'D:\\Final master thesis evaluation\\exp3'\n",
    "log_pattern = r'D:\\Final master thesis evaluation\\exp3\\*.xes'\n",
    "processed_path = [r'D:\\Final master thesis evaluation\\exp3\\data\\processed', \n",
    "                  r'D:\\Final master thesis evaluation\\exp4\\data\\processed',\n",
    "                  r'D:\\Final master thesis evaluation\\exp5\\data\\processed',\n",
    "                  r'D:\\Final master thesis evaluation\\exp6\\data\\processed']         \n",
    "processed_Pattern = [r\"D:\\Final master thesis evaluation\\exp3\\data\\processed\\*.pt\",\n",
    "                     r\"D:\\Final master thesis evaluation\\exp4\\data\\processed\\*.pt\",\n",
    "                     r\"D:\\Final master thesis evaluation\\exp5\\data\\processed\\*.pt\",\n",
    "                     r\"D:\\Final master thesis evaluation\\exp6\\data\\processed\\*.pt\"]\n",
    "targat_path = [r\"D:\\Final master thesis evaluation\\exp3\\data\", \n",
    "               r\"D:\\Final master thesis evaluation\\exp4\\data\",\n",
    "               r\"D:\\Final master thesis evaluation\\exp5\\data\",\n",
    "               r\"D:\\Final master thesis evaluation\\exp6\\data\"]\n",
    "logs = glob.glob(log_pattern)"
   ]
  },
  {
   "cell_type": "code",
   "execution_count": 10,
   "id": "f7ec5dad",
   "metadata": {},
   "outputs": [
    {
     "name": "stdout",
     "output_type": "stream",
     "text": [
      "large-1-1\n"
     ]
    }
   ],
   "source": [
    "for log in logs:\n",
    "    name_hint = os.path.basename(log)\n",
    "    name_hint = name_hint.replace('0.', '')\n",
    "    name_hint = name_hint.replace('.xes', '')\n",
    "print(name_hint)"
   ]
  },
  {
   "cell_type": "code",
   "execution_count": 13,
   "id": "9c471df6",
   "metadata": {},
   "outputs": [
    {
     "data": {
      "application/vnd.jupyter.widget-view+json": {
       "model_id": "9c8f763c6cb946f9853c33ffd2ee6347",
       "version_major": 2,
       "version_minor": 0
      },
      "text/plain": [
       "parsing log, completed traces ::   0%|          | 0/15000 [00:00<?, ?it/s]"
      ]
     },
     "metadata": {},
     "output_type": "display_data"
    }
   ],
   "source": [
    "# import the log\n",
    "event_log = xes_importer.apply(logs[0])"
   ]
  },
  {
   "cell_type": "code",
   "execution_count": 21,
   "id": "eebb4fe1",
   "metadata": {},
   "outputs": [
    {
     "name": "stdout",
     "output_type": "stream",
     "text": [
      "['user', 'day', 'country', 'company']\n"
     ]
    }
   ],
   "source": [
    "all_attributes = getcategorical (event_log)\n",
    "# remove the first element (aka main label) from the list\n",
    "all_attributes.pop(0)\n",
    "print(all_attributes)"
   ]
  },
  {
   "cell_type": "code",
   "execution_count": 34,
   "id": "24736c44",
   "metadata": {},
   "outputs": [
    {
     "name": "stdout",
     "output_type": "stream",
     "text": [
      "D:\\Final master thesis evaluation\\exp3\\case_id_list.pkl\n",
      "D:\\Final master thesis evaluation\\exp4\\case_id_list.pkl\n",
      "D:\\Final master thesis evaluation\\exp5\\case_id_list.pkl\n",
      "D:\\Final master thesis evaluation\\exp6\\case_id_list.pkl\n"
     ]
    }
   ],
   "source": [
    "category_counter = 0\n",
    "for category in all_attributes:\n",
    "    if category_counter == 0:\n",
    "        case_id_target = r\"D:\\Final master thesis evaluation\\exp3\\case_id_list.pkl\"\n",
    "    elif category_counter == 1:\n",
    "        case_id_target = r\"D:\\Final master thesis evaluation\\exp4\\case_id_list.pkl\"\n",
    "    elif category_counter == 2: \n",
    "        case_id_target = r\"D:\\Final master thesis evaluation\\exp5\\case_id_list.pkl\"\n",
    "    elif category_counter == 3: \n",
    "        case_id_target = r\"D:\\Final master thesis evaluation\\exp6\\case_id_list.pkl\"\n",
    "    # get required meta data\n",
    "    num_cases, tmax, main_array, main_encoder, categorical_attributes, cardinality_list, cat_encoder_list = logStatistics(event_log, category)\n",
    "    # core part of feature eng.\n",
    "    case_id_list = []\n",
    "    idx = 0\n",
    "    for i in range (len(event_log)):\n",
    "        case = event_log [i]\n",
    "        pairs, node_feature_matrix, m_array_dict, main_set = build_node_feature_matrix(case, main_array, main_encoder, tmax, category)\n",
    "        p_array_dict = build_p_array_dict(case, m_array_dict, pairs, main_set, tmax, categorical_attributes,\n",
    "                                          cardinality_list, cat_encoder_list)\n",
    "        case_id_list.append(case.attributes.get('concept:name'))\n",
    "        edge_index_list = []\n",
    "        edge_att_list = []\n",
    "        edge_marray_list = []\n",
    "        for key in p_array_dict:\n",
    "            edge_index_list.append(list(key))\n",
    "            edge_att_list.append(list(p_array_dict.get(key)))\n",
    "            edge_marray_list.append(list(m_array_dict.get(key)))\n",
    "        edge_index = torch.tensor(edge_index_list, dtype=torch.long)\n",
    "        edge_attr = torch.tensor(edge_att_list, dtype=torch.float)\n",
    "        edge_m_array = torch.tensor(edge_marray_list, dtype=torch.uint8)               \n",
    "        x = torch.from_numpy(node_feature_matrix).float()\n",
    "        graph = Data(x=x, edge_index=edge_index.t().contiguous(), edge_attr=edge_attr, edge_m_array=edge_m_array)\n",
    "        torch.save(graph, osp.join(processed_path[category_counter], f'data_{idx}.pt'))\n",
    "        idx += 1\n",
    "    print(case_id_target)\n",
    "    case_id_file = open(case_id_target, \"wb\")\n",
    "    pickle.dump(case_id_list, case_id_file)\n",
    "    case_id_file.close()        \n",
    "    category_counter += 1"
   ]
  },
  {
   "cell_type": "code",
   "execution_count": 36,
   "id": "3e871b89",
   "metadata": {},
   "outputs": [
    {
     "name": "stdout",
     "output_type": "stream",
     "text": [
      "Number of training graphs: 12000\n",
      "Number of test graphs: 3000\n",
      "user 0\n",
      "user 1\n",
      "user 2\n",
      "user 3\n",
      "user 4\n",
      "Number of training graphs: 12000\n",
      "Number of test graphs: 3000\n",
      "day 0\n",
      "day 1\n",
      "day 2\n",
      "day 3\n",
      "day 4\n",
      "Number of training graphs: 12000\n",
      "Number of test graphs: 3000\n",
      "country 0\n",
      "country 1\n",
      "country 2\n",
      "country 3\n",
      "country 4\n",
      "Number of training graphs: 12000\n",
      "Number of test graphs: 3000\n",
      "company 0\n",
      "company 1\n",
      "company 2\n",
      "company 3\n",
      "company 4\n"
     ]
    }
   ],
   "source": [
    "# set the device to GPU or CPU (only if GPU is not available we will use CPU)\n",
    "device = torch.device('cuda' if torch.cuda.is_available() else 'cpu')\n",
    "# the following line should be commented in order to test GPU computations\n",
    "device = 'cpu'\n",
    "# for reproducibility of the result (note: we use SGD for optimization)\n",
    "np.random.seed(0)\n",
    "# Define binary cross entropy loss.\n",
    "batch_loss = nn.BCELoss()\n",
    "#batch_loss = nn.MSELoss() # in case we use sum of time and control-flow in m-array\n",
    "models_target = [r'D:\\Final master thesis evaluation\\exp3\\user_param.pt',\n",
    "                 r'D:\\Final master thesis evaluation\\exp4\\day_param.pt',\n",
    "                 r'D:\\Final master thesis evaluation\\exp5\\country_param.pt',\n",
    "                 r'D:\\Final master thesis evaluation\\exp6\\company_param.pt']\n",
    "loss_df_target = [r'D:\\Final master thesis evaluation\\exp3\\user_loss.pt',\n",
    "                 r'D:\\Final master thesis evaluation\\exp4\\day_loss.pt',\n",
    "                 r'D:\\Final master thesis evaluation\\exp5\\country_loss.pt',\n",
    "                 r'D:\\Final master thesis evaluation\\exp6\\company_loss.pt']\n",
    "models_txt_target = [r'D:\\Final master thesis evaluation\\exp3\\user.txt',\n",
    "                 r'D:\\Final master thesis evaluation\\exp4\\day.txt',\n",
    "                 r'D:\\Final master thesis evaluation\\exp5\\country.txt',\n",
    "                 r'D:\\Final master thesis evaluation\\exp6\\company.txt']\n",
    "\n",
    "category_counter = 0\n",
    "for category in all_attributes:\n",
    "    if category_counter == 0:\n",
    "        case_id_target = r\"D:\\Final master thesis evaluation\\exp3\\case_id_list.pkl\"\n",
    "    elif category_counter == 1:\n",
    "        case_id_target = r\"D:\\Final master thesis evaluation\\exp4\\case_id_list.pkl\"\n",
    "    elif category_counter == 2: \n",
    "        case_id_target = r\"D:\\Final master thesis evaluation\\exp5\\case_id_list.pkl\"\n",
    "    elif category_counter == 3: \n",
    "        case_id_target = r\"D:\\Final master thesis evaluation\\exp6\\case_id_list.pkl\"\n",
    "    # creating dataset\n",
    "    processed_graphs = glob.glob(processed_Pattern[category_counter])\n",
    "    dataset = SkinbaronDataset(root=targat_path)\n",
    "    # train/validation/test split\n",
    "    train_dataset = dataset[0:12000]\n",
    "    test_dataset = dataset[12000:15000]\n",
    "    print(f'Number of training graphs: {len(train_dataset)}')\n",
    "    print(f'Number of test graphs: {len(test_dataset)}')\n",
    "    # Retrieving the case_id list from saved file on the disk:\n",
    "    case_id_file = open(case_id_target, \"rb\")\n",
    "    case_id_list = pickle.load(case_id_file)\n",
    "    case_id_file.close()\n",
    "    # find the length of the longest trace based on the edge_m_array attribute\n",
    "    tmax = int(dataset.get(0).edge_m_array.shape[1]) + 1\n",
    "    dropout_prob = 0.0\n",
    "    num_head = 1\n",
    "    # initialize the model\n",
    "    size_in = dataset.get(0).x.shape[1]\n",
    "    size_out = int(2 * dataset.get(0).x.shape[1] / num_head)\n",
    "    edge_size = dataset.get(0).edge_attr.shape[1]\n",
    "    model = GATL1withSelf(size_in, size_out, edge_size, num_head, tmax, dropout_prob)\n",
    "    # setting the minibatch size\n",
    "    batch_size = 32    \n",
    "    loader = DataLoader(train_dataset, batch_size=batch_size)\n",
    "    # move to GPU (if available)\n",
    "    model = model.to(device)\n",
    "    # inizialize the optimizer\n",
    "    lr = 0.01\n",
    "    weight_decay = 5e-4\n",
    "    optimizer = torch.optim.AdamW(model.parameters(), lr=lr, weight_decay=weight_decay)\n",
    "    with open(models_txt_target[category_counter], \"w\") as GAT2_file:\n",
    "        # Print model's state_dict\n",
    "        print(\"Model's state_dict:\", file=GAT2_file)\n",
    "        for param_tensor in model.state_dict():\n",
    "            print(param_tensor, \"\\t\", model.state_dict()[param_tensor].size(), file=GAT2_file)\n",
    "        # Print optimizer's state_dict\n",
    "        print(\"Optimizer's state_dict:\", file=GAT2_file)\n",
    "        for var_name in optimizer.state_dict():\n",
    "            print(var_name, \"\\t\", optimizer.state_dict()[var_name], file=GAT2_file)\n",
    "        GAT2_file.close()\n",
    "    # training of the model\n",
    "    epochs = 5\n",
    "    train_hist = {}\n",
    "    train_hist['loss'] = []\n",
    "    # Initialize training\n",
    "    for layer in model.children():\n",
    "        if hasattr(layer, 'reset_parameters'):\n",
    "            layer.reset_parameters()\n",
    "    model.train()\n",
    "    # training loop\n",
    "    begin_time = datetime.now()\n",
    "    for epoch in range(epochs):\n",
    "        print(category, epoch)\n",
    "        for idx, data_batch in enumerate(loader):\n",
    "            data_batch = data_batch.to(device)\n",
    "            optimizer.zero_grad()\n",
    "            loss = batch_loss(model.forward(data_batch).float(), data_batch.edge_m_array.float())\n",
    "            loss.backward()\n",
    "            optimizer.step()\n",
    "            train_hist['loss'].append(loss.item())\n",
    "            with open(models_txt_target[category_counter], \"a\") as GAT2_file:\n",
    "                print('[Epoch %4d/%4d] [Batch %4d/%4d] Loss: % 2.2e' % (epoch + 1, epochs,idx + 1, len(loader),\n",
    "                                                                        loss.item()), file=GAT2_file)\n",
    "                GAT2_file.close()\n",
    "    finish_time = datetime.now()\n",
    "    with open(models_txt_target[category_counter], \"a\") as GAT2_file:\n",
    "        print('Training time:', file=GAT2_file)\n",
    "        print(finish_time - begin_time, file=GAT2_file)\n",
    "        GAT2_file.close()  \n",
    "    # save and load learned parameters\n",
    "    torch.save(model.state_dict(), models_target[category_counter])\n",
    "    # get the result in a dataframe\n",
    "    batch_size = 1\n",
    "    loader = DataLoader(test_dataset, batch_size=batch_size)\n",
    "    test_id_list = case_id_list[12000:15000]\n",
    "    loss_list = []\n",
    "    begin_time = datetime.now()\n",
    "    for data_batch in loader:\n",
    "        loss = batch_loss(model.forward(data_batch).float(), data_batch.edge_m_array.float())\n",
    "        if loss > 0:\n",
    "            loss_list.append(loss.item())\n",
    "        else:\n",
    "            loss_list.append(0)      \n",
    "    finish_time = datetime.now()    \n",
    "    with open(models_txt_target[category_counter], \"a\") as GAT2_file:\n",
    "        print('Anomaly score computation time for', len(test_dataset), 'cases:', file=GAT2_file)\n",
    "        print(finish_time - begin_time, file=GAT2_file)\n",
    "        GAT2_file.close()\n",
    "    GAT2_dictionary = {'case_id': test_id_list, 'Loss': loss_list}\n",
    "    loss_df = pd.DataFrame(GAT2_dictionary)\n",
    "    loss_df.to_pickle(loss_df_target[category_counter])\n",
    "    category_counter += 1"
   ]
  },
  {
   "cell_type": "code",
   "execution_count": 3,
   "id": "4c1e8e3e",
   "metadata": {},
   "outputs": [],
   "source": [
    "anomaly_scores_path = r'D:\\Final master thesis evaluation\\exp2\\bestgatmodl_test_loss.pt'\n",
    "user_scores_path = r'D:\\Final master thesis evaluation\\exp3\\user_loss.pt'\n",
    "day_scores_path = r'D:\\Final master thesis evaluation\\exp4\\day_loss.pt'\n",
    "country_scores_path = r'D:\\Final master thesis evaluation\\exp5\\country_loss.pt'\n",
    "company_scores_path = r'D:\\Final master thesis evaluation\\exp6\\company_loss.pt'\n",
    "loss_df = pd.read_pickle(anomaly_scores_path)\n",
    "# normalize anomaly scores\n",
    "normalized_loss_df = loss_df.copy()\n",
    "normalized_loss_df['Loss'] = (normalized_loss_df['Loss'] - normalized_loss_df['Loss'].min()) / (normalized_loss_df['Loss'].max() - normalized_loss_df['Loss'].min())\n",
    "# sort the normalized scores\n",
    "sorted_loss = normalized_loss_df.sort_values(by=['Loss'], ascending = False, ignore_index = True)\n",
    "user_df = pd.read_pickle(user_scores_path)\n",
    "# normalize anomaly scores\n",
    "normalized_user_df = user_df.copy()\n",
    "normalized_user_df['Loss'] = (normalized_user_df['Loss'] - normalized_user_df['Loss'].min()) / (normalized_user_df['Loss'].max() - normalized_user_df['Loss'].min())\n",
    "# sort the normalized scores\n",
    "sorted_user = normalized_user_df.sort_values(by=['Loss'], ascending = False, ignore_index = True)\n",
    "day_df = pd.read_pickle(day_scores_path)\n",
    "# normalize anomaly scores\n",
    "normalized_day_df = day_df.copy()\n",
    "normalized_day_df['Loss'] = (normalized_day_df['Loss'] - normalized_day_df['Loss'].min()) / (normalized_day_df['Loss'].max() - normalized_day_df['Loss'].min())\n",
    "# sort the normalized scores\n",
    "sorted_day = normalized_day_df.sort_values(by=['Loss'], ascending = False, ignore_index = True)\n",
    "country_df = pd.read_pickle(country_scores_path)\n",
    "# normalize anomaly scores\n",
    "normalized_country_df = country_df.copy()\n",
    "normalized_country_df['Loss'] = (normalized_country_df['Loss'] - normalized_country_df['Loss'].min()) / (normalized_country_df['Loss'].max() - normalized_country_df['Loss'].min())\n",
    "# sort the normalized scores\n",
    "sorted_country = normalized_country_df.sort_values(by=['Loss'], ascending = False, ignore_index = True)\n",
    "company_df = pd.read_pickle(company_scores_path)\n",
    "# normalize anomaly scores\n",
    "normalized_company_df = company_df.copy()\n",
    "normalized_company_df['Loss'] = (normalized_company_df['Loss'] - normalized_company_df['Loss'].min()) / (normalized_company_df['Loss'].max() - normalized_company_df['Loss'].min())\n",
    "# sort the normalized scores\n",
    "sorted_company = normalized_company_df.sort_values(by=['Loss'], ascending = False, ignore_index = True)"
   ]
  },
  {
   "cell_type": "code",
   "execution_count": 4,
   "id": "e9eb9b3d",
   "metadata": {},
   "outputs": [
    {
     "data": {
      "text/html": [
       "<div>\n",
       "<style scoped>\n",
       "    .dataframe tbody tr th:only-of-type {\n",
       "        vertical-align: middle;\n",
       "    }\n",
       "\n",
       "    .dataframe tbody tr th {\n",
       "        vertical-align: top;\n",
       "    }\n",
       "\n",
       "    .dataframe thead th {\n",
       "        text-align: right;\n",
       "    }\n",
       "</style>\n",
       "<table border=\"1\" class=\"dataframe\">\n",
       "  <thead>\n",
       "    <tr style=\"text-align: right;\">\n",
       "      <th></th>\n",
       "      <th>case_id</th>\n",
       "      <th>label</th>\n",
       "    </tr>\n",
       "  </thead>\n",
       "  <tbody>\n",
       "    <tr>\n",
       "      <th>12000</th>\n",
       "      <td>12001</td>\n",
       "      <td>normal</td>\n",
       "    </tr>\n",
       "  </tbody>\n",
       "</table>\n",
       "</div>"
      ],
      "text/plain": [
       "       case_id   label\n",
       "12000    12001  normal"
      ]
     },
     "execution_count": 4,
     "metadata": {},
     "output_type": "execute_result"
    }
   ],
   "source": [
    "# import the truth label vactor\n",
    "truth_label_path = r'D:\\Final master thesis evaluation\\exp1\\large-0.1-1.csv'\n",
    "label_csv = pd.read_csv(truth_label_path)\n",
    "label_csv.drop(\"Unnamed: 0\", axis=1, inplace=True)\n",
    "label_csv[\"case_id\"] = pd.to_numeric(label_csv[\"case_id\"])\n",
    "label_csv.case_id.astype(str).astype(int)\n",
    "label_csv.label.astype(str)\n",
    "#label_csv.dtypes\n",
    "test_csv =  label_csv.loc[label_csv['case_id'] > 12000]\n",
    "test_csv.head(1)"
   ]
  },
  {
   "cell_type": "code",
   "execution_count": 4,
   "id": "532daaa1",
   "metadata": {},
   "outputs": [
    {
     "name": "stdout",
     "output_type": "stream",
     "text": [
      "first false positive: 284\n",
      "[370, 0.9973045822102425, 0.8525345622119815, 0.919254658385093, 0.9756561430201598, 0.9996102883865939, 0.9874879692011549, 0.9533713137931239]\n",
      "(370, 1, 2565, 64)\n"
     ]
    }
   ],
   "source": [
    "normalized_loss_df[\"case_id\"] = pd.to_numeric(loss_df[\"case_id\"])\n",
    "result = pd.merge(normalized_loss_df, test_csv, on=[\"case_id\"])\n",
    "sorted_result = result.sort_values(by=['Loss'], ascending = False, ignore_index = True)\n",
    "sorted_list = sorted_result['label'].tolist()\n",
    "predictions = []\n",
    "for j in range (len(sorted_list)):\n",
    "    if sorted_list[j] == 'normal':\n",
    "        predictions.append(0)\n",
    "    else:\n",
    "        predictions.append(1)\n",
    "prediction_array = np.array(predictions)\n",
    "best_score = 0\n",
    "first_fp = True\n",
    "for j in range (len(sorted_list)):\n",
    "    current_alarms = prediction_array[0:j+1]\n",
    "    current_normals = prediction_array[j+1:]\n",
    "    positives = j+1\n",
    "    true_positives = np.sum(current_alarms)\n",
    "    false_positives = positives - true_positives\n",
    "    if first_fp and false_positives > 0:\n",
    "        first_fp = False\n",
    "        print('first false positive:', j)\n",
    "    negatives = 3000 - positives\n",
    "    false_negatives = np.sum(current_normals)\n",
    "    true_negatives = negatives - false_negatives\n",
    "    precision = true_positives/(true_positives+false_positives)\n",
    "    recall = true_positives/(true_positives+false_negatives)\n",
    "    f1_score = 2*precision*recall/(precision+recall)\n",
    "    if f1_score > best_score:\n",
    "        best_score = f1_score\n",
    "        precision_on_normal = true_negatives/(true_negatives+false_negatives)\n",
    "        recall_on_normal = true_negatives/(true_negatives+false_positives)\n",
    "        f1_score_on_normal = 2*precision_on_normal*recall_on_normal/(precision_on_normal+recall_on_normal)\n",
    "        macro_f1_score = (f1_score + f1_score_on_normal)/2\n",
    "        best_cut = [j, precision, recall, f1_score, precision_on_normal, recall_on_normal,\n",
    "                    f1_score_on_normal, macro_f1_score] \n",
    "        best_confusion = (true_positives, false_positives, true_negatives, false_negatives)\n",
    "print(best_cut)\n",
    "print(best_confusion)"
   ]
  },
  {
   "cell_type": "code",
   "execution_count": 5,
   "id": "e0fc0cc9",
   "metadata": {},
   "outputs": [],
   "source": [
    "normalized_user_df.rename(columns={\"Loss\": \"Loss-user\"}, inplace = True)\n",
    "normalized_day_df.rename(columns={\"Loss\": \"Loss-day\"}, inplace = True)\n",
    "normalized_country_df.rename(columns={\"Loss\": \"Loss-country\"}, inplace = True)\n",
    "normalized_company_df.rename(columns={\"Loss\": \"Loss-company\"}, inplace = True)"
   ]
  },
  {
   "cell_type": "code",
   "execution_count": 6,
   "id": "a67ebb0e",
   "metadata": {},
   "outputs": [
    {
     "data": {
      "text/html": [
       "<div>\n",
       "<style scoped>\n",
       "    .dataframe tbody tr th:only-of-type {\n",
       "        vertical-align: middle;\n",
       "    }\n",
       "\n",
       "    .dataframe tbody tr th {\n",
       "        vertical-align: top;\n",
       "    }\n",
       "\n",
       "    .dataframe thead th {\n",
       "        text-align: right;\n",
       "    }\n",
       "</style>\n",
       "<table border=\"1\" class=\"dataframe\">\n",
       "  <thead>\n",
       "    <tr style=\"text-align: right;\">\n",
       "      <th></th>\n",
       "      <th>case_id</th>\n",
       "      <th>Loss</th>\n",
       "      <th>Loss-user</th>\n",
       "      <th>Loss-day</th>\n",
       "      <th>Loss-country</th>\n",
       "      <th>Loss-company</th>\n",
       "      <th>label</th>\n",
       "      <th>anomaly</th>\n",
       "    </tr>\n",
       "  </thead>\n",
       "  <tbody>\n",
       "    <tr>\n",
       "      <th>0</th>\n",
       "      <td>12001</td>\n",
       "      <td>0.000067</td>\n",
       "      <td>0.001915</td>\n",
       "      <td>0.004296</td>\n",
       "      <td>0.002408</td>\n",
       "      <td>0.002055</td>\n",
       "      <td>normal</td>\n",
       "      <td>0</td>\n",
       "    </tr>\n",
       "  </tbody>\n",
       "</table>\n",
       "</div>"
      ],
      "text/plain": [
       "   case_id      Loss  Loss-user  Loss-day  Loss-country  Loss-company   label  \\\n",
       "0    12001  0.000067   0.001915  0.004296      0.002408      0.002055  normal   \n",
       "\n",
       "   anomaly  \n",
       "0        0  "
      ]
     },
     "execution_count": 6,
     "metadata": {},
     "output_type": "execute_result"
    }
   ],
   "source": [
    "normalized_loss_df[\"case_id\"] = pd.to_numeric(normalized_loss_df[\"case_id\"])\n",
    "normalized_user_df[\"case_id\"] = pd.to_numeric(normalized_user_df[\"case_id\"])\n",
    "normalized_day_df[\"case_id\"] = pd.to_numeric(normalized_day_df[\"case_id\"])\n",
    "normalized_country_df[\"case_id\"] = pd.to_numeric(normalized_country_df[\"case_id\"])\n",
    "normalized_company_df[\"case_id\"] = pd.to_numeric(normalized_company_df[\"case_id\"])\n",
    "mid_result1 = pd.merge(normalized_loss_df, normalized_user_df, on=\"case_id\")\n",
    "mid_result2 = pd.merge(mid_result1, normalized_day_df, on=\"case_id\")\n",
    "mid_result3 = pd.merge(mid_result2, normalized_country_df, on=\"case_id\")\n",
    "mid_result4 = pd.merge(mid_result3, normalized_company_df, on=\"case_id\")\n",
    "combined_df = pd.merge(mid_result4, test_csv, on=\"case_id\")\n",
    "combined_df['anomaly'] = np.where(combined_df['label']!= 'normal', 1, 0)\n",
    "combined_df.head(1)"
   ]
  },
  {
   "cell_type": "code",
   "execution_count": 8,
   "id": "a19855c9",
   "metadata": {},
   "outputs": [
    {
     "data": {
      "text/plain": [
       "<Figure size 432x288 with 0 Axes>"
      ]
     },
     "metadata": {},
     "output_type": "display_data"
    },
    {
     "data": {
      "image/png": "[encoded data removed]",
      "text/plain": [
       "<Figure size 432x288 with 1 Axes>"
      ]
     },
     "metadata": {
      "needs_background": "light"
     },
     "output_type": "display_data"
    }
   ],
   "source": [
    "nextplot()\n",
    "combined_df.plot.scatter(x='Loss', y='Loss-user', s=20, c=np.where(combined_df['anomaly']==0, 'g', 'r'))\n",
    "plt.savefig(\"main-user\", dpi=1200)\n",
    "plt.show()"
   ]
  },
  {
   "cell_type": "code",
   "execution_count": 9,
   "id": "4634464c",
   "metadata": {},
   "outputs": [
    {
     "data": {
      "text/plain": [
       "<Figure size 432x288 with 0 Axes>"
      ]
     },
     "metadata": {},
     "output_type": "display_data"
    },
    {
     "data": {
      "image/png": "[encoded data removed]",
      "text/plain": [
       "<Figure size 432x288 with 1 Axes>"
      ]
     },
     "metadata": {
      "needs_background": "light"
     },
     "output_type": "display_data"
    }
   ],
   "source": [
    "nextplot()\n",
    "combined_df.plot.scatter(x='Loss', y='Loss-day', s=20, c=np.where(combined_df['anomaly']==0, 'g', 'r'))\n",
    "plt.savefig(\"main-day\", dpi=1200)"
   ]
  },
  {
   "cell_type": "code",
   "execution_count": 10,
   "id": "44c20820",
   "metadata": {},
   "outputs": [
    {
     "data": {
      "text/plain": [
       "<Figure size 432x288 with 0 Axes>"
      ]
     },
     "metadata": {},
     "output_type": "display_data"
    },
    {
     "data": {
      "image/png": "[encoded data removed]",
      "text/plain": [
       "<Figure size 432x288 with 1 Axes>"
      ]
     },
     "metadata": {
      "needs_background": "light"
     },
     "output_type": "display_data"
    }
   ],
   "source": [
    "nextplot()\n",
    "combined_df.plot.scatter(x='Loss', y='Loss-country', s=20, c=np.where(combined_df['anomaly']==0, 'g', 'r'))\n",
    "plt.savefig(\"main-country\", dpi=1200)"
   ]
  },
  {
   "cell_type": "code",
   "execution_count": 11,
   "id": "652e8811",
   "metadata": {},
   "outputs": [
    {
     "data": {
      "text/plain": [
       "<Figure size 432x288 with 0 Axes>"
      ]
     },
     "metadata": {},
     "output_type": "display_data"
    },
    {
     "data": {
      "image/png": "[encoded data removed]",
      "text/plain": [
       "<Figure size 432x288 with 1 Axes>"
      ]
     },
     "metadata": {
      "needs_background": "light"
     },
     "output_type": "display_data"
    }
   ],
   "source": [
    "nextplot()\n",
    "combined_df.plot.scatter(x='Loss', y='Loss-company', s=20, c=np.where(combined_df['anomaly']==0, 'g', 'r'))\n",
    "plt.savefig(\"main-company\", dpi=1200)"
   ]
  },
  {
   "cell_type": "code",
   "execution_count": 12,
   "id": "46e69300",
   "metadata": {},
   "outputs": [
    {
     "name": "stdout",
     "output_type": "stream",
     "text": [
      "2630\n"
     ]
    }
   ],
   "source": [
    "residual_csv=  combined_df.loc[combined_df['Loss'] < 0.0007]\n",
    "print(len(residual_csv))"
   ]
  },
  {
   "cell_type": "code",
   "execution_count": 20,
   "id": "84943d76",
   "metadata": {},
   "outputs": [
    {
     "data": {
      "text/plain": [
       "<Figure size 432x288 with 0 Axes>"
      ]
     },
     "metadata": {},
     "output_type": "display_data"
    },
    {
     "data": {
      "image/png": "[encoded data removed]",
      "text/plain": [
       "<Figure size 432x288 with 1 Axes>"
      ]
     },
     "metadata": {
      "needs_background": "light"
     },
     "output_type": "display_data"
    }
   ],
   "source": [
    "nextplot()\n",
    "residual_csv.plot.scatter(x='Loss-user', y='Loss-day', s=20, c=np.where(residual_csv['anomaly']==0, 'g', 'r'))\n",
    "plt.savefig(\"main-user-removed\", dpi=1200)"
   ]
  },
  {
   "cell_type": "code",
   "execution_count": 16,
   "id": "5f3fc46d",
   "metadata": {},
   "outputs": [
    {
     "data": {
      "text/plain": [
       "<Figure size 432x288 with 0 Axes>"
      ]
     },
     "metadata": {},
     "output_type": "display_data"
    },
    {
     "data": {
      "image/png": "[encoded data removed]",
      "text/plain": [
       "<Figure size 432x288 with 1 Axes>"
      ]
     },
     "metadata": {
      "needs_background": "light"
     },
     "output_type": "display_data"
    }
   ],
   "source": [
    "nextplot()\n",
    "residual_csv.plot.scatter(x='Loss-company', y='Loss-country', s=20, c=np.where(residual_csv['anomaly']==0, 'g', 'r'))\n",
    "plt.savefig(\"main-user-removed2\", dpi=1200)"
   ]
  },
  {
   "cell_type": "code",
   "execution_count": 18,
   "id": "60ac0074",
   "metadata": {},
   "outputs": [
    {
     "name": "stderr",
     "output_type": "stream",
     "text": [
      "C:\\Users\\ASUS\\AppData\\Local\\Temp/ipykernel_1176/152007652.py:1: SettingWithCopyWarning: \n",
      "A value is trying to be set on a copy of a slice from a DataFrame.\n",
      "Try using .loc[row_indexer,col_indexer] = value instead\n",
      "\n",
      "See the caveats in the documentation: https://pandas.pydata.org/pandas-docs/stable/user_guide/indexing.html#returning-a-view-versus-a-copy\n",
      "  residual_csv['Loss-user'] = (residual_csv['Loss-user'] - residual_csv['Loss-user'].min()) / (residual_csv['Loss-user'].max() - residual_csv['Loss-user'].min())\n",
      "C:\\Users\\ASUS\\AppData\\Local\\Temp/ipykernel_1176/152007652.py:2: SettingWithCopyWarning: \n",
      "A value is trying to be set on a copy of a slice from a DataFrame.\n",
      "Try using .loc[row_indexer,col_indexer] = value instead\n",
      "\n",
      "See the caveats in the documentation: https://pandas.pydata.org/pandas-docs/stable/user_guide/indexing.html#returning-a-view-versus-a-copy\n",
      "  residual_csv['Loss-day'] = (residual_csv['Loss-day'] - residual_csv['Loss-day'].min()) / (residual_csv['Loss-day'].max() - residual_csv['Loss-day'].min())\n",
      "C:\\Users\\ASUS\\AppData\\Local\\Temp/ipykernel_1176/152007652.py:3: SettingWithCopyWarning: \n",
      "A value is trying to be set on a copy of a slice from a DataFrame.\n",
      "Try using .loc[row_indexer,col_indexer] = value instead\n",
      "\n",
      "See the caveats in the documentation: https://pandas.pydata.org/pandas-docs/stable/user_guide/indexing.html#returning-a-view-versus-a-copy\n",
      "  residual_csv['Loss-country'] = (residual_csv['Loss-country'] - residual_csv['Loss-country'].min()) / (residual_csv['Loss-country'].max() - residual_csv['Loss-country'].min())\n",
      "C:\\Users\\ASUS\\AppData\\Local\\Temp/ipykernel_1176/152007652.py:4: SettingWithCopyWarning: \n",
      "A value is trying to be set on a copy of a slice from a DataFrame.\n",
      "Try using .loc[row_indexer,col_indexer] = value instead\n",
      "\n",
      "See the caveats in the documentation: https://pandas.pydata.org/pandas-docs/stable/user_guide/indexing.html#returning-a-view-versus-a-copy\n",
      "  residual_csv['Loss-company'] = (residual_csv['Loss-company'] - residual_csv['Loss-company'].min()) / (residual_csv['Loss-company'].max() - residual_csv['Loss-company'].min())\n",
      "C:\\Users\\ASUS\\AppData\\Local\\Temp/ipykernel_1176/152007652.py:5: SettingWithCopyWarning: \n",
      "A value is trying to be set on a copy of a slice from a DataFrame.\n",
      "Try using .loc[row_indexer,col_indexer] = value instead\n",
      "\n",
      "See the caveats in the documentation: https://pandas.pydata.org/pandas-docs/stable/user_guide/indexing.html#returning-a-view-versus-a-copy\n",
      "  residual_csv['Loss'] = (residual_csv['Loss'] - residual_csv['Loss'].min()) / (residual_csv['Loss'].max() - residual_csv['Loss'].min())\n",
      "C:\\Users\\ASUS\\AppData\\Local\\Temp/ipykernel_1176/152007652.py:6: SettingWithCopyWarning: \n",
      "A value is trying to be set on a copy of a slice from a DataFrame.\n",
      "Try using .loc[row_indexer,col_indexer] = value instead\n",
      "\n",
      "See the caveats in the documentation: https://pandas.pydata.org/pandas-docs/stable/user_guide/indexing.html#returning-a-view-versus-a-copy\n",
      "  residual_csv['att_avg'] = (residual_csv['Loss-user'] + residual_csv['Loss-day'] + residual_csv['Loss-country'] + residual_csv['Loss-company'])/4\n",
      "C:\\Users\\ASUS\\AppData\\Local\\Temp/ipykernel_1176/152007652.py:7: SettingWithCopyWarning: \n",
      "A value is trying to be set on a copy of a slice from a DataFrame.\n",
      "Try using .loc[row_indexer,col_indexer] = value instead\n",
      "\n",
      "See the caveats in the documentation: https://pandas.pydata.org/pandas-docs/stable/user_guide/indexing.html#returning-a-view-versus-a-copy\n",
      "  residual_csv['att_max'] = residual_csv[['Loss-user','Loss-day','Loss-country','Loss-company']].max(axis=1)\n"
     ]
    }
   ],
   "source": [
    "residual_csv['Loss-user'] = (residual_csv['Loss-user'] - residual_csv['Loss-user'].min()) / (residual_csv['Loss-user'].max() - residual_csv['Loss-user'].min())\n",
    "residual_csv['Loss-day'] = (residual_csv['Loss-day'] - residual_csv['Loss-day'].min()) / (residual_csv['Loss-day'].max() - residual_csv['Loss-day'].min())\n",
    "residual_csv['Loss-country'] = (residual_csv['Loss-country'] - residual_csv['Loss-country'].min()) / (residual_csv['Loss-country'].max() - residual_csv['Loss-country'].min())\n",
    "residual_csv['Loss-company'] = (residual_csv['Loss-company'] - residual_csv['Loss-company'].min()) / (residual_csv['Loss-company'].max() - residual_csv['Loss-company'].min())\n",
    "residual_csv['Loss'] = (residual_csv['Loss'] - residual_csv['Loss'].min()) / (residual_csv['Loss'].max() - residual_csv['Loss'].min())\n",
    "residual_csv['att_avg'] = (residual_csv['Loss-user'] + residual_csv['Loss-day'] + residual_csv['Loss-country'] + residual_csv['Loss-company'])/4\n",
    "residual_csv['att_max'] = residual_csv[['Loss-user','Loss-day','Loss-country','Loss-company']].max(axis=1)"
   ]
  },
  {
   "cell_type": "code",
   "execution_count": 19,
   "id": "b45239c9",
   "metadata": {},
   "outputs": [
    {
     "name": "stdout",
     "output_type": "stream",
     "text": [
      "9\n",
      "9\n"
     ]
    },
    {
     "data": {
      "text/html": [
       "<div>\n",
       "<style scoped>\n",
       "    .dataframe tbody tr th:only-of-type {\n",
       "        vertical-align: middle;\n",
       "    }\n",
       "\n",
       "    .dataframe tbody tr th {\n",
       "        vertical-align: top;\n",
       "    }\n",
       "\n",
       "    .dataframe thead th {\n",
       "        text-align: right;\n",
       "    }\n",
       "</style>\n",
       "<table border=\"1\" class=\"dataframe\">\n",
       "  <thead>\n",
       "    <tr style=\"text-align: right;\">\n",
       "      <th></th>\n",
       "      <th>case_id</th>\n",
       "      <th>Loss</th>\n",
       "      <th>Loss-user</th>\n",
       "      <th>Loss-day</th>\n",
       "      <th>Loss-country</th>\n",
       "      <th>Loss-company</th>\n",
       "      <th>label</th>\n",
       "      <th>anomaly</th>\n",
       "      <th>att_avg</th>\n",
       "      <th>att_max</th>\n",
       "    </tr>\n",
       "  </thead>\n",
       "  <tbody>\n",
       "    <tr>\n",
       "      <th>171</th>\n",
       "      <td>12172</td>\n",
       "      <td>0.125141</td>\n",
       "      <td>0.278458</td>\n",
       "      <td>0.243896</td>\n",
       "      <td>0.190243</td>\n",
       "      <td>0.396017</td>\n",
       "      <td>{'anomaly': 'Attribute', 'attr': {'attribute':...</td>\n",
       "      <td>1</td>\n",
       "      <td>0.277154</td>\n",
       "      <td>0.396017</td>\n",
       "    </tr>\n",
       "    <tr>\n",
       "      <th>193</th>\n",
       "      <td>12194</td>\n",
       "      <td>1.000000</td>\n",
       "      <td>0.592092</td>\n",
       "      <td>0.558853</td>\n",
       "      <td>0.386582</td>\n",
       "      <td>0.509334</td>\n",
       "      <td>{'anomaly': 'Early', 'attr': {'shift_from': 9,...</td>\n",
       "      <td>1</td>\n",
       "      <td>0.511715</td>\n",
       "      <td>0.592092</td>\n",
       "    </tr>\n",
       "    <tr>\n",
       "      <th>281</th>\n",
       "      <td>12282</td>\n",
       "      <td>0.251872</td>\n",
       "      <td>0.519363</td>\n",
       "      <td>0.338422</td>\n",
       "      <td>0.287423</td>\n",
       "      <td>0.352370</td>\n",
       "      <td>{'anomaly': 'Attribute', 'attr': {'attribute':...</td>\n",
       "      <td>1</td>\n",
       "      <td>0.374395</td>\n",
       "      <td>0.519363</td>\n",
       "    </tr>\n",
       "    <tr>\n",
       "      <th>447</th>\n",
       "      <td>12448</td>\n",
       "      <td>0.242702</td>\n",
       "      <td>0.475820</td>\n",
       "      <td>0.352600</td>\n",
       "      <td>0.388706</td>\n",
       "      <td>0.206056</td>\n",
       "      <td>{'anomaly': 'Early', 'attr': {'shift_from': 3,...</td>\n",
       "      <td>1</td>\n",
       "      <td>0.355796</td>\n",
       "      <td>0.475820</td>\n",
       "    </tr>\n",
       "    <tr>\n",
       "      <th>760</th>\n",
       "      <td>12761</td>\n",
       "      <td>0.188253</td>\n",
       "      <td>0.418025</td>\n",
       "      <td>0.348338</td>\n",
       "      <td>0.258138</td>\n",
       "      <td>0.479392</td>\n",
       "      <td>{'anomaly': 'Attribute', 'attr': {'attribute':...</td>\n",
       "      <td>1</td>\n",
       "      <td>0.375973</td>\n",
       "      <td>0.479392</td>\n",
       "    </tr>\n",
       "    <tr>\n",
       "      <th>1726</th>\n",
       "      <td>13727</td>\n",
       "      <td>0.545051</td>\n",
       "      <td>1.000000</td>\n",
       "      <td>1.000000</td>\n",
       "      <td>1.000000</td>\n",
       "      <td>1.000000</td>\n",
       "      <td>{'anomaly': 'Attribute', 'attr': {'attribute':...</td>\n",
       "      <td>1</td>\n",
       "      <td>1.000000</td>\n",
       "      <td>1.000000</td>\n",
       "    </tr>\n",
       "    <tr>\n",
       "      <th>2206</th>\n",
       "      <td>14207</td>\n",
       "      <td>0.506867</td>\n",
       "      <td>0.355157</td>\n",
       "      <td>0.398146</td>\n",
       "      <td>0.244751</td>\n",
       "      <td>0.330335</td>\n",
       "      <td>{'anomaly': 'Attribute', 'attr': {'attribute':...</td>\n",
       "      <td>1</td>\n",
       "      <td>0.332097</td>\n",
       "      <td>0.398146</td>\n",
       "    </tr>\n",
       "    <tr>\n",
       "      <th>2631</th>\n",
       "      <td>14632</td>\n",
       "      <td>0.557470</td>\n",
       "      <td>0.417615</td>\n",
       "      <td>0.390470</td>\n",
       "      <td>0.197869</td>\n",
       "      <td>0.524538</td>\n",
       "      <td>{'anomaly': 'Late', 'attr': {'shift_from': 0, ...</td>\n",
       "      <td>1</td>\n",
       "      <td>0.382623</td>\n",
       "      <td>0.524538</td>\n",
       "    </tr>\n",
       "    <tr>\n",
       "      <th>2960</th>\n",
       "      <td>14961</td>\n",
       "      <td>0.178486</td>\n",
       "      <td>0.446332</td>\n",
       "      <td>0.299552</td>\n",
       "      <td>0.312105</td>\n",
       "      <td>0.480918</td>\n",
       "      <td>{'anomaly': 'Attribute', 'attr': {'attribute':...</td>\n",
       "      <td>1</td>\n",
       "      <td>0.384726</td>\n",
       "      <td>0.480918</td>\n",
       "    </tr>\n",
       "  </tbody>\n",
       "</table>\n",
       "</div>"
      ],
      "text/plain": [
       "      case_id      Loss  Loss-user  Loss-day  Loss-country  Loss-company  \\\n",
       "171     12172  0.125141   0.278458  0.243896      0.190243      0.396017   \n",
       "193     12194  1.000000   0.592092  0.558853      0.386582      0.509334   \n",
       "281     12282  0.251872   0.519363  0.338422      0.287423      0.352370   \n",
       "447     12448  0.242702   0.475820  0.352600      0.388706      0.206056   \n",
       "760     12761  0.188253   0.418025  0.348338      0.258138      0.479392   \n",
       "1726    13727  0.545051   1.000000  1.000000      1.000000      1.000000   \n",
       "2206    14207  0.506867   0.355157  0.398146      0.244751      0.330335   \n",
       "2631    14632  0.557470   0.417615  0.390470      0.197869      0.524538   \n",
       "2960    14961  0.178486   0.446332  0.299552      0.312105      0.480918   \n",
       "\n",
       "                                                  label  anomaly   att_avg  \\\n",
       "171   {'anomaly': 'Attribute', 'attr': {'attribute':...        1  0.277154   \n",
       "193   {'anomaly': 'Early', 'attr': {'shift_from': 9,...        1  0.511715   \n",
       "281   {'anomaly': 'Attribute', 'attr': {'attribute':...        1  0.374395   \n",
       "447   {'anomaly': 'Early', 'attr': {'shift_from': 3,...        1  0.355796   \n",
       "760   {'anomaly': 'Attribute', 'attr': {'attribute':...        1  0.375973   \n",
       "1726  {'anomaly': 'Attribute', 'attr': {'attribute':...        1  1.000000   \n",
       "2206  {'anomaly': 'Attribute', 'attr': {'attribute':...        1  0.332097   \n",
       "2631  {'anomaly': 'Late', 'attr': {'shift_from': 0, ...        1  0.382623   \n",
       "2960  {'anomaly': 'Attribute', 'attr': {'attribute':...        1  0.384726   \n",
       "\n",
       "       att_max  \n",
       "171   0.396017  \n",
       "193   0.592092  \n",
       "281   0.519363  \n",
       "447   0.475820  \n",
       "760   0.479392  \n",
       "1726  1.000000  \n",
       "2206  0.398146  \n",
       "2631  0.524538  \n",
       "2960  0.480918  "
      ]
     },
     "execution_count": 19,
     "metadata": {},
     "output_type": "execute_result"
    }
   ],
   "source": [
    "guess2 = residual_csv.loc[residual_csv['att_max'] > 0.39]\n",
    "print(len(guess2))\n",
    "print(np.sum(guess2['anomaly']))\n",
    "guess2.head(10)"
   ]
  }
 ],
 "metadata": {
  "kernelspec": {
   "display_name": "Python 3 (ipykernel)",
   "language": "python",
   "name": "python3"
  },
  "language_info": {
   "codemirror_mode": {
    "name": "ipython",
    "version": 3
   },
   "file_extension": ".py",
   "mimetype": "text/x-python",
   "name": "python",
   "nbconvert_exporter": "python",
   "pygments_lexer": "ipython3",
   "version": "3.9.7"
  }
 },
 "nbformat": 4,
 "nbformat_minor": 5
}
